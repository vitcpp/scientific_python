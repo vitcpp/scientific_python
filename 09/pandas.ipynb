{
 "cells": [
  {
   "cell_type": "markdown",
   "id": "540cae76-312e-4c12-957a-22a9f1ff0abb",
   "metadata": {},
   "source": [
    "# Пакет Pandas (Python Data Analysis Library)\n",
    "\n",
    "Пакет для Python, реализующий быстрые, функциональные и выразительные структуры данных, разработанные для обеспечения удобной работы работы с данными, как с реляционными или именованными данными. Целью пакета является предоставление базовых \"строительных\" блоков для анализа данных на Python. В дополнение, пакет имеет широкую цель стать наиболее мощным и функциональным open source инструментом для анализа данных, доступным на любом языке.\n",
    "\n",
    "Pandas подходит для следующих видов данных:\n",
    "* Табличные данные со столбами разных типов (SQL или MS Excel)\n",
    "* Упорядоченные или неупорядоченные временные серии\n",
    "* Произвольные двухмерные данные (матрицы) с подписями строк и столбцов (pivot)\n",
    "* Наблюдаемые или статистические данные\n",
    "\n",
    "Лекция основана на официальной документации с сайта pandas.pydata.org:\n",
    "\n",
    "https://pandas.pydata.org/pandas-docs/stable/user_guide/index.html"
   ]
  },
  {
   "cell_type": "markdown",
   "id": "4bc91cf3-8775-46d0-b688-fc68af1fb904",
   "metadata": {},
   "source": [
    "# Эксель-таблица\n",
    "\n",
    "* Бесконечная таблица\n",
    "    * По вертикали столбцы с символьными именами\n",
    "    * По горизонтали строки с номерами\n",
    "* Доступ через операцию индексации A1:C20\n",
    "\n",
    "Минусы:\n",
    "* Сложность реализации вычислений с таблицей (надо тянуть мышкой контент в ячейках)\n",
    "* Низкая производительность"
   ]
  },
  {
   "cell_type": "markdown",
   "id": "4b9b2f3b-dc14-4c4b-9428-7b3f4328f4b3",
   "metadata": {},
   "source": [
    "# Реляционная модель\n",
    "\n",
    "* Таблицы, столбцы, строки (кортежи)\n",
    "* Реляционная алгебра\n",
    "* SELECT ... FROM ... WHERE ... GROUP BY\n",
    "\n",
    "Основными понятиями реляционных баз данных являются тип данных, домен, атрибут, кортеж, первичный ключ и отношение. Таблица хранит информацию о элементах отношения «кинофильмы». Каждая строка отвечает одной сущности «кинофильм», а каждый столбец одному из атрибутов множеству сущностей «кинофильмы». Отношения могут хранить не только множества сущностей, но и экземпляры связей."
   ]
  },
  {
   "cell_type": "markdown",
   "id": "c87ab37a-2a33-44a3-a319-34142f7390b2",
   "metadata": {},
   "source": [
    "# CRUD\n",
    "* Create\n",
    "* Read\n",
    "* Update\n",
    "* Delete\n",
    "\n",
    "Акроним, обозначающий четыре базовые функции, используемые при работе с базами данных: создание (create), чтение (read), модификация (update), удаление (delete). Введён Джеймсом Мартином (англ. James Martin) в 1983 году как стандартная классификация функций по манипуляции данными.\n",
    "\n",
    "В SQL этим функциям, операциям соответствуют операторы Insert (создание записей), Select (чтение записей), Update (редактирование записей), Delete (удаление записей). В некоторых CASE-средствах использовались специализированные CRUD-матрицы или CRUD-диаграммы, в которых для каждой сущности указывалось, какие базовые функции с этой сущностью выполняет тот или иной процесс или та или иная роль."
   ]
  },
  {
   "cell_type": "code",
   "execution_count": 1,
   "id": "6bcddfe1-4481-4ddf-8b1d-2506a355c889",
   "metadata": {},
   "outputs": [],
   "source": [
    "import warnings\n",
    "warnings.simplefilter(action='ignore', category=FutureWarning)\n",
    "\n",
    "import pandas as pd\n",
    "import numpy as np\n",
    "import tabulate\n",
    "import datetime"
   ]
  },
  {
   "cell_type": "markdown",
   "id": "8ddcaa12-46ba-45fc-aef2-ba773a501da7",
   "metadata": {
    "editable": true,
    "slideshow": {
     "slide_type": ""
    },
    "tags": []
   },
   "source": [
    "# Тип Series\n",
    "\n",
    "Тип __Series__\n",
    "* Одномерный (упорядоченный) массив с индексацией\n",
    "* Поддерживает следующие типы: integers, strings, floating point numbers, Python objects, etc.\n",
    "* Индекс - список меток (имен, labels) строк\n",
    "\n",
    "По-умолчанию, используются номера строк, начиная с 0, в качестве индекса.\n",
    "\n",
    "Общий синтаксис:\n",
    "```\n",
    "s = pd.Series(data, index=index)\n",
    "```\n",
    "\n",
    "Источники данных:\n",
    "* Скаляр\n",
    "* Словарь\n",
    "* Список\n",
    "* numpy.ndarray"
   ]
  },
  {
   "cell_type": "markdown",
   "id": "e87183e1-a5b4-4f04-a643-f55ab3511e31",
   "metadata": {
    "editable": true,
    "slideshow": {
     "slide_type": "slide"
    },
    "tags": []
   },
   "source": [
    "## Создание объекта (CREATE)\n",
    "\n",
    "* __pd.Series([1.1, 1.2, 1.05])__ - индекс по-умолчанию\n",
    "* __pd.Series([1.1, 2.2, 3.3], index = [\"a\", \"b\", \"c\"])__ - индекс в виде списка имен\n",
    "* __pd.Series([1, 2, 3], index = list(\"abc\"), dtype=np.int16)__ - задан тип\n",
    "* __pd.Series(np.random.randn(5), index=[\"first\", \"second\", \"third\", \"fourth\", \"fifth\"])__ - numpy.ndarray\n",
    "* __pd.Series({ \"a\": 1, \"b\": 2, \"c\": 3 })__ - словарь\n",
    "* __pd.Series({ \"a\": 1, \"b\": 2, \"c\": 3 }, index = [\"b\", \"c\", \"d\", \"a\", \"e\"])__\n",
    "* __pd.Series(1.1, index = list(\"abcde\"), name = \"Серия 1\")__ - задание имени"
   ]
  },
  {
   "cell_type": "code",
   "execution_count": 5,
   "id": "79c3bfb9-3633-46ab-b8e6-a0396ca3b3c2",
   "metadata": {},
   "outputs": [
    {
     "data": {
      "text/plain": [
       "a    1.1\n",
       "b    1.1\n",
       "c    1.1\n",
       "d    1.1\n",
       "e    1.1\n",
       "Name: Серия 1, dtype: float64"
      ]
     },
     "execution_count": 5,
     "metadata": {},
     "output_type": "execute_result"
    }
   ],
   "source": [
    "pd.Series(1.1, index = list(\"abcde\"), name = \"Серия 1\") "
   ]
  },
  {
   "cell_type": "markdown",
   "id": "7a1863b2-d71d-42ed-83bd-690014062b6c",
   "metadata": {
    "editable": true,
    "slideshow": {
     "slide_type": ""
    },
    "tags": []
   },
   "source": [
    "## Чтение (READ)"
   ]
  },
  {
   "cell_type": "code",
   "execution_count": 3,
   "id": "077044d8-2b74-48dc-8638-45c1d5ef5b19",
   "metadata": {},
   "outputs": [],
   "source": [
    "s = pd.Series(np.random.rand(26), index=list(\"abcdefghijklmnopqrstuvwxyz\"))"
   ]
  },
  {
   "cell_type": "markdown",
   "id": "72bce2c5-4453-4d62-800e-cde2e52b7966",
   "metadata": {
    "editable": true,
    "slideshow": {
     "slide_type": ""
    },
    "tags": []
   },
   "source": [
    "### Метод []\n",
    "* __s[2]__ - доступ к элементу по индексу (порядковому номеру)\n",
    "* __s[\"a\"]__ - доступ по строковой метке (строковый индекс)\n",
    "* __s[1:4]__ - срез\n",
    "* __s[[7, 4, 2]]__ - выборка по списку номеров\n",
    "* __s[boolarray]__ - выборка по булевой маске\n",
    "    * __s[[True, False, True, ...]]\n",
    "    * __s[s > 0.5]__ - выборка по условию (результат отработки условия - булева маска)\n",
    "* __s[callable]__ - выборка с использованием объекта-функции"
   ]
  },
  {
   "cell_type": "code",
   "execution_count": null,
   "id": "30fb9e33-d41a-4e56-96aa-ff39349646ad",
   "metadata": {},
   "outputs": [],
   "source": []
  },
  {
   "cell_type": "markdown",
   "id": "49ab9f2b-0d6e-4e04-8faf-406cf542d450",
   "metadata": {},
   "source": [
    "### loc\n",
    "* __s.loc[\"a\"]__ - доступ по метке\n",
    "* __s.loc[[\"a\", \"b\", \"h\"]]__ - выборка элементов по списку меток\n",
    "* __s.loc[\"a\":\"j\"]__ - доступ по slice меток\n",
    "* __s.loc[s > 0.8]__ - выборка по условию\n",
    "* __s.loc[callable]__ - выборка с использованием объекта-функции\n",
    "* __s.iloc[[x % 3 == 0 for x in range(26)]]__\n",
    "* __s.loc[(x % 3 == 0 for x in range(26))]__\n",
    "\n",
    "Callable examples:\n",
    "* s.loc[lambda s : s > 0.5]\n"
   ]
  },
  {
   "cell_type": "code",
   "execution_count": 4,
   "id": "c7515bb8-b3d9-4aca-bf2b-47bb4df6a7a9",
   "metadata": {},
   "outputs": [],
   "source": [
    "s.loc[(x % 3 == 0 for x in range(26))];"
   ]
  },
  {
   "cell_type": "markdown",
   "id": "b74dc9cf-3063-493e-a336-63624999f11a",
   "metadata": {},
   "source": [
    "### iloc\n",
    "* __s.iloc[10]__\n",
    "* __s.iloc[[1, 4, 2, 2, 5]]__\n",
    "* __s.iloc[[ (x * x) % 26 for x in range(26) ]]__\n",
    "* __s.iloc[2:4]__\n",
    "* __s.iloc[callable]__\n",
    "    * __s.iloc[lambda s : s > 0]__\n",
    "    * __s.iloc[(x % 3 == 0 for x in range(26))]__\n",
    "* __s.iloc[list_of_bool]__\n",
    "    * __s.iloc[[True, False, ...]]__\n",
    "    * __s.iloc[[x % 2 == 0 for x in range(26)]]__"
   ]
  },
  {
   "cell_type": "code",
   "execution_count": 5,
   "id": "987d129f-f323-4a96-9765-237f2cc25063",
   "metadata": {},
   "outputs": [],
   "source": [
    "s.iloc[[ (x * x) % 26 for x in range(26) ]];"
   ]
  },
  {
   "cell_type": "markdown",
   "id": "6f27f69a-328c-43bb-8c91-4738a99358ee",
   "metadata": {},
   "source": [
    "### at\n",
    "\n",
    "Выбор одного элемента"
   ]
  },
  {
   "cell_type": "code",
   "execution_count": 6,
   "id": "75e67597-712a-4569-9729-1831a7c65f8b",
   "metadata": {
    "editable": true,
    "slideshow": {
     "slide_type": ""
    },
    "tags": []
   },
   "outputs": [
    {
     "data": {
      "text/plain": [
       "0.03503849417175797"
      ]
     },
     "execution_count": 6,
     "metadata": {},
     "output_type": "execute_result"
    }
   ],
   "source": [
    "s.at[\"a\"]"
   ]
  },
  {
   "cell_type": "markdown",
   "id": "1fd8c674-7b64-4f62-86ca-2f5de9d13d3c",
   "metadata": {
    "editable": true,
    "slideshow": {
     "slide_type": ""
    },
    "tags": []
   },
   "source": [
    "### head, tail"
   ]
  },
  {
   "cell_type": "code",
   "execution_count": 7,
   "id": "d478b1c2-59a1-49fb-a497-f521d8b3898f",
   "metadata": {
    "editable": true,
    "slideshow": {
     "slide_type": ""
    },
    "tags": []
   },
   "outputs": [
    {
     "data": {
      "text/plain": [
       "a    0.035038\n",
       "b    0.974106\n",
       "c    0.447031\n",
       "dtype: float64"
      ]
     },
     "execution_count": 7,
     "metadata": {},
     "output_type": "execute_result"
    }
   ],
   "source": [
    "s.head(3)"
   ]
  },
  {
   "cell_type": "code",
   "execution_count": 8,
   "id": "820fb2d1-4b8d-473b-b5c1-dda456134259",
   "metadata": {
    "editable": true,
    "slideshow": {
     "slide_type": ""
    },
    "tags": []
   },
   "outputs": [
    {
     "data": {
      "text/plain": [
       "z    0.086070\n",
       "y    0.625357\n",
       "x    0.663493\n",
       "w    0.870881\n",
       "v    0.654292\n",
       "dtype: float64"
      ]
     },
     "metadata": {},
     "output_type": "display_data"
    },
    {
     "data": {
      "text/plain": [
       "'z'"
      ]
     },
     "metadata": {},
     "output_type": "display_data"
    },
    {
     "data": {
      "text/plain": [
       "0.08606974056410621"
      ]
     },
     "metadata": {},
     "output_type": "display_data"
    },
    {
     "data": {
      "text/plain": [
       "0.28489859274207274"
      ]
     },
     "metadata": {},
     "output_type": "display_data"
    },
    {
     "name": "stdout",
     "output_type": "stream",
     "text": [
      "<pandas.core.indexing._LocIndexer object at 0x7ffba1bc61b0>\n"
     ]
    }
   ],
   "source": [
    "s = pd.Series(np.random.rand(26), index=list(reversed(\"abcdefghijklmnopqrstuvwxyz\")))\n",
    "display(s.head())\n",
    "display(s.index[0])\n",
    "display(s[0])\n",
    "display(s[\"a\"])\n",
    "print(s.loc(0))"
   ]
  },
  {
   "cell_type": "markdown",
   "id": "b3421574-b479-4aeb-80c4-469f45e40335",
   "metadata": {
    "editable": true,
    "slideshow": {
     "slide_type": "slide"
    },
    "tags": []
   },
   "source": [
    "# Тип DataFrame\n",
    "\n",
    "Тип __DataFrame__\n",
    "* Двумерный массив с индексацией\n",
    "* Индекс\n",
    "\n",
    "Можно рассматривать Series как контейнер для скаляров, а DataFrame как контейнер для Series."
   ]
  },
  {
   "cell_type": "markdown",
   "id": "32ff0b18-0399-42d0-91b8-6901c754d012",
   "metadata": {
    "editable": true,
    "slideshow": {
     "slide_type": ""
    },
    "tags": []
   },
   "source": [
    "## Создание объекта\n",
    "\n",
    "* Словарь из 1D ndarrays, lists, dicts, or Series\n",
    "* 2-D numpy.ndarray\n",
    "* Structured or record ndarray\n",
    "* Series\n",
    "* Другой DataFrame\n",
    "\n",
    "Варианты:\n",
    "* pd.DataFrame( [['11', '12'], ['21', '22'], ['31', '32']])\n",
    "* pd.DataFrame([['11', '12'], ['21', '22'], ['31', '32']], index=[\"L1\", \"L2\", \"L3\"], columns=[\"C1\", \"C2\"])\n",
    "* pd.DataFrame({\"one\": [1.0, 2.0, 3.0, 4.0], \"two\": [4.0, 3.0, 2.0, 1.0]})\n",
    "* pd.DataFrame([{\"a\": 1, \"b\": 2}, {\"a\": 5, \"b\": 10, \"c\": 20}, {\"a\": 3}])\n",
    "* pd.DataFrame([{\"a\": 1, \"b\": 2}, {\"a\": 5, \"b\": 10, \"c\": 20}, {\"a\": 3}], columns=[\"b\", \"a\"])\n",
    "* pd.DataFrame(pd.DataFrame(d, columns=[\"b\", \"a\"]), columns=[\"a\", \"b\"], index=[0, 3])"
   ]
  },
  {
   "cell_type": "code",
   "execution_count": 8,
   "id": "e9b9c8a1-9550-4179-8bfb-b8b126f30ca7",
   "metadata": {
    "editable": true,
    "slideshow": {
     "slide_type": ""
    },
    "tags": []
   },
   "outputs": [
    {
     "data": {
      "text/html": [
       "<div>\n",
       "<style scoped>\n",
       "    .dataframe tbody tr th:only-of-type {\n",
       "        vertical-align: middle;\n",
       "    }\n",
       "\n",
       "    .dataframe tbody tr th {\n",
       "        vertical-align: top;\n",
       "    }\n",
       "\n",
       "    .dataframe thead th {\n",
       "        text-align: right;\n",
       "    }\n",
       "</style>\n",
       "<table border=\"1\" class=\"dataframe\">\n",
       "  <thead>\n",
       "    <tr style=\"text-align: right;\">\n",
       "      <th></th>\n",
       "      <th>C1</th>\n",
       "      <th>C2</th>\n",
       "    </tr>\n",
       "  </thead>\n",
       "  <tbody>\n",
       "    <tr>\n",
       "      <th>L1</th>\n",
       "      <td>11</td>\n",
       "      <td>12</td>\n",
       "    </tr>\n",
       "    <tr>\n",
       "      <th>L2</th>\n",
       "      <td>21</td>\n",
       "      <td>22</td>\n",
       "    </tr>\n",
       "    <tr>\n",
       "      <th>L3</th>\n",
       "      <td>31</td>\n",
       "      <td>32</td>\n",
       "    </tr>\n",
       "  </tbody>\n",
       "</table>\n",
       "</div>"
      ],
      "text/plain": [
       "    C1  C2\n",
       "L1  11  12\n",
       "L2  21  22\n",
       "L3  31  32"
      ]
     },
     "execution_count": 8,
     "metadata": {},
     "output_type": "execute_result"
    }
   ],
   "source": [
    "# d = {\n",
    "#     \"COL1\": pd.Series([1.0, 2.0, 3.0], index=[\"a\", \"b\", \"c\"]),\n",
    "#     \"COL2\": pd.Series([1.0, 2.0, 3.0, 4.0], index=[\"a\", \"b\", \"c\", \"d\"]),\n",
    "# }\n",
    "# pd.DataFrame(d)\n",
    "\n",
    "pd.DataFrame([['11', '12'], ['21', '22'], ['31', '32']], index=[\"L1\", \"L2\", \"L3\"], columns=[\"C1\", \"C2\"])"
   ]
  },
  {
   "cell_type": "markdown",
   "id": "11e325d8-efe0-49f7-bde1-8c042c6ed485",
   "metadata": {},
   "source": []
  },
  {
   "cell_type": "markdown",
   "id": "e65223d5-def8-4c8f-919a-99ad5d33dbb7",
   "metadata": {
    "editable": true,
    "slideshow": {
     "slide_type": ""
    },
    "tags": []
   },
   "source": [
    "## Чтение (READ)"
   ]
  },
  {
   "cell_type": "code",
   "execution_count": 10,
   "id": "6e2d3c27-6772-4d50-a5e3-5887c813f633",
   "metadata": {},
   "outputs": [],
   "source": [
    "df = pd.DataFrame(np.random.rand(10, 5), index = list(\"abcdefghij\"), columns=list(\"ABCDF\"))"
   ]
  },
  {
   "cell_type": "markdown",
   "id": "8f563c13-6bd8-439e-802a-7d6c7900a5c3",
   "metadata": {},
   "source": [
    "### Метод []\n",
    "\n",
    "* df[1:3] - выборка строк по срезу\n",
    "* df[\"c\":\"f\"]\n",
    "* df[boolarray] - выборка по списку bool\n",
    "* df[\"A\"] - доступ к столбцу по имени\n",
    "* df[[\"A\", \"C\"]] - выборка по списку столбцов"
   ]
  },
  {
   "cell_type": "code",
   "execution_count": 28,
   "id": "9b23d639-767c-4718-a2e9-af8514663816",
   "metadata": {},
   "outputs": [
    {
     "data": {
      "text/html": [
       "<div>\n",
       "<style scoped>\n",
       "    .dataframe tbody tr th:only-of-type {\n",
       "        vertical-align: middle;\n",
       "    }\n",
       "\n",
       "    .dataframe tbody tr th {\n",
       "        vertical-align: top;\n",
       "    }\n",
       "\n",
       "    .dataframe thead th {\n",
       "        text-align: right;\n",
       "    }\n",
       "</style>\n",
       "<table border=\"1\" class=\"dataframe\">\n",
       "  <thead>\n",
       "    <tr style=\"text-align: right;\">\n",
       "      <th></th>\n",
       "      <th>A</th>\n",
       "      <th>B</th>\n",
       "      <th>C</th>\n",
       "      <th>D</th>\n",
       "      <th>F</th>\n",
       "    </tr>\n",
       "  </thead>\n",
       "  <tbody>\n",
       "    <tr>\n",
       "      <th>d</th>\n",
       "      <td>0.558544</td>\n",
       "      <td>0.647646</td>\n",
       "      <td>0.411030</td>\n",
       "      <td>0.225828</td>\n",
       "      <td>0.115639</td>\n",
       "    </tr>\n",
       "    <tr>\n",
       "      <th>e</th>\n",
       "      <td>0.137456</td>\n",
       "      <td>0.990498</td>\n",
       "      <td>0.756299</td>\n",
       "      <td>0.939600</td>\n",
       "      <td>0.989553</td>\n",
       "    </tr>\n",
       "  </tbody>\n",
       "</table>\n",
       "</div>"
      ],
      "text/plain": [
       "          A         B         C         D         F\n",
       "d  0.558544  0.647646  0.411030  0.225828  0.115639\n",
       "e  0.137456  0.990498  0.756299  0.939600  0.989553"
      ]
     },
     "execution_count": 28,
     "metadata": {},
     "output_type": "execute_result"
    }
   ],
   "source": [
    "df[3:5]"
   ]
  },
  {
   "cell_type": "markdown",
   "id": "1d7de470-da37-4e33-b398-d8cc6f82de36",
   "metadata": {},
   "source": [
    "### loc\n",
    "\n",
    "__df.loc[rowindexer, columnindexer]__\n",
    "\n",
    "__rowindexer:__\n",
    "* Список лейблов\n",
    "* Срез лейблов\n",
    "* Массив булевых значений\n",
    "\n",
    "__Примеры:__\n",
    "* df.loc[1, [\"A\", \"B\"]]\n",
    "* df.loc[1:3, \"A\"]\n",
    "* df.loc[[1, 4, 7], [\"B\", \"A\"]]\n",
    "* df.loc[4, 1:2]\n",
    "* df.loc[boolarray]\n",
    "* df.loc[lambda x: x[\"A\"] > 0, :]\n"
   ]
  },
  {
   "cell_type": "code",
   "execution_count": 35,
   "id": "1703c730-1be9-4b43-a51e-fe62f35d8c77",
   "metadata": {},
   "outputs": [
    {
     "data": {
      "text/html": [
       "<div>\n",
       "<style scoped>\n",
       "    .dataframe tbody tr th:only-of-type {\n",
       "        vertical-align: middle;\n",
       "    }\n",
       "\n",
       "    .dataframe tbody tr th {\n",
       "        vertical-align: top;\n",
       "    }\n",
       "\n",
       "    .dataframe thead th {\n",
       "        text-align: right;\n",
       "    }\n",
       "</style>\n",
       "<table border=\"1\" class=\"dataframe\">\n",
       "  <thead>\n",
       "    <tr style=\"text-align: right;\">\n",
       "      <th></th>\n",
       "      <th>A</th>\n",
       "      <th>B</th>\n",
       "      <th>C</th>\n",
       "      <th>D</th>\n",
       "      <th>F</th>\n",
       "    </tr>\n",
       "  </thead>\n",
       "  <tbody>\n",
       "    <tr>\n",
       "      <th>a</th>\n",
       "      <td>0.577663</td>\n",
       "      <td>0.501388</td>\n",
       "      <td>0.320682</td>\n",
       "      <td>0.538627</td>\n",
       "      <td>0.439830</td>\n",
       "    </tr>\n",
       "    <tr>\n",
       "      <th>d</th>\n",
       "      <td>0.558544</td>\n",
       "      <td>0.647646</td>\n",
       "      <td>0.411030</td>\n",
       "      <td>0.225828</td>\n",
       "      <td>0.115639</td>\n",
       "    </tr>\n",
       "    <tr>\n",
       "      <th>g</th>\n",
       "      <td>0.959753</td>\n",
       "      <td>0.445247</td>\n",
       "      <td>0.740367</td>\n",
       "      <td>0.228129</td>\n",
       "      <td>0.091683</td>\n",
       "    </tr>\n",
       "    <tr>\n",
       "      <th>h</th>\n",
       "      <td>0.846094</td>\n",
       "      <td>0.979272</td>\n",
       "      <td>0.324588</td>\n",
       "      <td>0.344975</td>\n",
       "      <td>0.300143</td>\n",
       "    </tr>\n",
       "  </tbody>\n",
       "</table>\n",
       "</div>"
      ],
      "text/plain": [
       "          A         B         C         D         F\n",
       "a  0.577663  0.501388  0.320682  0.538627  0.439830\n",
       "d  0.558544  0.647646  0.411030  0.225828  0.115639\n",
       "g  0.959753  0.445247  0.740367  0.228129  0.091683\n",
       "h  0.846094  0.979272  0.324588  0.344975  0.300143"
      ]
     },
     "execution_count": 35,
     "metadata": {},
     "output_type": "execute_result"
    }
   ],
   "source": [
    "#display(df)\n",
    "df.loc[lambda x: x[\"A\"] > 0.5, :]"
   ]
  },
  {
   "cell_type": "markdown",
   "id": "8604e331-446b-48cb-b6c6-14899653abc5",
   "metadata": {},
   "source": [
    "## iloc\n",
    "\n",
    "Доступ к подмножеству по целочисленным номерам, а не по лейблам индекса.\n",
    "\n",
    "__df.loc[rowindexer, columnindexer]__\n",
    "\n",
    "__rowindexer:__\n",
    "* Список номеров строк\n",
    "* Срез номеров строк\n",
    "\n",
    "__Примеры:__\n",
    "* __df.iloc[1, 2]__\n",
    "* __df.iloc[1:3, 2]__\n",
    "* __df.iloc[[1, 4, 2, 2, 5], 0:1]__\n",
    "* __df.iloc[[ (x * x) % 26 for x in range(26) ], \"A\"]__\n",
    "* __df.iloc[2:4, \"A\"]__\n",
    "* __df.iloc[callable]__\n",
    "* __s.iloc[list_of_bool, columns]__"
   ]
  },
  {
   "cell_type": "code",
   "execution_count": 38,
   "id": "0e925e6e-3c2a-4330-9556-dcfb98111c3c",
   "metadata": {},
   "outputs": [
    {
     "ename": "ValueError",
     "evalue": "Location based indexing can only have [integer, integer slice (START point is INCLUDED, END point is EXCLUDED), listlike of integers, boolean array] types",
     "output_type": "error",
     "traceback": [
      "\u001b[0;31m---------------------------------------------------------------------------\u001b[0m",
      "\u001b[0;31mValueError\u001b[0m                                Traceback (most recent call last)",
      "\u001b[0;32m~/.local/lib/python3.10/site-packages/pandas/core/indexing.py\u001b[0m in \u001b[0;36m_validate_tuple_indexer\u001b[0;34m(self, key)\u001b[0m\n\u001b[1;32m    903\u001b[0m             \u001b[0;32mtry\u001b[0m\u001b[0;34m:\u001b[0m\u001b[0;34m\u001b[0m\u001b[0;34m\u001b[0m\u001b[0m\n\u001b[0;32m--> 904\u001b[0;31m                 \u001b[0mself\u001b[0m\u001b[0;34m.\u001b[0m\u001b[0m_validate_key\u001b[0m\u001b[0;34m(\u001b[0m\u001b[0mk\u001b[0m\u001b[0;34m,\u001b[0m \u001b[0mi\u001b[0m\u001b[0;34m)\u001b[0m\u001b[0;34m\u001b[0m\u001b[0;34m\u001b[0m\u001b[0m\n\u001b[0m\u001b[1;32m    905\u001b[0m             \u001b[0;32mexcept\u001b[0m \u001b[0mValueError\u001b[0m \u001b[0;32mas\u001b[0m \u001b[0merr\u001b[0m\u001b[0;34m:\u001b[0m\u001b[0;34m\u001b[0m\u001b[0;34m\u001b[0m\u001b[0m\n",
      "\u001b[0;32m~/.local/lib/python3.10/site-packages/pandas/core/indexing.py\u001b[0m in \u001b[0;36m_validate_key\u001b[0;34m(self, key, axis)\u001b[0m\n\u001b[1;32m   1517\u001b[0m         \u001b[0;32melse\u001b[0m\u001b[0;34m:\u001b[0m\u001b[0;34m\u001b[0m\u001b[0;34m\u001b[0m\u001b[0m\n\u001b[0;32m-> 1518\u001b[0;31m             \u001b[0;32mraise\u001b[0m \u001b[0mValueError\u001b[0m\u001b[0;34m(\u001b[0m\u001b[0;34mf\"Can only index by location with a [{self._valid_types}]\"\u001b[0m\u001b[0;34m)\u001b[0m\u001b[0;34m\u001b[0m\u001b[0;34m\u001b[0m\u001b[0m\n\u001b[0m\u001b[1;32m   1519\u001b[0m \u001b[0;34m\u001b[0m\u001b[0m\n",
      "\u001b[0;31mValueError\u001b[0m: Can only index by location with a [integer, integer slice (START point is INCLUDED, END point is EXCLUDED), listlike of integers, boolean array]",
      "\nThe above exception was the direct cause of the following exception:\n",
      "\u001b[0;31mValueError\u001b[0m                                Traceback (most recent call last)",
      "\u001b[0;32m/tmp/ipykernel_14513/4090197363.py\u001b[0m in \u001b[0;36m<module>\u001b[0;34m\u001b[0m\n\u001b[1;32m      1\u001b[0m \u001b[0;31m#df.iloc[[ (x * x) % 10 for x in range(10) ]]\u001b[0m\u001b[0;34m\u001b[0m\u001b[0;34m\u001b[0m\u001b[0m\n\u001b[0;32m----> 2\u001b[0;31m \u001b[0mdf\u001b[0m\u001b[0;34m.\u001b[0m\u001b[0miloc\u001b[0m\u001b[0;34m[\u001b[0m\u001b[0;36m1\u001b[0m\u001b[0;34m:\u001b[0m\u001b[0;36m3\u001b[0m\u001b[0;34m,\u001b[0m \u001b[0;34m\"A\"\u001b[0m\u001b[0;34m]\u001b[0m\u001b[0;34m\u001b[0m\u001b[0;34m\u001b[0m\u001b[0m\n\u001b[0m",
      "\u001b[0;32m~/.local/lib/python3.10/site-packages/pandas/core/indexing.py\u001b[0m in \u001b[0;36m__getitem__\u001b[0;34m(self, key)\u001b[0m\n\u001b[1;32m   1095\u001b[0m             \u001b[0;32mif\u001b[0m \u001b[0mself\u001b[0m\u001b[0;34m.\u001b[0m\u001b[0m_is_scalar_access\u001b[0m\u001b[0;34m(\u001b[0m\u001b[0mkey\u001b[0m\u001b[0;34m)\u001b[0m\u001b[0;34m:\u001b[0m\u001b[0;34m\u001b[0m\u001b[0;34m\u001b[0m\u001b[0m\n\u001b[1;32m   1096\u001b[0m                 \u001b[0;32mreturn\u001b[0m \u001b[0mself\u001b[0m\u001b[0;34m.\u001b[0m\u001b[0mobj\u001b[0m\u001b[0;34m.\u001b[0m\u001b[0m_get_value\u001b[0m\u001b[0;34m(\u001b[0m\u001b[0;34m*\u001b[0m\u001b[0mkey\u001b[0m\u001b[0;34m,\u001b[0m \u001b[0mtakeable\u001b[0m\u001b[0;34m=\u001b[0m\u001b[0mself\u001b[0m\u001b[0;34m.\u001b[0m\u001b[0m_takeable\u001b[0m\u001b[0;34m)\u001b[0m\u001b[0;34m\u001b[0m\u001b[0;34m\u001b[0m\u001b[0m\n\u001b[0;32m-> 1097\u001b[0;31m             \u001b[0;32mreturn\u001b[0m \u001b[0mself\u001b[0m\u001b[0;34m.\u001b[0m\u001b[0m_getitem_tuple\u001b[0m\u001b[0;34m(\u001b[0m\u001b[0mkey\u001b[0m\u001b[0;34m)\u001b[0m\u001b[0;34m\u001b[0m\u001b[0;34m\u001b[0m\u001b[0m\n\u001b[0m\u001b[1;32m   1098\u001b[0m         \u001b[0;32melse\u001b[0m\u001b[0;34m:\u001b[0m\u001b[0;34m\u001b[0m\u001b[0;34m\u001b[0m\u001b[0m\n\u001b[1;32m   1099\u001b[0m             \u001b[0;31m# we by definition only have the 0th axis\u001b[0m\u001b[0;34m\u001b[0m\u001b[0;34m\u001b[0m\u001b[0m\n",
      "\u001b[0;32m~/.local/lib/python3.10/site-packages/pandas/core/indexing.py\u001b[0m in \u001b[0;36m_getitem_tuple\u001b[0;34m(self, tup)\u001b[0m\n\u001b[1;32m   1592\u001b[0m \u001b[0;34m\u001b[0m\u001b[0m\n\u001b[1;32m   1593\u001b[0m     \u001b[0;32mdef\u001b[0m \u001b[0m_getitem_tuple\u001b[0m\u001b[0;34m(\u001b[0m\u001b[0mself\u001b[0m\u001b[0;34m,\u001b[0m \u001b[0mtup\u001b[0m\u001b[0;34m:\u001b[0m \u001b[0mtuple\u001b[0m\u001b[0;34m)\u001b[0m\u001b[0;34m:\u001b[0m\u001b[0;34m\u001b[0m\u001b[0;34m\u001b[0m\u001b[0m\n\u001b[0;32m-> 1594\u001b[0;31m         \u001b[0mtup\u001b[0m \u001b[0;34m=\u001b[0m \u001b[0mself\u001b[0m\u001b[0;34m.\u001b[0m\u001b[0m_validate_tuple_indexer\u001b[0m\u001b[0;34m(\u001b[0m\u001b[0mtup\u001b[0m\u001b[0;34m)\u001b[0m\u001b[0;34m\u001b[0m\u001b[0;34m\u001b[0m\u001b[0m\n\u001b[0m\u001b[1;32m   1595\u001b[0m         \u001b[0;32mwith\u001b[0m \u001b[0msuppress\u001b[0m\u001b[0;34m(\u001b[0m\u001b[0mIndexingError\u001b[0m\u001b[0;34m)\u001b[0m\u001b[0;34m:\u001b[0m\u001b[0;34m\u001b[0m\u001b[0;34m\u001b[0m\u001b[0m\n\u001b[1;32m   1596\u001b[0m             \u001b[0;32mreturn\u001b[0m \u001b[0mself\u001b[0m\u001b[0;34m.\u001b[0m\u001b[0m_getitem_lowerdim\u001b[0m\u001b[0;34m(\u001b[0m\u001b[0mtup\u001b[0m\u001b[0;34m)\u001b[0m\u001b[0;34m\u001b[0m\u001b[0;34m\u001b[0m\u001b[0m\n",
      "\u001b[0;32m~/.local/lib/python3.10/site-packages/pandas/core/indexing.py\u001b[0m in \u001b[0;36m_validate_tuple_indexer\u001b[0;34m(self, key)\u001b[0m\n\u001b[1;32m    904\u001b[0m                 \u001b[0mself\u001b[0m\u001b[0;34m.\u001b[0m\u001b[0m_validate_key\u001b[0m\u001b[0;34m(\u001b[0m\u001b[0mk\u001b[0m\u001b[0;34m,\u001b[0m \u001b[0mi\u001b[0m\u001b[0;34m)\u001b[0m\u001b[0;34m\u001b[0m\u001b[0;34m\u001b[0m\u001b[0m\n\u001b[1;32m    905\u001b[0m             \u001b[0;32mexcept\u001b[0m \u001b[0mValueError\u001b[0m \u001b[0;32mas\u001b[0m \u001b[0merr\u001b[0m\u001b[0;34m:\u001b[0m\u001b[0;34m\u001b[0m\u001b[0;34m\u001b[0m\u001b[0m\n\u001b[0;32m--> 906\u001b[0;31m                 raise ValueError(\n\u001b[0m\u001b[1;32m    907\u001b[0m                     \u001b[0;34m\"Location based indexing can only have \"\u001b[0m\u001b[0;34m\u001b[0m\u001b[0;34m\u001b[0m\u001b[0m\n\u001b[1;32m    908\u001b[0m                     \u001b[0;34mf\"[{self._valid_types}] types\"\u001b[0m\u001b[0;34m\u001b[0m\u001b[0;34m\u001b[0m\u001b[0m\n",
      "\u001b[0;31mValueError\u001b[0m: Location based indexing can only have [integer, integer slice (START point is INCLUDED, END point is EXCLUDED), listlike of integers, boolean array] types"
     ]
    }
   ],
   "source": [
    "#df.iloc[[ (x * x) % 10 for x in range(10) ]]\n",
    "df.iloc[1:3, \"A\"]"
   ]
  },
  {
   "cell_type": "markdown",
   "id": "f00f8adf-3c71-48ff-bcc6-4b4c01df73f2",
   "metadata": {},
   "source": [
    "### at\n",
    "\n",
    "Доступ к элементу по лейблам индекса и именам столбца."
   ]
  },
  {
   "cell_type": "code",
   "execution_count": 14,
   "id": "b0a99c78-d6ba-46b7-8144-896a87e21f98",
   "metadata": {},
   "outputs": [],
   "source": [
    "df.at[\"a\", \"A\"];"
   ]
  },
  {
   "cell_type": "markdown",
   "id": "1ec87c79-3b38-461b-b553-1518bc12d588",
   "metadata": {},
   "source": [
    "# Изменение (UPDATE)"
   ]
  },
  {
   "cell_type": "code",
   "execution_count": 81,
   "id": "e493c4d5-14fd-443a-bbbe-096c2329c84c",
   "metadata": {},
   "outputs": [],
   "source": [
    "#df.iloc[0,0] = 5.0\n",
    "#df.iloc[4:6, 1:3] = 123.0\n",
    "#df.loc[\"a\",:] = 10.0"
   ]
  },
  {
   "cell_type": "markdown",
   "id": "2befe46a-3d91-4fe9-986f-39e2691f9961",
   "metadata": {},
   "source": [
    "## Создание нового столбца"
   ]
  },
  {
   "cell_type": "code",
   "execution_count": 54,
   "id": "892ed815-0087-40a4-882a-ba013849ad8d",
   "metadata": {},
   "outputs": [
    {
     "data": {
      "text/html": [
       "<div>\n",
       "<style scoped>\n",
       "    .dataframe tbody tr th:only-of-type {\n",
       "        vertical-align: middle;\n",
       "    }\n",
       "\n",
       "    .dataframe tbody tr th {\n",
       "        vertical-align: top;\n",
       "    }\n",
       "\n",
       "    .dataframe thead th {\n",
       "        text-align: right;\n",
       "    }\n",
       "</style>\n",
       "<table border=\"1\" class=\"dataframe\">\n",
       "  <thead>\n",
       "    <tr style=\"text-align: right;\">\n",
       "      <th></th>\n",
       "      <th>A</th>\n",
       "      <th>B</th>\n",
       "      <th>C</th>\n",
       "      <th>D</th>\n",
       "      <th>F</th>\n",
       "      <th>X</th>\n",
       "    </tr>\n",
       "  </thead>\n",
       "  <tbody>\n",
       "    <tr>\n",
       "      <th>a</th>\n",
       "      <td>0.983894</td>\n",
       "      <td>0.619833</td>\n",
       "      <td>0.072750</td>\n",
       "      <td>0.018243</td>\n",
       "      <td>0.222730</td>\n",
       "      <td>NaN</td>\n",
       "    </tr>\n",
       "    <tr>\n",
       "      <th>b</th>\n",
       "      <td>0.165232</td>\n",
       "      <td>0.504173</td>\n",
       "      <td>0.334171</td>\n",
       "      <td>0.777423</td>\n",
       "      <td>0.661240</td>\n",
       "      <td>NaN</td>\n",
       "    </tr>\n",
       "    <tr>\n",
       "      <th>c</th>\n",
       "      <td>0.321757</td>\n",
       "      <td>0.266426</td>\n",
       "      <td>0.421744</td>\n",
       "      <td>0.394489</td>\n",
       "      <td>0.188261</td>\n",
       "      <td>NaN</td>\n",
       "    </tr>\n",
       "    <tr>\n",
       "      <th>d</th>\n",
       "      <td>0.056706</td>\n",
       "      <td>0.572381</td>\n",
       "      <td>0.816545</td>\n",
       "      <td>0.844877</td>\n",
       "      <td>0.065603</td>\n",
       "      <td>NaN</td>\n",
       "    </tr>\n",
       "    <tr>\n",
       "      <th>e</th>\n",
       "      <td>0.204474</td>\n",
       "      <td>0.440813</td>\n",
       "      <td>0.876805</td>\n",
       "      <td>0.409702</td>\n",
       "      <td>0.808722</td>\n",
       "      <td>NaN</td>\n",
       "    </tr>\n",
       "    <tr>\n",
       "      <th>f</th>\n",
       "      <td>0.875044</td>\n",
       "      <td>0.810087</td>\n",
       "      <td>0.748646</td>\n",
       "      <td>0.884074</td>\n",
       "      <td>0.121421</td>\n",
       "      <td>NaN</td>\n",
       "    </tr>\n",
       "    <tr>\n",
       "      <th>g</th>\n",
       "      <td>0.016019</td>\n",
       "      <td>0.006127</td>\n",
       "      <td>0.688827</td>\n",
       "      <td>0.589131</td>\n",
       "      <td>0.041527</td>\n",
       "      <td>NaN</td>\n",
       "    </tr>\n",
       "    <tr>\n",
       "      <th>h</th>\n",
       "      <td>0.684444</td>\n",
       "      <td>0.351250</td>\n",
       "      <td>0.185445</td>\n",
       "      <td>0.543839</td>\n",
       "      <td>0.354958</td>\n",
       "      <td>NaN</td>\n",
       "    </tr>\n",
       "    <tr>\n",
       "      <th>i</th>\n",
       "      <td>0.054741</td>\n",
       "      <td>0.495991</td>\n",
       "      <td>0.877457</td>\n",
       "      <td>0.142868</td>\n",
       "      <td>0.538177</td>\n",
       "      <td>NaN</td>\n",
       "    </tr>\n",
       "    <tr>\n",
       "      <th>j</th>\n",
       "      <td>0.353119</td>\n",
       "      <td>0.676408</td>\n",
       "      <td>0.214131</td>\n",
       "      <td>0.782693</td>\n",
       "      <td>0.696459</td>\n",
       "      <td>NaN</td>\n",
       "    </tr>\n",
       "  </tbody>\n",
       "</table>\n",
       "</div>"
      ],
      "text/plain": [
       "          A         B         C         D         F   X\n",
       "a  0.983894  0.619833  0.072750  0.018243  0.222730 NaN\n",
       "b  0.165232  0.504173  0.334171  0.777423  0.661240 NaN\n",
       "c  0.321757  0.266426  0.421744  0.394489  0.188261 NaN\n",
       "d  0.056706  0.572381  0.816545  0.844877  0.065603 NaN\n",
       "e  0.204474  0.440813  0.876805  0.409702  0.808722 NaN\n",
       "f  0.875044  0.810087  0.748646  0.884074  0.121421 NaN\n",
       "g  0.016019  0.006127  0.688827  0.589131  0.041527 NaN\n",
       "h  0.684444  0.351250  0.185445  0.543839  0.354958 NaN\n",
       "i  0.054741  0.495991  0.877457  0.142868  0.538177 NaN\n",
       "j  0.353119  0.676408  0.214131  0.782693  0.696459 NaN"
      ]
     },
     "execution_count": 54,
     "metadata": {},
     "output_type": "execute_result"
    }
   ],
   "source": [
    "df = pd.DataFrame(np.random.rand(10, 5), index = list(\"abcdefghij\"), columns=list(\"ABCDF\"))\n",
    "df[\"X\"] = np.nan\n",
    "df"
   ]
  },
  {
   "cell_type": "markdown",
   "id": "6279b682-1162-45e5-a4f5-725be12e7e97",
   "metadata": {},
   "source": [
    "## Использование выражений"
   ]
  },
  {
   "cell_type": "code",
   "execution_count": 41,
   "id": "0350ef43-3ae6-4986-869c-58a1de30ede6",
   "metadata": {},
   "outputs": [
    {
     "data": {
      "text/html": [
       "<div>\n",
       "<style scoped>\n",
       "    .dataframe tbody tr th:only-of-type {\n",
       "        vertical-align: middle;\n",
       "    }\n",
       "\n",
       "    .dataframe tbody tr th {\n",
       "        vertical-align: top;\n",
       "    }\n",
       "\n",
       "    .dataframe thead th {\n",
       "        text-align: right;\n",
       "    }\n",
       "</style>\n",
       "<table border=\"1\" class=\"dataframe\">\n",
       "  <thead>\n",
       "    <tr style=\"text-align: right;\">\n",
       "      <th></th>\n",
       "      <th>X</th>\n",
       "    </tr>\n",
       "  </thead>\n",
       "  <tbody>\n",
       "    <tr>\n",
       "      <th>0</th>\n",
       "      <td>0.000000</td>\n",
       "    </tr>\n",
       "    <tr>\n",
       "      <th>1</th>\n",
       "      <td>0.063467</td>\n",
       "    </tr>\n",
       "    <tr>\n",
       "      <th>2</th>\n",
       "      <td>0.126933</td>\n",
       "    </tr>\n",
       "  </tbody>\n",
       "</table>\n",
       "</div>"
      ],
      "text/plain": [
       "          X\n",
       "0  0.000000\n",
       "1  0.063467\n",
       "2  0.126933"
      ]
     },
     "metadata": {},
     "output_type": "display_data"
    },
    {
     "data": {
      "text/html": [
       "<div>\n",
       "<style scoped>\n",
       "    .dataframe tbody tr th:only-of-type {\n",
       "        vertical-align: middle;\n",
       "    }\n",
       "\n",
       "    .dataframe tbody tr th {\n",
       "        vertical-align: top;\n",
       "    }\n",
       "\n",
       "    .dataframe thead th {\n",
       "        text-align: right;\n",
       "    }\n",
       "</style>\n",
       "<table border=\"1\" class=\"dataframe\">\n",
       "  <thead>\n",
       "    <tr style=\"text-align: right;\">\n",
       "      <th></th>\n",
       "      <th>X</th>\n",
       "      <th>SIN</th>\n",
       "      <th>COS</th>\n",
       "      <th>SQ</th>\n",
       "    </tr>\n",
       "  </thead>\n",
       "  <tbody>\n",
       "    <tr>\n",
       "      <th>0</th>\n",
       "      <td>0.000000</td>\n",
       "      <td>0.000000e+00</td>\n",
       "      <td>1.000000</td>\n",
       "      <td>1.0</td>\n",
       "    </tr>\n",
       "    <tr>\n",
       "      <th>1</th>\n",
       "      <td>0.063467</td>\n",
       "      <td>6.342392e-02</td>\n",
       "      <td>0.997987</td>\n",
       "      <td>1.0</td>\n",
       "    </tr>\n",
       "    <tr>\n",
       "      <th>2</th>\n",
       "      <td>0.126933</td>\n",
       "      <td>1.265925e-01</td>\n",
       "      <td>0.991955</td>\n",
       "      <td>1.0</td>\n",
       "    </tr>\n",
       "    <tr>\n",
       "      <th>3</th>\n",
       "      <td>0.190400</td>\n",
       "      <td>1.892512e-01</td>\n",
       "      <td>0.981929</td>\n",
       "      <td>1.0</td>\n",
       "    </tr>\n",
       "    <tr>\n",
       "      <th>4</th>\n",
       "      <td>0.253866</td>\n",
       "      <td>2.511480e-01</td>\n",
       "      <td>0.967949</td>\n",
       "      <td>1.0</td>\n",
       "    </tr>\n",
       "    <tr>\n",
       "      <th>...</th>\n",
       "      <td>...</td>\n",
       "      <td>...</td>\n",
       "      <td>...</td>\n",
       "      <td>...</td>\n",
       "    </tr>\n",
       "    <tr>\n",
       "      <th>95</th>\n",
       "      <td>6.029319</td>\n",
       "      <td>-2.511480e-01</td>\n",
       "      <td>0.967949</td>\n",
       "      <td>1.0</td>\n",
       "    </tr>\n",
       "    <tr>\n",
       "      <th>96</th>\n",
       "      <td>6.092786</td>\n",
       "      <td>-1.892512e-01</td>\n",
       "      <td>0.981929</td>\n",
       "      <td>1.0</td>\n",
       "    </tr>\n",
       "    <tr>\n",
       "      <th>97</th>\n",
       "      <td>6.156252</td>\n",
       "      <td>-1.265925e-01</td>\n",
       "      <td>0.991955</td>\n",
       "      <td>1.0</td>\n",
       "    </tr>\n",
       "    <tr>\n",
       "      <th>98</th>\n",
       "      <td>6.219719</td>\n",
       "      <td>-6.342392e-02</td>\n",
       "      <td>0.997987</td>\n",
       "      <td>1.0</td>\n",
       "    </tr>\n",
       "    <tr>\n",
       "      <th>99</th>\n",
       "      <td>6.283185</td>\n",
       "      <td>-2.449294e-16</td>\n",
       "      <td>1.000000</td>\n",
       "      <td>1.0</td>\n",
       "    </tr>\n",
       "  </tbody>\n",
       "</table>\n",
       "<p>100 rows × 4 columns</p>\n",
       "</div>"
      ],
      "text/plain": [
       "           X           SIN       COS   SQ\n",
       "0   0.000000  0.000000e+00  1.000000  1.0\n",
       "1   0.063467  6.342392e-02  0.997987  1.0\n",
       "2   0.126933  1.265925e-01  0.991955  1.0\n",
       "3   0.190400  1.892512e-01  0.981929  1.0\n",
       "4   0.253866  2.511480e-01  0.967949  1.0\n",
       "..       ...           ...       ...  ...\n",
       "95  6.029319 -2.511480e-01  0.967949  1.0\n",
       "96  6.092786 -1.892512e-01  0.981929  1.0\n",
       "97  6.156252 -1.265925e-01  0.991955  1.0\n",
       "98  6.219719 -6.342392e-02  0.997987  1.0\n",
       "99  6.283185 -2.449294e-16  1.000000  1.0\n",
       "\n",
       "[100 rows x 4 columns]"
      ]
     },
     "metadata": {},
     "output_type": "display_data"
    }
   ],
   "source": [
    "df = pd.DataFrame(np.linspace(0, 2*np.pi, 100), columns=[\"X\"])\n",
    "display(df.head(3))\n",
    "df[\"SIN\"] = np.sin(df[\"X\"])\n",
    "df[\"COS\"] = np.cos(df[\"X\"])\n",
    "df[\"SQ\"]  = df[\"SIN\"] ** 2 + df[\"COS\"] ** 2\n",
    "display(df)"
   ]
  },
  {
   "cell_type": "markdown",
   "id": "e969f6d6-4c4e-4bbc-808b-13081feeef61",
   "metadata": {},
   "source": [
    "# Преобразование типов\n",
    "\n",
    "* pd.to_numeric\n",
    "* df[\"C\"].astype()"
   ]
  },
  {
   "cell_type": "markdown",
   "id": "d42ca71f-214a-4841-a6e4-fb310a223749",
   "metadata": {
    "editable": true,
    "slideshow": {
     "slide_type": ""
    },
    "tags": []
   },
   "source": [
    "# Атрибуты объектов"
   ]
  },
  {
   "cell_type": "code",
   "execution_count": 16,
   "id": "d6f54e01-5c90-4376-b4a9-33df8de7ac8a",
   "metadata": {
    "editable": true,
    "slideshow": {
     "slide_type": ""
    },
    "tags": []
   },
   "outputs": [
    {
     "name": "stdout",
     "output_type": "stream",
     "text": [
      "(26,)\n"
     ]
    }
   ],
   "source": [
    "print(s.shape)"
   ]
  },
  {
   "cell_type": "code",
   "execution_count": 17,
   "id": "7b227153-0cec-4bb8-bced-e619da4e15a2",
   "metadata": {},
   "outputs": [
    {
     "data": {
      "text/plain": [
       "<bound method Series.view of z    0.086070\n",
       "y    0.625357\n",
       "x    0.663493\n",
       "w    0.870881\n",
       "v    0.654292\n",
       "u    0.445574\n",
       "t    0.954239\n",
       "s    0.092715\n",
       "r    0.056004\n",
       "q    0.394741\n",
       "p    0.852855\n",
       "o    0.098733\n",
       "n    0.728733\n",
       "m    0.485050\n",
       "l    0.227863\n",
       "k    0.748874\n",
       "j    0.561564\n",
       "i    0.259611\n",
       "h    0.501009\n",
       "g    0.244893\n",
       "f    0.253844\n",
       "e    0.928718\n",
       "d    0.086278\n",
       "c    0.778453\n",
       "b    0.494988\n",
       "a    0.284899\n",
       "dtype: float64>"
      ]
     },
     "execution_count": 17,
     "metadata": {},
     "output_type": "execute_result"
    }
   ],
   "source": [
    "s.view"
   ]
  },
  {
   "cell_type": "code",
   "execution_count": 18,
   "id": "94ecdf80-4e18-4f54-8dc9-a6c1a631bfac",
   "metadata": {
    "editable": true,
    "slideshow": {
     "slide_type": ""
    },
    "tags": []
   },
   "outputs": [
    {
     "data": {
      "text/plain": [
       "<PandasArray>\n",
       "[0.08606974056410621,  0.6253571530767826,  0.6634925367844793,\n",
       "   0.870881349613118,  0.6542921801404629,  0.4455740987223904,\n",
       "  0.9542385996723994, 0.09271484557669896,  0.0560036751033105,\n",
       " 0.39474093008034794,  0.8528549769298448, 0.09873260853489985,\n",
       "   0.728733444746727,  0.4850502225355273, 0.22786332697789824,\n",
       "  0.7488735494582457,   0.561563902576994,  0.2596110874008768,\n",
       "  0.5010088190456947, 0.24489251762473474, 0.25384398919347795,\n",
       "  0.9287175162778534, 0.08627756440612977,  0.7784529559980182,\n",
       "  0.4949884669105775, 0.28489859274207274]\n",
       "Length: 26, dtype: float64"
      ]
     },
     "execution_count": 18,
     "metadata": {},
     "output_type": "execute_result"
    }
   ],
   "source": [
    "s.array"
   ]
  },
  {
   "cell_type": "code",
   "execution_count": 19,
   "id": "e51fc429-fc96-4b7f-8707-e422b424cb06",
   "metadata": {
    "editable": true,
    "slideshow": {
     "slide_type": ""
    },
    "tags": []
   },
   "outputs": [
    {
     "data": {
      "text/plain": [
       "array([0.08606974, 0.62535715, 0.66349254, 0.87088135, 0.65429218,\n",
       "       0.4455741 , 0.9542386 , 0.09271485, 0.05600368, 0.39474093,\n",
       "       0.85285498, 0.09873261, 0.72873344, 0.48505022, 0.22786333,\n",
       "       0.74887355, 0.5615639 , 0.25961109, 0.50100882, 0.24489252,\n",
       "       0.25384399, 0.92871752, 0.08627756, 0.77845296, 0.49498847,\n",
       "       0.28489859])"
      ]
     },
     "execution_count": 19,
     "metadata": {},
     "output_type": "execute_result"
    }
   ],
   "source": [
    "np.asarray(s)"
   ]
  },
  {
   "cell_type": "code",
   "execution_count": 20,
   "id": "cfaadbdc-3232-4be6-b0ce-29a160c19fc6",
   "metadata": {
    "editable": true,
    "slideshow": {
     "slide_type": ""
    },
    "tags": []
   },
   "outputs": [],
   "source": [
    "x = s.to_numpy()"
   ]
  },
  {
   "cell_type": "markdown",
   "id": "5daa170f-38ef-42a8-bf16-49cdfa6113c0",
   "metadata": {},
   "source": [
    "# Выборки (QUERIES)"
   ]
  },
  {
   "cell_type": "code",
   "execution_count": 44,
   "id": "86fd6d57-781c-4e19-a6a3-1ef76f825b30",
   "metadata": {},
   "outputs": [],
   "source": [
    "df = pd.DataFrame(np.sin(np.linspace(0, 2*np.pi, 100)), columns=[\"SIN\"])"
   ]
  },
  {
   "cell_type": "markdown",
   "id": "8d0fa71e-6b18-433f-9075-018cdf6df9d4",
   "metadata": {},
   "source": [
    "## Метод where\n",
    "\n",
    "Selecting values from a Series with a boolean vector generally returns a subset of the data. To guarantee that selection output has the same shape as the original data, you can use the where method in Series and DataFrame."
   ]
  },
  {
   "cell_type": "code",
   "execution_count": 58,
   "id": "fd503972-14f8-4c23-a1f7-f33de2a9f583",
   "metadata": {},
   "outputs": [
    {
     "data": {
      "text/html": [
       "<div>\n",
       "<style scoped>\n",
       "    .dataframe tbody tr th:only-of-type {\n",
       "        vertical-align: middle;\n",
       "    }\n",
       "\n",
       "    .dataframe tbody tr th {\n",
       "        vertical-align: top;\n",
       "    }\n",
       "\n",
       "    .dataframe thead th {\n",
       "        text-align: right;\n",
       "    }\n",
       "</style>\n",
       "<table border=\"1\" class=\"dataframe\">\n",
       "  <thead>\n",
       "    <tr style=\"text-align: right;\">\n",
       "      <th></th>\n",
       "      <th>SIN</th>\n",
       "    </tr>\n",
       "  </thead>\n",
       "  <tbody>\n",
       "    <tr>\n",
       "      <th>0</th>\n",
       "      <td>NaN</td>\n",
       "    </tr>\n",
       "    <tr>\n",
       "      <th>1</th>\n",
       "      <td>NaN</td>\n",
       "    </tr>\n",
       "    <tr>\n",
       "      <th>2</th>\n",
       "      <td>0.126592</td>\n",
       "    </tr>\n",
       "    <tr>\n",
       "      <th>3</th>\n",
       "      <td>0.189251</td>\n",
       "    </tr>\n",
       "    <tr>\n",
       "      <th>4</th>\n",
       "      <td>0.251148</td>\n",
       "    </tr>\n",
       "    <tr>\n",
       "      <th>...</th>\n",
       "      <td>...</td>\n",
       "    </tr>\n",
       "    <tr>\n",
       "      <th>95</th>\n",
       "      <td>NaN</td>\n",
       "    </tr>\n",
       "    <tr>\n",
       "      <th>96</th>\n",
       "      <td>NaN</td>\n",
       "    </tr>\n",
       "    <tr>\n",
       "      <th>97</th>\n",
       "      <td>NaN</td>\n",
       "    </tr>\n",
       "    <tr>\n",
       "      <th>98</th>\n",
       "      <td>NaN</td>\n",
       "    </tr>\n",
       "    <tr>\n",
       "      <th>99</th>\n",
       "      <td>NaN</td>\n",
       "    </tr>\n",
       "  </tbody>\n",
       "</table>\n",
       "<p>100 rows × 1 columns</p>\n",
       "</div>"
      ],
      "text/plain": [
       "         SIN\n",
       "0        NaN\n",
       "1        NaN\n",
       "2   0.126592\n",
       "3   0.189251\n",
       "4   0.251148\n",
       "..       ...\n",
       "95       NaN\n",
       "96       NaN\n",
       "97       NaN\n",
       "98       NaN\n",
       "99       NaN\n",
       "\n",
       "[100 rows x 1 columns]"
      ]
     },
     "execution_count": 58,
     "metadata": {},
     "output_type": "execute_result"
    }
   ],
   "source": [
    "df.where(df[\"SIN\"] > 0.1)"
   ]
  },
  {
   "cell_type": "markdown",
   "id": "423f5b76-6c25-4d68-8337-773e1b3bce39",
   "metadata": {},
   "source": [
    "## Метод query"
   ]
  },
  {
   "cell_type": "code",
   "execution_count": 56,
   "id": "6d9e3d88-ea70-48c3-8904-3a09a92bea01",
   "metadata": {},
   "outputs": [],
   "source": [
    "df = pd.DataFrame(np.sin(np.linspace(0, 2*np.pi, 100)), columns=[\"SIN\"])\n",
    "x = df.query(\"SIN > 0.5\")"
   ]
  },
  {
   "cell_type": "markdown",
   "id": "d4af1ea0-c382-4204-9bc2-5870be821d26",
   "metadata": {
    "editable": true,
    "slideshow": {
     "slide_type": ""
    },
    "tags": []
   },
   "source": [
    "# Concantenate\n",
    "\n",
    "The concat() function (in the main pandas namespace) does all of the heavy lifting of performing concatenation operations along an axis while performing optional set logic (union or intersection) of the indexes (if any) on the other axes. Note that I say “if any” because there is only a single possible axis of concatenation for Series.\n",
    "\n",
    "https://pandas.pydata.org/pandas-docs/stable/user_guide/merging.html"
   ]
  },
  {
   "cell_type": "markdown",
   "id": "cbb67800-f152-4352-9bce-887d42c63a82",
   "metadata": {
    "editable": true,
    "slideshow": {
     "slide_type": ""
    },
    "tags": []
   },
   "source": [
    "## Простой пример"
   ]
  },
  {
   "cell_type": "code",
   "execution_count": 21,
   "id": "5e500d1e-239a-40df-b4b7-17f9ec42d87f",
   "metadata": {},
   "outputs": [
    {
     "data": {
      "text/html": [
       "<div>\n",
       "<style scoped>\n",
       "    .dataframe tbody tr th:only-of-type {\n",
       "        vertical-align: middle;\n",
       "    }\n",
       "\n",
       "    .dataframe tbody tr th {\n",
       "        vertical-align: top;\n",
       "    }\n",
       "\n",
       "    .dataframe thead th {\n",
       "        text-align: right;\n",
       "    }\n",
       "</style>\n",
       "<table border=\"1\" class=\"dataframe\">\n",
       "  <thead>\n",
       "    <tr style=\"text-align: right;\">\n",
       "      <th></th>\n",
       "      <th>A</th>\n",
       "      <th>B</th>\n",
       "      <th>C</th>\n",
       "      <th>D</th>\n",
       "    </tr>\n",
       "  </thead>\n",
       "  <tbody>\n",
       "    <tr>\n",
       "      <th>0</th>\n",
       "      <td>A0</td>\n",
       "      <td>B0</td>\n",
       "      <td>C0</td>\n",
       "      <td>D0</td>\n",
       "    </tr>\n",
       "    <tr>\n",
       "      <th>1</th>\n",
       "      <td>A1</td>\n",
       "      <td>B1</td>\n",
       "      <td>C1</td>\n",
       "      <td>D1</td>\n",
       "    </tr>\n",
       "    <tr>\n",
       "      <th>2</th>\n",
       "      <td>A2</td>\n",
       "      <td>B2</td>\n",
       "      <td>C2</td>\n",
       "      <td>D2</td>\n",
       "    </tr>\n",
       "    <tr>\n",
       "      <th>3</th>\n",
       "      <td>A3</td>\n",
       "      <td>B3</td>\n",
       "      <td>C3</td>\n",
       "      <td>D3</td>\n",
       "    </tr>\n",
       "    <tr>\n",
       "      <th>4</th>\n",
       "      <td>A4</td>\n",
       "      <td>B4</td>\n",
       "      <td>C4</td>\n",
       "      <td>D4</td>\n",
       "    </tr>\n",
       "    <tr>\n",
       "      <th>5</th>\n",
       "      <td>A5</td>\n",
       "      <td>B5</td>\n",
       "      <td>C5</td>\n",
       "      <td>D5</td>\n",
       "    </tr>\n",
       "    <tr>\n",
       "      <th>6</th>\n",
       "      <td>A6</td>\n",
       "      <td>B6</td>\n",
       "      <td>C6</td>\n",
       "      <td>D6</td>\n",
       "    </tr>\n",
       "    <tr>\n",
       "      <th>7</th>\n",
       "      <td>A7</td>\n",
       "      <td>B7</td>\n",
       "      <td>C7</td>\n",
       "      <td>D7</td>\n",
       "    </tr>\n",
       "    <tr>\n",
       "      <th>8</th>\n",
       "      <td>A8</td>\n",
       "      <td>B8</td>\n",
       "      <td>C8</td>\n",
       "      <td>D8</td>\n",
       "    </tr>\n",
       "    <tr>\n",
       "      <th>9</th>\n",
       "      <td>A9</td>\n",
       "      <td>B9</td>\n",
       "      <td>C9</td>\n",
       "      <td>D9</td>\n",
       "    </tr>\n",
       "    <tr>\n",
       "      <th>10</th>\n",
       "      <td>A10</td>\n",
       "      <td>B10</td>\n",
       "      <td>C10</td>\n",
       "      <td>D10</td>\n",
       "    </tr>\n",
       "    <tr>\n",
       "      <th>11</th>\n",
       "      <td>A11</td>\n",
       "      <td>B11</td>\n",
       "      <td>C11</td>\n",
       "      <td>D11</td>\n",
       "    </tr>\n",
       "  </tbody>\n",
       "</table>\n",
       "</div>"
      ],
      "text/plain": [
       "      A    B    C    D\n",
       "0    A0   B0   C0   D0\n",
       "1    A1   B1   C1   D1\n",
       "2    A2   B2   C2   D2\n",
       "3    A3   B3   C3   D3\n",
       "4    A4   B4   C4   D4\n",
       "5    A5   B5   C5   D5\n",
       "6    A6   B6   C6   D6\n",
       "7    A7   B7   C7   D7\n",
       "8    A8   B8   C8   D8\n",
       "9    A9   B9   C9   D9\n",
       "10  A10  B10  C10  D10\n",
       "11  A11  B11  C11  D11"
      ]
     },
     "execution_count": 21,
     "metadata": {},
     "output_type": "execute_result"
    }
   ],
   "source": [
    "df1 = pd.DataFrame(\n",
    "    {\n",
    "        \"A\": [\"A0\", \"A1\", \"A2\", \"A3\"],\n",
    "        \"B\": [\"B0\", \"B1\", \"B2\", \"B3\"],\n",
    "        \"C\": [\"C0\", \"C1\", \"C2\", \"C3\"],\n",
    "        \"D\": [\"D0\", \"D1\", \"D2\", \"D3\"],\n",
    "    },\n",
    "    index=[0, 1, 2, 3],\n",
    ")\n",
    "\n",
    "df2 = pd.DataFrame(\n",
    "    {\n",
    "        \"A\": [\"A4\", \"A5\", \"A6\", \"A7\"],\n",
    "        \"B\": [\"B4\", \"B5\", \"B6\", \"B7\"],\n",
    "        \"C\": [\"C4\", \"C5\", \"C6\", \"C7\"],\n",
    "        \"D\": [\"D4\", \"D5\", \"D6\", \"D7\"],\n",
    "    },\n",
    "    index=[4, 5, 6, 7],\n",
    ")\n",
    "\n",
    "df3 = pd.DataFrame(\n",
    "    {\n",
    "        \"A\": [\"A8\", \"A9\", \"A10\", \"A11\"],\n",
    "        \"B\": [\"B8\", \"B9\", \"B10\", \"B11\"],\n",
    "        \"C\": [\"C8\", \"C9\", \"C10\", \"C11\"],\n",
    "        \"D\": [\"D8\", \"D9\", \"D10\", \"D11\"],\n",
    "    },\n",
    "    index=[8, 9, 10, 11],\n",
    ")\n",
    "\n",
    "pd.concat([df1, df2, df3], axis=0)"
   ]
  },
  {
   "cell_type": "code",
   "execution_count": 22,
   "id": "b6e7fced-ce7e-47cd-b4f7-c63d2327a560",
   "metadata": {},
   "outputs": [],
   "source": [
    "## Конкантенация вдоль оси 1"
   ]
  },
  {
   "cell_type": "code",
   "execution_count": 23,
   "id": "d876a3a3-53fd-4cf3-8e8e-a17fa8e8fdec",
   "metadata": {},
   "outputs": [
    {
     "data": {
      "text/html": [
       "<div>\n",
       "<style scoped>\n",
       "    .dataframe tbody tr th:only-of-type {\n",
       "        vertical-align: middle;\n",
       "    }\n",
       "\n",
       "    .dataframe tbody tr th {\n",
       "        vertical-align: top;\n",
       "    }\n",
       "\n",
       "    .dataframe thead th {\n",
       "        text-align: right;\n",
       "    }\n",
       "</style>\n",
       "<table border=\"1\" class=\"dataframe\">\n",
       "  <thead>\n",
       "    <tr style=\"text-align: right;\">\n",
       "      <th></th>\n",
       "      <th>A</th>\n",
       "      <th>B</th>\n",
       "      <th>C</th>\n",
       "      <th>D</th>\n",
       "      <th>A</th>\n",
       "      <th>B</th>\n",
       "      <th>C</th>\n",
       "      <th>D</th>\n",
       "      <th>A</th>\n",
       "      <th>B</th>\n",
       "      <th>C</th>\n",
       "      <th>D</th>\n",
       "    </tr>\n",
       "  </thead>\n",
       "  <tbody>\n",
       "    <tr>\n",
       "      <th>0</th>\n",
       "      <td>A0</td>\n",
       "      <td>B0</td>\n",
       "      <td>C0</td>\n",
       "      <td>D0</td>\n",
       "      <td>A4</td>\n",
       "      <td>B4</td>\n",
       "      <td>C4</td>\n",
       "      <td>D4</td>\n",
       "      <td>A8</td>\n",
       "      <td>B8</td>\n",
       "      <td>C8</td>\n",
       "      <td>D8</td>\n",
       "    </tr>\n",
       "    <tr>\n",
       "      <th>1</th>\n",
       "      <td>A1</td>\n",
       "      <td>B1</td>\n",
       "      <td>C1</td>\n",
       "      <td>D1</td>\n",
       "      <td>A5</td>\n",
       "      <td>B5</td>\n",
       "      <td>C5</td>\n",
       "      <td>D5</td>\n",
       "      <td>A9</td>\n",
       "      <td>B9</td>\n",
       "      <td>C9</td>\n",
       "      <td>D9</td>\n",
       "    </tr>\n",
       "    <tr>\n",
       "      <th>2</th>\n",
       "      <td>A2</td>\n",
       "      <td>B2</td>\n",
       "      <td>C2</td>\n",
       "      <td>D2</td>\n",
       "      <td>A6</td>\n",
       "      <td>B6</td>\n",
       "      <td>C6</td>\n",
       "      <td>D6</td>\n",
       "      <td>A10</td>\n",
       "      <td>B10</td>\n",
       "      <td>C10</td>\n",
       "      <td>D10</td>\n",
       "    </tr>\n",
       "    <tr>\n",
       "      <th>3</th>\n",
       "      <td>A3</td>\n",
       "      <td>B3</td>\n",
       "      <td>C3</td>\n",
       "      <td>D3</td>\n",
       "      <td>A7</td>\n",
       "      <td>B7</td>\n",
       "      <td>C7</td>\n",
       "      <td>D7</td>\n",
       "      <td>A11</td>\n",
       "      <td>B11</td>\n",
       "      <td>C11</td>\n",
       "      <td>D11</td>\n",
       "    </tr>\n",
       "  </tbody>\n",
       "</table>\n",
       "</div>"
      ],
      "text/plain": [
       "    A   B   C   D   A   B   C   D    A    B    C    D\n",
       "0  A0  B0  C0  D0  A4  B4  C4  D4   A8   B8   C8   D8\n",
       "1  A1  B1  C1  D1  A5  B5  C5  D5   A9   B9   C9   D9\n",
       "2  A2  B2  C2  D2  A6  B6  C6  D6  A10  B10  C10  D10\n",
       "3  A3  B3  C3  D3  A7  B7  C7  D7  A11  B11  C11  D11"
      ]
     },
     "execution_count": 23,
     "metadata": {},
     "output_type": "execute_result"
    }
   ],
   "source": [
    "df1 = pd.DataFrame(\n",
    "    {\n",
    "        \"A\": [\"A0\", \"A1\", \"A2\", \"A3\"],\n",
    "        \"B\": [\"B0\", \"B1\", \"B2\", \"B3\"],\n",
    "        \"C\": [\"C0\", \"C1\", \"C2\", \"C3\"],\n",
    "        \"D\": [\"D0\", \"D1\", \"D2\", \"D3\"],\n",
    "    },\n",
    "    index=[0, 1, 2, 3],\n",
    ")\n",
    "\n",
    "df2 = pd.DataFrame(\n",
    "    {\n",
    "        \"A\": [\"A4\", \"A5\", \"A6\", \"A7\"],\n",
    "        \"B\": [\"B4\", \"B5\", \"B6\", \"B7\"],\n",
    "        \"C\": [\"C4\", \"C5\", \"C6\", \"C7\"],\n",
    "        \"D\": [\"D4\", \"D5\", \"D6\", \"D7\"],\n",
    "    },\n",
    "    index=[0, 1, 2, 3],\n",
    ")\n",
    "\n",
    "df3 = pd.DataFrame(\n",
    "    {\n",
    "        \"A\": [\"A8\", \"A9\", \"A10\", \"A11\"],\n",
    "        \"B\": [\"B8\", \"B9\", \"B10\", \"B11\"],\n",
    "        \"C\": [\"C8\", \"C9\", \"C10\", \"C11\"],\n",
    "        \"D\": [\"D8\", \"D9\", \"D10\", \"D11\"],\n",
    "    },\n",
    "    index=[0, 1, 2, 3],\n",
    ")\n",
    "\n",
    "pd.concat([df1, df2, df3], axis=1)"
   ]
  },
  {
   "cell_type": "markdown",
   "id": "185e6864-beef-4fea-aaaa-cc95dd964c3f",
   "metadata": {
    "editable": true,
    "slideshow": {
     "slide_type": ""
    },
    "tags": []
   },
   "source": [
    "## Иерархический индекс (аргумент keys)"
   ]
  },
  {
   "cell_type": "code",
   "execution_count": 24,
   "id": "33839d88-4315-44ba-8c16-0dc1b93ba9eb",
   "metadata": {},
   "outputs": [
    {
     "data": {
      "text/html": [
       "<div>\n",
       "<style scoped>\n",
       "    .dataframe tbody tr th:only-of-type {\n",
       "        vertical-align: middle;\n",
       "    }\n",
       "\n",
       "    .dataframe tbody tr th {\n",
       "        vertical-align: top;\n",
       "    }\n",
       "\n",
       "    .dataframe thead th {\n",
       "        text-align: right;\n",
       "    }\n",
       "</style>\n",
       "<table border=\"1\" class=\"dataframe\">\n",
       "  <thead>\n",
       "    <tr style=\"text-align: right;\">\n",
       "      <th></th>\n",
       "      <th></th>\n",
       "      <th>A</th>\n",
       "      <th>B</th>\n",
       "      <th>C</th>\n",
       "      <th>D</th>\n",
       "    </tr>\n",
       "  </thead>\n",
       "  <tbody>\n",
       "    <tr>\n",
       "      <th rowspan=\"4\" valign=\"top\">a</th>\n",
       "      <th>0</th>\n",
       "      <td>A0</td>\n",
       "      <td>B0</td>\n",
       "      <td>C0</td>\n",
       "      <td>D0</td>\n",
       "    </tr>\n",
       "    <tr>\n",
       "      <th>1</th>\n",
       "      <td>A1</td>\n",
       "      <td>B1</td>\n",
       "      <td>C1</td>\n",
       "      <td>D1</td>\n",
       "    </tr>\n",
       "    <tr>\n",
       "      <th>2</th>\n",
       "      <td>A2</td>\n",
       "      <td>B2</td>\n",
       "      <td>C2</td>\n",
       "      <td>D2</td>\n",
       "    </tr>\n",
       "    <tr>\n",
       "      <th>3</th>\n",
       "      <td>A3</td>\n",
       "      <td>B3</td>\n",
       "      <td>C3</td>\n",
       "      <td>D3</td>\n",
       "    </tr>\n",
       "    <tr>\n",
       "      <th rowspan=\"4\" valign=\"top\">b</th>\n",
       "      <th>0</th>\n",
       "      <td>A4</td>\n",
       "      <td>B4</td>\n",
       "      <td>C4</td>\n",
       "      <td>D4</td>\n",
       "    </tr>\n",
       "    <tr>\n",
       "      <th>1</th>\n",
       "      <td>A5</td>\n",
       "      <td>B5</td>\n",
       "      <td>C5</td>\n",
       "      <td>D5</td>\n",
       "    </tr>\n",
       "    <tr>\n",
       "      <th>2</th>\n",
       "      <td>A6</td>\n",
       "      <td>B6</td>\n",
       "      <td>C6</td>\n",
       "      <td>D6</td>\n",
       "    </tr>\n",
       "    <tr>\n",
       "      <th>3</th>\n",
       "      <td>A7</td>\n",
       "      <td>B7</td>\n",
       "      <td>C7</td>\n",
       "      <td>D7</td>\n",
       "    </tr>\n",
       "    <tr>\n",
       "      <th rowspan=\"4\" valign=\"top\">c</th>\n",
       "      <th>0</th>\n",
       "      <td>A8</td>\n",
       "      <td>B8</td>\n",
       "      <td>C8</td>\n",
       "      <td>D8</td>\n",
       "    </tr>\n",
       "    <tr>\n",
       "      <th>1</th>\n",
       "      <td>A9</td>\n",
       "      <td>B9</td>\n",
       "      <td>C9</td>\n",
       "      <td>D9</td>\n",
       "    </tr>\n",
       "    <tr>\n",
       "      <th>2</th>\n",
       "      <td>A10</td>\n",
       "      <td>B10</td>\n",
       "      <td>C10</td>\n",
       "      <td>D10</td>\n",
       "    </tr>\n",
       "    <tr>\n",
       "      <th>3</th>\n",
       "      <td>A11</td>\n",
       "      <td>B11</td>\n",
       "      <td>C11</td>\n",
       "      <td>D11</td>\n",
       "    </tr>\n",
       "  </tbody>\n",
       "</table>\n",
       "</div>"
      ],
      "text/plain": [
       "       A    B    C    D\n",
       "a 0   A0   B0   C0   D0\n",
       "  1   A1   B1   C1   D1\n",
       "  2   A2   B2   C2   D2\n",
       "  3   A3   B3   C3   D3\n",
       "b 0   A4   B4   C4   D4\n",
       "  1   A5   B5   C5   D5\n",
       "  2   A6   B6   C6   D6\n",
       "  3   A7   B7   C7   D7\n",
       "c 0   A8   B8   C8   D8\n",
       "  1   A9   B9   C9   D9\n",
       "  2  A10  B10  C10  D10\n",
       "  3  A11  B11  C11  D11"
      ]
     },
     "execution_count": 24,
     "metadata": {},
     "output_type": "execute_result"
    }
   ],
   "source": [
    "pd.concat([df1, df2, df3], keys=[\"a\", \"b\", \"c\"])"
   ]
  },
  {
   "cell_type": "markdown",
   "id": "d111964d-8203-430f-bb83-43a0a8c31841",
   "metadata": {
    "editable": true,
    "slideshow": {
     "slide_type": ""
    },
    "tags": []
   },
   "source": [
    "## Способ сшивки по второй оси (аргумент join)\n",
    "\n",
    "Устанавливает алгоритм, как сшивать по другой оси.\n",
    "\n",
    "Значения: inner, outer (по-умолчанию)."
   ]
  },
  {
   "cell_type": "code",
   "execution_count": 25,
   "id": "7866dd9c-7663-42dd-99d2-c1a505862321",
   "metadata": {},
   "outputs": [
    {
     "data": {
      "text/html": [
       "<div>\n",
       "<style scoped>\n",
       "    .dataframe tbody tr th:only-of-type {\n",
       "        vertical-align: middle;\n",
       "    }\n",
       "\n",
       "    .dataframe tbody tr th {\n",
       "        vertical-align: top;\n",
       "    }\n",
       "\n",
       "    .dataframe thead th {\n",
       "        text-align: right;\n",
       "    }\n",
       "</style>\n",
       "<table border=\"1\" class=\"dataframe\">\n",
       "  <thead>\n",
       "    <tr style=\"text-align: right;\">\n",
       "      <th></th>\n",
       "      <th>A</th>\n",
       "    </tr>\n",
       "  </thead>\n",
       "  <tbody>\n",
       "    <tr>\n",
       "      <th>0</th>\n",
       "      <td>A0</td>\n",
       "    </tr>\n",
       "    <tr>\n",
       "      <th>1</th>\n",
       "      <td>A1</td>\n",
       "    </tr>\n",
       "    <tr>\n",
       "      <th>2</th>\n",
       "      <td>A2</td>\n",
       "    </tr>\n",
       "    <tr>\n",
       "      <th>3</th>\n",
       "      <td>A3</td>\n",
       "    </tr>\n",
       "    <tr>\n",
       "      <th>0</th>\n",
       "      <td>A5</td>\n",
       "    </tr>\n",
       "    <tr>\n",
       "      <th>1</th>\n",
       "      <td>A6</td>\n",
       "    </tr>\n",
       "    <tr>\n",
       "      <th>2</th>\n",
       "      <td>A7</td>\n",
       "    </tr>\n",
       "    <tr>\n",
       "      <th>3</th>\n",
       "      <td>A8</td>\n",
       "    </tr>\n",
       "  </tbody>\n",
       "</table>\n",
       "</div>"
      ],
      "text/plain": [
       "    A\n",
       "0  A0\n",
       "1  A1\n",
       "2  A2\n",
       "3  A3\n",
       "0  A5\n",
       "1  A6\n",
       "2  A7\n",
       "3  A8"
      ]
     },
     "execution_count": 25,
     "metadata": {},
     "output_type": "execute_result"
    }
   ],
   "source": [
    "df1 = pd.DataFrame({\n",
    "        \"A\": [\"A0\", \"A1\", \"A2\", \"A3\"],\n",
    "        \"B\": [\"B0\", \"B1\", \"B2\", \"B3\"],\n",
    "        \"C\": [\"C0\", \"C1\", \"C2\", \"C3\"],\n",
    "        \"D\": [\"D0\", \"D1\", \"D2\", \"D3\"],\n",
    "    },\n",
    "    index=[0, 1, 2, 3],\n",
    ")\n",
    "\n",
    "df2 = pd.DataFrame({\n",
    "        \"A\": [\"A5\", \"A6\", \"A7\", \"A8\"],\n",
    "        \"E\": [\"E0\", \"E1\", \"E2\", \"E3\"]\n",
    "    })\n",
    "\n",
    "pd.concat([df1, df2], join = \"inner\")"
   ]
  },
  {
   "cell_type": "markdown",
   "id": "b1f72cff-bc64-4cd6-b907-ba8d8839e504",
   "metadata": {
    "editable": true,
    "slideshow": {
     "slide_type": ""
    },
    "tags": []
   },
   "source": [
    "## Добавление новых строк"
   ]
  },
  {
   "cell_type": "code",
   "execution_count": 26,
   "id": "8798123f-2161-45c1-9fa4-fed0cad5d537",
   "metadata": {
    "editable": true,
    "slideshow": {
     "slide_type": ""
    },
    "tags": []
   },
   "outputs": [
    {
     "data": {
      "text/html": [
       "<div>\n",
       "<style scoped>\n",
       "    .dataframe tbody tr th:only-of-type {\n",
       "        vertical-align: middle;\n",
       "    }\n",
       "\n",
       "    .dataframe tbody tr th {\n",
       "        vertical-align: top;\n",
       "    }\n",
       "\n",
       "    .dataframe thead th {\n",
       "        text-align: right;\n",
       "    }\n",
       "</style>\n",
       "<table border=\"1\" class=\"dataframe\">\n",
       "  <thead>\n",
       "    <tr style=\"text-align: right;\">\n",
       "      <th></th>\n",
       "      <th>A</th>\n",
       "      <th>B</th>\n",
       "      <th>C</th>\n",
       "      <th>D</th>\n",
       "    </tr>\n",
       "  </thead>\n",
       "  <tbody>\n",
       "    <tr>\n",
       "      <th>0</th>\n",
       "      <td>A0</td>\n",
       "      <td>B0</td>\n",
       "      <td>C0</td>\n",
       "      <td>D0</td>\n",
       "    </tr>\n",
       "    <tr>\n",
       "      <th>1</th>\n",
       "      <td>A1</td>\n",
       "      <td>B1</td>\n",
       "      <td>C1</td>\n",
       "      <td>D1</td>\n",
       "    </tr>\n",
       "    <tr>\n",
       "      <th>2</th>\n",
       "      <td>A2</td>\n",
       "      <td>B2</td>\n",
       "      <td>C2</td>\n",
       "      <td>D2</td>\n",
       "    </tr>\n",
       "    <tr>\n",
       "      <th>3</th>\n",
       "      <td>A3</td>\n",
       "      <td>B3</td>\n",
       "      <td>C3</td>\n",
       "      <td>D3</td>\n",
       "    </tr>\n",
       "    <tr>\n",
       "      <th>4</th>\n",
       "      <td>X0</td>\n",
       "      <td>X1</td>\n",
       "      <td>X2</td>\n",
       "      <td>X3</td>\n",
       "    </tr>\n",
       "  </tbody>\n",
       "</table>\n",
       "</div>"
      ],
      "text/plain": [
       "    A   B   C   D\n",
       "0  A0  B0  C0  D0\n",
       "1  A1  B1  C1  D1\n",
       "2  A2  B2  C2  D2\n",
       "3  A3  B3  C3  D3\n",
       "4  X0  X1  X2  X3"
      ]
     },
     "execution_count": 26,
     "metadata": {},
     "output_type": "execute_result"
    }
   ],
   "source": [
    "df1 = pd.DataFrame({\n",
    "        \"A\": [\"A0\", \"A1\", \"A2\", \"A3\"],\n",
    "        \"B\": [\"B0\", \"B1\", \"B2\", \"B3\"],\n",
    "        \"C\": [\"C0\", \"C1\", \"C2\", \"C3\"],\n",
    "        \"D\": [\"D0\", \"D1\", \"D2\", \"D3\"],\n",
    "    },\n",
    "    index=[0, 1, 2, 3]\n",
    ")\n",
    "s2 = pd.Series([\"X0\", \"X1\", \"X2\", \"X3\"], index=[\"A\", \"B\", \"C\", \"D\"])\n",
    "pd.concat([df1, s2.to_frame().T], ignore_index=True)"
   ]
  },
  {
   "cell_type": "markdown",
   "id": "b2cde37c-33cd-4288-8de3-d644b16f5af1",
   "metadata": {
    "editable": true,
    "slideshow": {
     "slide_type": ""
    },
    "tags": []
   },
   "source": [
    "# Join\n",
    "\n",
    "pandas has full-featured, high performance in-memory join operations idiomatically very similar to relational databases like SQL. These methods perform significantly better (in some cases well over an order of magnitude better) than other open source implementations (like base::merge.data.frame in R). The reason for this is careful algorithmic design and the internal layout of the data in DataFrame.\n",
    "\n",
    "pandas provides a single function, merge(), as the entry point for all standard database join operations between DataFrame or named Series objects.\n",
    "\n",
    "https://pandas.pydata.org/pandas-docs/stable/user_guide/merging.html#database-style-dataframe-or-named-series-joining-merging\n",
    "\n",
    "```\n",
    "pd.merge(\n",
    "    left,\n",
    "    right,\n",
    "    how=\"inner\",\n",
    "    on=None,\n",
    "    left_on=None,\n",
    "    right_on=None,\n",
    "    left_index=False,\n",
    "    right_index=False,\n",
    "    sort=True,\n",
    "    suffixes=(\"_x\", \"_y\"),\n",
    "    copy=True,\n",
    "    indicator=False,\n",
    "    validate=None,\n",
    ")\n",
    "```"
   ]
  },
  {
   "cell_type": "markdown",
   "id": "f978cfc2-8ab0-4055-8da0-c3714c4c1a23",
   "metadata": {
    "editable": true,
    "slideshow": {
     "slide_type": ""
    },
    "tags": []
   },
   "source": [
    "## Простой пример"
   ]
  },
  {
   "cell_type": "code",
   "execution_count": 27,
   "id": "8a679a07-4c1f-4ab3-9b0c-0fab1c04505b",
   "metadata": {},
   "outputs": [
    {
     "data": {
      "text/html": [
       "<div>\n",
       "<style scoped>\n",
       "    .dataframe tbody tr th:only-of-type {\n",
       "        vertical-align: middle;\n",
       "    }\n",
       "\n",
       "    .dataframe tbody tr th {\n",
       "        vertical-align: top;\n",
       "    }\n",
       "\n",
       "    .dataframe thead th {\n",
       "        text-align: right;\n",
       "    }\n",
       "</style>\n",
       "<table border=\"1\" class=\"dataframe\">\n",
       "  <thead>\n",
       "    <tr style=\"text-align: right;\">\n",
       "      <th></th>\n",
       "      <th>key</th>\n",
       "      <th>A</th>\n",
       "      <th>B</th>\n",
       "      <th>C</th>\n",
       "      <th>D</th>\n",
       "    </tr>\n",
       "  </thead>\n",
       "  <tbody>\n",
       "    <tr>\n",
       "      <th>0</th>\n",
       "      <td>K0</td>\n",
       "      <td>A0</td>\n",
       "      <td>B0</td>\n",
       "      <td>C0</td>\n",
       "      <td>D0</td>\n",
       "    </tr>\n",
       "    <tr>\n",
       "      <th>1</th>\n",
       "      <td>K1</td>\n",
       "      <td>A1</td>\n",
       "      <td>B1</td>\n",
       "      <td>C1</td>\n",
       "      <td>D1</td>\n",
       "    </tr>\n",
       "    <tr>\n",
       "      <th>2</th>\n",
       "      <td>K2</td>\n",
       "      <td>A2</td>\n",
       "      <td>B2</td>\n",
       "      <td>C2</td>\n",
       "      <td>D2</td>\n",
       "    </tr>\n",
       "    <tr>\n",
       "      <th>3</th>\n",
       "      <td>K3</td>\n",
       "      <td>A3</td>\n",
       "      <td>B3</td>\n",
       "      <td>C3</td>\n",
       "      <td>D3</td>\n",
       "    </tr>\n",
       "  </tbody>\n",
       "</table>\n",
       "</div>"
      ],
      "text/plain": [
       "  key   A   B   C   D\n",
       "0  K0  A0  B0  C0  D0\n",
       "1  K1  A1  B1  C1  D1\n",
       "2  K2  A2  B2  C2  D2\n",
       "3  K3  A3  B3  C3  D3"
      ]
     },
     "execution_count": 27,
     "metadata": {},
     "output_type": "execute_result"
    }
   ],
   "source": [
    "left = pd.DataFrame({\n",
    "    \"key\": [\"K0\", \"K1\", \"K2\", \"K3\"],\n",
    "    \"A\": [\"A0\", \"A1\", \"A2\", \"A3\"],\n",
    "    \"B\": [\"B0\", \"B1\", \"B2\", \"B3\"],\n",
    "    })\n",
    "\n",
    "right = pd.DataFrame({\n",
    "    \"key\": [\"K0\", \"K1\", \"K2\", \"K3\"],\n",
    "    \"C\": [\"C0\", \"C1\", \"C2\", \"C3\"],\n",
    "    \"D\": [\"D0\", \"D1\", \"D2\", \"D3\"],\n",
    "    })\n",
    "\n",
    "pd.merge(left, right, on=\"key\")"
   ]
  },
  {
   "cell_type": "markdown",
   "id": "86ed1285-10a7-4b0b-93d4-a982aaf064c3",
   "metadata": {
    "editable": true,
    "slideshow": {
     "slide_type": ""
    },
    "tags": []
   },
   "source": [
    "## Outer Join (аргумент how)"
   ]
  },
  {
   "cell_type": "code",
   "execution_count": 28,
   "id": "a777a0cf-44ec-4f46-b9fe-c782d57c9200",
   "metadata": {},
   "outputs": [
    {
     "data": {
      "text/html": [
       "<div>\n",
       "<style scoped>\n",
       "    .dataframe tbody tr th:only-of-type {\n",
       "        vertical-align: middle;\n",
       "    }\n",
       "\n",
       "    .dataframe tbody tr th {\n",
       "        vertical-align: top;\n",
       "    }\n",
       "\n",
       "    .dataframe thead th {\n",
       "        text-align: right;\n",
       "    }\n",
       "</style>\n",
       "<table border=\"1\" class=\"dataframe\">\n",
       "  <thead>\n",
       "    <tr style=\"text-align: right;\">\n",
       "      <th></th>\n",
       "      <th>key</th>\n",
       "      <th>A</th>\n",
       "      <th>B</th>\n",
       "      <th>C</th>\n",
       "      <th>D</th>\n",
       "    </tr>\n",
       "  </thead>\n",
       "  <tbody>\n",
       "    <tr>\n",
       "      <th>0</th>\n",
       "      <td>K0</td>\n",
       "      <td>A0</td>\n",
       "      <td>B0</td>\n",
       "      <td>C0</td>\n",
       "      <td>D0</td>\n",
       "    </tr>\n",
       "    <tr>\n",
       "      <th>1</th>\n",
       "      <td>K1</td>\n",
       "      <td>A1</td>\n",
       "      <td>B1</td>\n",
       "      <td>C1</td>\n",
       "      <td>D1</td>\n",
       "    </tr>\n",
       "    <tr>\n",
       "      <th>2</th>\n",
       "      <td>K2</td>\n",
       "      <td>A2</td>\n",
       "      <td>B2</td>\n",
       "      <td>C2</td>\n",
       "      <td>D2</td>\n",
       "    </tr>\n",
       "    <tr>\n",
       "      <th>3</th>\n",
       "      <td>K3</td>\n",
       "      <td>NaN</td>\n",
       "      <td>NaN</td>\n",
       "      <td>C3</td>\n",
       "      <td>D3</td>\n",
       "    </tr>\n",
       "  </tbody>\n",
       "</table>\n",
       "</div>"
      ],
      "text/plain": [
       "  key    A    B   C   D\n",
       "0  K0   A0   B0  C0  D0\n",
       "1  K1   A1   B1  C1  D1\n",
       "2  K2   A2   B2  C2  D2\n",
       "3  K3  NaN  NaN  C3  D3"
      ]
     },
     "execution_count": 28,
     "metadata": {},
     "output_type": "execute_result"
    }
   ],
   "source": [
    "left = pd.DataFrame({\n",
    "    \"key\": [\"K0\", \"K1\", \"K2\"],\n",
    "    \"A\":   [\"A0\", \"A1\", \"A2\"],\n",
    "    \"B\":   [\"B0\", \"B1\", \"B2\"],\n",
    "    })\n",
    "\n",
    "right = pd.DataFrame({\n",
    "    \"key\": [\"K0\", \"K1\", \"K2\", \"K3\"],\n",
    "    \"C\":   [\"C0\", \"C1\", \"C2\", \"C3\"],\n",
    "    \"D\":   [\"D0\", \"D1\", \"D2\", \"D3\"],\n",
    "    })\n",
    "\n",
    "pd.merge(left, right, on=\"key\", how=\"right\")"
   ]
  },
  {
   "cell_type": "code",
   "execution_count": 29,
   "id": "fdca77b6-0938-4c4d-931c-ebe8baf6f9e6",
   "metadata": {},
   "outputs": [
    {
     "data": {
      "text/html": [
       "<div>\n",
       "<style scoped>\n",
       "    .dataframe tbody tr th:only-of-type {\n",
       "        vertical-align: middle;\n",
       "    }\n",
       "\n",
       "    .dataframe tbody tr th {\n",
       "        vertical-align: top;\n",
       "    }\n",
       "\n",
       "    .dataframe thead th {\n",
       "        text-align: right;\n",
       "    }\n",
       "</style>\n",
       "<table border=\"1\" class=\"dataframe\">\n",
       "  <thead>\n",
       "    <tr style=\"text-align: right;\">\n",
       "      <th></th>\n",
       "      <th>key</th>\n",
       "      <th>A0</th>\n",
       "      <th>B</th>\n",
       "      <th>A1</th>\n",
       "      <th>C</th>\n",
       "      <th>D</th>\n",
       "    </tr>\n",
       "  </thead>\n",
       "  <tbody>\n",
       "    <tr>\n",
       "      <th>0</th>\n",
       "      <td>K0</td>\n",
       "      <td>A0</td>\n",
       "      <td>B0</td>\n",
       "      <td>AA0</td>\n",
       "      <td>C0</td>\n",
       "      <td>D0</td>\n",
       "    </tr>\n",
       "    <tr>\n",
       "      <th>1</th>\n",
       "      <td>K1</td>\n",
       "      <td>A1</td>\n",
       "      <td>B1</td>\n",
       "      <td>AA1</td>\n",
       "      <td>C1</td>\n",
       "      <td>D1</td>\n",
       "    </tr>\n",
       "    <tr>\n",
       "      <th>2</th>\n",
       "      <td>K2</td>\n",
       "      <td>A2</td>\n",
       "      <td>B2</td>\n",
       "      <td>AA2</td>\n",
       "      <td>C2</td>\n",
       "      <td>D2</td>\n",
       "    </tr>\n",
       "    <tr>\n",
       "      <th>3</th>\n",
       "      <td>K3</td>\n",
       "      <td>NaN</td>\n",
       "      <td>NaN</td>\n",
       "      <td>AA3</td>\n",
       "      <td>C3</td>\n",
       "      <td>D3</td>\n",
       "    </tr>\n",
       "  </tbody>\n",
       "</table>\n",
       "</div>"
      ],
      "text/plain": [
       "  key   A0    B   A1   C   D\n",
       "0  K0   A0   B0  AA0  C0  D0\n",
       "1  K1   A1   B1  AA1  C1  D1\n",
       "2  K2   A2   B2  AA2  C2  D2\n",
       "3  K3  NaN  NaN  AA3  C3  D3"
      ]
     },
     "execution_count": 29,
     "metadata": {},
     "output_type": "execute_result"
    }
   ],
   "source": [
    "left = pd.DataFrame({\n",
    "    \"key\": [\"K0\", \"K1\", \"K2\"],\n",
    "    \"A\":   [\"A0\", \"A1\", \"A2\"],\n",
    "    \"B\":   [\"B0\", \"B1\", \"B2\"],\n",
    "    })\n",
    "\n",
    "right = pd.DataFrame({\n",
    "    \"key\": [\"K0\", \"K1\", \"K2\", \"K3\"],\n",
    "    \"A\":   [\"AA0\", \"AA1\", \"AA2\", \"AA3\"],\n",
    "    \"C\":   [\"C0\", \"C1\", \"C2\", \"C3\"],\n",
    "    \"D\":   [\"D0\", \"D1\", \"D2\", \"D3\"],\n",
    "    })\n",
    "\n",
    "pd.merge(left, right, on=\"key\", how=\"right\", suffixes=[0, 1])"
   ]
  },
  {
   "cell_type": "markdown",
   "id": "ceac0bdf-308e-4c6e-9615-79ed429cbbe3",
   "metadata": {
    "editable": true,
    "slideshow": {
     "slide_type": ""
    },
    "tags": []
   },
   "source": [
    "## Join"
   ]
  },
  {
   "cell_type": "code",
   "execution_count": 30,
   "id": "1d779582-9b6b-44ea-8f26-53ef6f8bba83",
   "metadata": {},
   "outputs": [
    {
     "data": {
      "text/html": [
       "<div>\n",
       "<style scoped>\n",
       "    .dataframe tbody tr th:only-of-type {\n",
       "        vertical-align: middle;\n",
       "    }\n",
       "\n",
       "    .dataframe tbody tr th {\n",
       "        vertical-align: top;\n",
       "    }\n",
       "\n",
       "    .dataframe thead th {\n",
       "        text-align: right;\n",
       "    }\n",
       "</style>\n",
       "<table border=\"1\" class=\"dataframe\">\n",
       "  <thead>\n",
       "    <tr style=\"text-align: right;\">\n",
       "      <th></th>\n",
       "      <th>key</th>\n",
       "      <th>A</th>\n",
       "      <th>B</th>\n",
       "      <th>C</th>\n",
       "      <th>D</th>\n",
       "    </tr>\n",
       "  </thead>\n",
       "  <tbody>\n",
       "    <tr>\n",
       "      <th>0</th>\n",
       "      <td>K0</td>\n",
       "      <td>A0</td>\n",
       "      <td>B0</td>\n",
       "      <td>C0</td>\n",
       "      <td>D0</td>\n",
       "    </tr>\n",
       "    <tr>\n",
       "      <th>1</th>\n",
       "      <td>K1</td>\n",
       "      <td>A1</td>\n",
       "      <td>B1</td>\n",
       "      <td>C1</td>\n",
       "      <td>D1</td>\n",
       "    </tr>\n",
       "    <tr>\n",
       "      <th>2</th>\n",
       "      <td>K2</td>\n",
       "      <td>A2</td>\n",
       "      <td>B2</td>\n",
       "      <td>C2</td>\n",
       "      <td>D2</td>\n",
       "    </tr>\n",
       "  </tbody>\n",
       "</table>\n",
       "</div>"
      ],
      "text/plain": [
       "  key   A   B   C   D\n",
       "0  K0  A0  B0  C0  D0\n",
       "1  K1  A1  B1  C1  D1\n",
       "2  K2  A2  B2  C2  D2"
      ]
     },
     "execution_count": 30,
     "metadata": {},
     "output_type": "execute_result"
    }
   ],
   "source": [
    "left = pd.DataFrame({\n",
    "    \"key\": [\"K0\", \"K1\", \"K2\"],\n",
    "    \"A\":   [\"A0\", \"A1\", \"A2\"],\n",
    "    \"B\":   [\"B0\", \"B1\", \"B2\"],\n",
    "    })\n",
    "\n",
    "right = pd.DataFrame({\n",
    "    \"C\":   [\"C0\", \"C1\", \"C2\", \"C3\"],\n",
    "    \"D\":   [\"D0\", \"D1\", \"D2\", \"D3\"],\n",
    "    },\n",
    "    index = [\"K0\", \"K1\", \"K2\", \"K3\"]\n",
    ")\n",
    "\n",
    "left.join(right, on=\"key\")"
   ]
  },
  {
   "cell_type": "markdown",
   "id": "82982725-82f5-4d6c-9944-b26fcab69879",
   "metadata": {},
   "source": [
    "# Группирование\n",
    "\n",
    "Группирование (GROUP BY) можно представить как операцию, состоящую из 3 шагов:\n",
    "\n",
    "* Разделение данных на группы по некоторому критерию\n",
    "* Применение функции (агрегата) к каждой группе независимо\n",
    "* Объединение результатов в конечное представление\n",
    "\n",
    "Пример группирования в SQL:\n",
    "```\n",
    "SELECT Column1, Column2, mean(Column3), sum(Column4)\n",
    "FROM SomeTable\n",
    "GROUP BY Column1, Column2\n",
    "```"
   ]
  },
  {
   "cell_type": "code",
   "execution_count": 68,
   "id": "553bacad-6ce7-4287-ba0f-477e31f11520",
   "metadata": {},
   "outputs": [
    {
     "data": {
      "text/html": [
       "<div>\n",
       "<style scoped>\n",
       "    .dataframe tbody tr th:only-of-type {\n",
       "        vertical-align: middle;\n",
       "    }\n",
       "\n",
       "    .dataframe tbody tr th {\n",
       "        vertical-align: top;\n",
       "    }\n",
       "\n",
       "    .dataframe thead th {\n",
       "        text-align: right;\n",
       "    }\n",
       "</style>\n",
       "<table border=\"1\" class=\"dataframe\">\n",
       "  <thead>\n",
       "    <tr style=\"text-align: right;\">\n",
       "      <th></th>\n",
       "      <th>PassengerId</th>\n",
       "      <th>Survived</th>\n",
       "      <th>Pclass</th>\n",
       "      <th>Name</th>\n",
       "      <th>Sex</th>\n",
       "      <th>Age</th>\n",
       "      <th>SibSp</th>\n",
       "      <th>Parch</th>\n",
       "      <th>Ticket</th>\n",
       "      <th>Fare</th>\n",
       "      <th>Cabin</th>\n",
       "      <th>Embarked</th>\n",
       "    </tr>\n",
       "  </thead>\n",
       "  <tbody>\n",
       "    <tr>\n",
       "      <th>0</th>\n",
       "      <td>1</td>\n",
       "      <td>0</td>\n",
       "      <td>3</td>\n",
       "      <td>Braund, Mr. Owen Harris</td>\n",
       "      <td>male</td>\n",
       "      <td>22.0</td>\n",
       "      <td>1</td>\n",
       "      <td>0</td>\n",
       "      <td>A/5 21171</td>\n",
       "      <td>7.2500</td>\n",
       "      <td>NaN</td>\n",
       "      <td>S</td>\n",
       "    </tr>\n",
       "    <tr>\n",
       "      <th>1</th>\n",
       "      <td>2</td>\n",
       "      <td>1</td>\n",
       "      <td>1</td>\n",
       "      <td>Cumings, Mrs. John Bradley (Florence Briggs Th...</td>\n",
       "      <td>female</td>\n",
       "      <td>38.0</td>\n",
       "      <td>1</td>\n",
       "      <td>0</td>\n",
       "      <td>PC 17599</td>\n",
       "      <td>71.2833</td>\n",
       "      <td>C85</td>\n",
       "      <td>C</td>\n",
       "    </tr>\n",
       "    <tr>\n",
       "      <th>2</th>\n",
       "      <td>3</td>\n",
       "      <td>1</td>\n",
       "      <td>3</td>\n",
       "      <td>Heikkinen, Miss. Laina</td>\n",
       "      <td>female</td>\n",
       "      <td>26.0</td>\n",
       "      <td>0</td>\n",
       "      <td>0</td>\n",
       "      <td>STON/O2. 3101282</td>\n",
       "      <td>7.9250</td>\n",
       "      <td>NaN</td>\n",
       "      <td>S</td>\n",
       "    </tr>\n",
       "  </tbody>\n",
       "</table>\n",
       "</div>"
      ],
      "text/plain": [
       "   PassengerId  Survived  Pclass   \n",
       "0            1         0       3  \\\n",
       "1            2         1       1   \n",
       "2            3         1       3   \n",
       "\n",
       "                                                Name     Sex   Age  SibSp   \n",
       "0                            Braund, Mr. Owen Harris    male  22.0      1  \\\n",
       "1  Cumings, Mrs. John Bradley (Florence Briggs Th...  female  38.0      1   \n",
       "2                             Heikkinen, Miss. Laina  female  26.0      0   \n",
       "\n",
       "   Parch            Ticket     Fare Cabin Embarked  \n",
       "0      0         A/5 21171   7.2500   NaN        S  \n",
       "1      0          PC 17599  71.2833   C85        C  \n",
       "2      0  STON/O2. 3101282   7.9250   NaN        S  "
      ]
     },
     "metadata": {},
     "output_type": "display_data"
    },
    {
     "data": {
      "text/html": [
       "<div>\n",
       "<style scoped>\n",
       "    .dataframe tbody tr th:only-of-type {\n",
       "        vertical-align: middle;\n",
       "    }\n",
       "\n",
       "    .dataframe tbody tr th {\n",
       "        vertical-align: top;\n",
       "    }\n",
       "\n",
       "    .dataframe thead th {\n",
       "        text-align: right;\n",
       "    }\n",
       "</style>\n",
       "<table border=\"1\" class=\"dataframe\">\n",
       "  <thead>\n",
       "    <tr style=\"text-align: right;\">\n",
       "      <th></th>\n",
       "      <th></th>\n",
       "      <th>PassengerId</th>\n",
       "      <th>Pclass</th>\n",
       "      <th>Name</th>\n",
       "      <th>Age</th>\n",
       "      <th>SibSp</th>\n",
       "      <th>Parch</th>\n",
       "      <th>Ticket</th>\n",
       "      <th>Fare</th>\n",
       "      <th>Cabin</th>\n",
       "      <th>Embarked</th>\n",
       "    </tr>\n",
       "    <tr>\n",
       "      <th>Sex</th>\n",
       "      <th>Survived</th>\n",
       "      <th></th>\n",
       "      <th></th>\n",
       "      <th></th>\n",
       "      <th></th>\n",
       "      <th></th>\n",
       "      <th></th>\n",
       "      <th></th>\n",
       "      <th></th>\n",
       "      <th></th>\n",
       "      <th></th>\n",
       "    </tr>\n",
       "  </thead>\n",
       "  <tbody>\n",
       "    <tr>\n",
       "      <th rowspan=\"2\" valign=\"top\">female</th>\n",
       "      <th>0</th>\n",
       "      <td>81</td>\n",
       "      <td>81</td>\n",
       "      <td>81</td>\n",
       "      <td>64</td>\n",
       "      <td>81</td>\n",
       "      <td>81</td>\n",
       "      <td>81</td>\n",
       "      <td>81</td>\n",
       "      <td>6</td>\n",
       "      <td>81</td>\n",
       "    </tr>\n",
       "    <tr>\n",
       "      <th>1</th>\n",
       "      <td>233</td>\n",
       "      <td>233</td>\n",
       "      <td>233</td>\n",
       "      <td>197</td>\n",
       "      <td>233</td>\n",
       "      <td>233</td>\n",
       "      <td>233</td>\n",
       "      <td>233</td>\n",
       "      <td>91</td>\n",
       "      <td>231</td>\n",
       "    </tr>\n",
       "    <tr>\n",
       "      <th rowspan=\"2\" valign=\"top\">male</th>\n",
       "      <th>0</th>\n",
       "      <td>468</td>\n",
       "      <td>468</td>\n",
       "      <td>468</td>\n",
       "      <td>360</td>\n",
       "      <td>468</td>\n",
       "      <td>468</td>\n",
       "      <td>468</td>\n",
       "      <td>468</td>\n",
       "      <td>62</td>\n",
       "      <td>468</td>\n",
       "    </tr>\n",
       "    <tr>\n",
       "      <th>1</th>\n",
       "      <td>109</td>\n",
       "      <td>109</td>\n",
       "      <td>109</td>\n",
       "      <td>93</td>\n",
       "      <td>109</td>\n",
       "      <td>109</td>\n",
       "      <td>109</td>\n",
       "      <td>109</td>\n",
       "      <td>45</td>\n",
       "      <td>109</td>\n",
       "    </tr>\n",
       "  </tbody>\n",
       "</table>\n",
       "</div>"
      ],
      "text/plain": [
       "                 PassengerId  Pclass  Name  Age  SibSp  Parch  Ticket  Fare   \n",
       "Sex    Survived                                                               \n",
       "female 0                  81      81    81   64     81     81      81    81  \\\n",
       "       1                 233     233   233  197    233    233     233   233   \n",
       "male   0                 468     468   468  360    468    468     468   468   \n",
       "       1                 109     109   109   93    109    109     109   109   \n",
       "\n",
       "                 Cabin  Embarked  \n",
       "Sex    Survived                   \n",
       "female 0             6        81  \n",
       "       1            91       231  \n",
       "male   0            62       468  \n",
       "       1            45       109  "
      ]
     },
     "execution_count": 68,
     "metadata": {},
     "output_type": "execute_result"
    }
   ],
   "source": [
    "d = pd.read_csv(\"data/titanic.csv\")\n",
    "display(d.head(3))\n",
    "g = d.groupby([\"Sex\", \"Survived\"], dropna = False)\n",
    "g.count()\n",
    "\n",
    "#for k, v in g.groups: print(k, v)\n",
    "\n",
    "#e = g[\"Age\"]\n",
    "#g.get_group((\"female\", 0))\n",
    "#g.count()"
   ]
  },
  {
   "cell_type": "code",
   "execution_count": 70,
   "id": "3ebf0777-70f9-40d9-860e-5d464d45f657",
   "metadata": {},
   "outputs": [
    {
     "data": {
      "text/html": [
       "<div>\n",
       "<style scoped>\n",
       "    .dataframe tbody tr th:only-of-type {\n",
       "        vertical-align: middle;\n",
       "    }\n",
       "\n",
       "    .dataframe tbody tr th {\n",
       "        vertical-align: top;\n",
       "    }\n",
       "\n",
       "    .dataframe thead th {\n",
       "        text-align: right;\n",
       "    }\n",
       "</style>\n",
       "<table border=\"1\" class=\"dataframe\">\n",
       "  <thead>\n",
       "    <tr style=\"text-align: right;\">\n",
       "      <th></th>\n",
       "      <th>height</th>\n",
       "      <th>weight</th>\n",
       "    </tr>\n",
       "    <tr>\n",
       "      <th>kind</th>\n",
       "      <th></th>\n",
       "      <th></th>\n",
       "    </tr>\n",
       "  </thead>\n",
       "  <tbody>\n",
       "    <tr>\n",
       "      <th>cat</th>\n",
       "      <td>9.3</td>\n",
       "      <td>8.90</td>\n",
       "    </tr>\n",
       "    <tr>\n",
       "      <th>dog</th>\n",
       "      <td>20.0</td>\n",
       "      <td>102.75</td>\n",
       "    </tr>\n",
       "  </tbody>\n",
       "</table>\n",
       "</div>"
      ],
      "text/plain": [
       "      height  weight\n",
       "kind                \n",
       "cat      9.3    8.90\n",
       "dog     20.0  102.75"
      ]
     },
     "execution_count": 70,
     "metadata": {},
     "output_type": "execute_result"
    }
   ],
   "source": [
    "animals = pd.DataFrame(\n",
    "    {\n",
    "        \"kind\": [\"cat\", \"dog\", \"cat\", \"dog\"],\n",
    "        \"height\": [9.1, 6.0, 9.5, 34.0],\n",
    "        \"weight\": [7.9, 7.5, 9.9, 198.0],\n",
    "    }\n",
    ")\n",
    "animals.groupby(\"kind\").mean()"
   ]
  },
  {
   "cell_type": "markdown",
   "id": "f3a3b429-26ce-48cc-9eed-a810aefb1f04",
   "metadata": {},
   "source": [
    "### Встроенные методы агрегации\n",
    "\n",
    "* __any()__ - Compute whether any of the values in the groups are truthy\n",
    "* __all()__ - Compute whether all of the values in the groups are truthy\n",
    "* __count()__ - Compute the number of non-NA values in the groups\n",
    "* __cov()__ - Compute the covariance of the groups\n",
    "* __first()__ - Compute the first occurring value in each group\n",
    "* __idxmax()__ - Compute the index of the maximum value in each group\n",
    "* __idxmin()__ - Compute the index of the minimum value in each group\n",
    "* __last()__ - Compute the last occurring value in each group\n",
    "* __max()__ - Compue the maximum value in each group\n",
    "* __mean()__ - Compute the mean of each group\n",
    "* __median()__ - Compute the median of each group\n",
    "* __min()__ - Compute the minimum value in each group\n",
    "* __nunique()__ - Compute the number of unique values in each group\n",
    "* __prod()__ - Compute the product of the values in each group\n",
    "* __quantile()__ - Compute a given quantile of the values in each group\n",
    "* __sem()__ - Compute the standard error of the mean of the values in each group\n",
    "* __size()__ - Compute the number of values in each group\n",
    "* __skew()__ - Compute the skew of the values in each group\n",
    "* __std()__ - Compute the standard deviation of the values in each group\n",
    "* __sum()__ - Compute the sum of the values in each group\n",
    "* __var()__ - Compute the variance of the values in each group\n",
    "\n",
    "https://pandas.pydata.org/docs/user_guide/groupby.html#built-in-aggregation-methods"
   ]
  },
  {
   "cell_type": "markdown",
   "id": "4fdf141f-ce52-4140-9d51-24f0439a6b44",
   "metadata": {},
   "source": [
    "# Сравнение"
   ]
  },
  {
   "cell_type": "code",
   "execution_count": 33,
   "id": "f5e9ca65-6111-4925-93b0-1bf5bc70ac7f",
   "metadata": {},
   "outputs": [
    {
     "data": {
      "text/html": [
       "<div>\n",
       "<style scoped>\n",
       "    .dataframe tbody tr th:only-of-type {\n",
       "        vertical-align: middle;\n",
       "    }\n",
       "\n",
       "    .dataframe tbody tr th {\n",
       "        vertical-align: top;\n",
       "    }\n",
       "\n",
       "    .dataframe thead th {\n",
       "        text-align: right;\n",
       "    }\n",
       "</style>\n",
       "<table border=\"1\" class=\"dataframe\">\n",
       "  <thead>\n",
       "    <tr style=\"text-align: right;\">\n",
       "      <th></th>\n",
       "      <th>C1</th>\n",
       "      <th>C2</th>\n",
       "      <th>C3</th>\n",
       "    </tr>\n",
       "  </thead>\n",
       "  <tbody>\n",
       "    <tr>\n",
       "      <th>0</th>\n",
       "      <td>H</td>\n",
       "      <td>1.0</td>\n",
       "      <td>1.0</td>\n",
       "    </tr>\n",
       "    <tr>\n",
       "      <th>1</th>\n",
       "      <td>a</td>\n",
       "      <td>2.0</td>\n",
       "      <td>2.0</td>\n",
       "    </tr>\n",
       "    <tr>\n",
       "      <th>2</th>\n",
       "      <td>b</td>\n",
       "      <td>3.0</td>\n",
       "      <td>3.0</td>\n",
       "    </tr>\n",
       "    <tr>\n",
       "      <th>3</th>\n",
       "      <td>b</td>\n",
       "      <td>NaN</td>\n",
       "      <td>4.0</td>\n",
       "    </tr>\n",
       "    <tr>\n",
       "      <th>4</th>\n",
       "      <td>a</td>\n",
       "      <td>5.0</td>\n",
       "      <td>5.0</td>\n",
       "    </tr>\n",
       "  </tbody>\n",
       "</table>\n",
       "</div>"
      ],
      "text/plain": [
       "  C1   C2   C3\n",
       "0  H  1.0  1.0\n",
       "1  a  2.0  2.0\n",
       "2  b  3.0  3.0\n",
       "3  b  NaN  4.0\n",
       "4  a  5.0  5.0"
      ]
     },
     "metadata": {},
     "output_type": "display_data"
    },
    {
     "data": {
      "text/html": [
       "<div>\n",
       "<style scoped>\n",
       "    .dataframe tbody tr th:only-of-type {\n",
       "        vertical-align: middle;\n",
       "    }\n",
       "\n",
       "    .dataframe tbody tr th {\n",
       "        vertical-align: top;\n",
       "    }\n",
       "\n",
       "    .dataframe thead th {\n",
       "        text-align: right;\n",
       "    }\n",
       "</style>\n",
       "<table border=\"1\" class=\"dataframe\">\n",
       "  <thead>\n",
       "    <tr style=\"text-align: right;\">\n",
       "      <th></th>\n",
       "      <th>C1</th>\n",
       "      <th>C2</th>\n",
       "      <th>C3</th>\n",
       "    </tr>\n",
       "  </thead>\n",
       "  <tbody>\n",
       "    <tr>\n",
       "      <th>0</th>\n",
       "      <td>a</td>\n",
       "      <td>1.0</td>\n",
       "      <td>1.0</td>\n",
       "    </tr>\n",
       "    <tr>\n",
       "      <th>1</th>\n",
       "      <td>a</td>\n",
       "      <td>2.0</td>\n",
       "      <td>2.0</td>\n",
       "    </tr>\n",
       "    <tr>\n",
       "      <th>2</th>\n",
       "      <td>b</td>\n",
       "      <td>3.0</td>\n",
       "      <td>3.0</td>\n",
       "    </tr>\n",
       "    <tr>\n",
       "      <th>3</th>\n",
       "      <td>b</td>\n",
       "      <td>NaN</td>\n",
       "      <td>4.0</td>\n",
       "    </tr>\n",
       "    <tr>\n",
       "      <th>4</th>\n",
       "      <td>a</td>\n",
       "      <td>5.0</td>\n",
       "      <td>100.0</td>\n",
       "    </tr>\n",
       "  </tbody>\n",
       "</table>\n",
       "</div>"
      ],
      "text/plain": [
       "  C1   C2     C3\n",
       "0  a  1.0    1.0\n",
       "1  a  2.0    2.0\n",
       "2  b  3.0    3.0\n",
       "3  b  NaN    4.0\n",
       "4  a  5.0  100.0"
      ]
     },
     "metadata": {},
     "output_type": "display_data"
    },
    {
     "data": {
      "text/html": [
       "<div>\n",
       "<style scoped>\n",
       "    .dataframe tbody tr th:only-of-type {\n",
       "        vertical-align: middle;\n",
       "    }\n",
       "\n",
       "    .dataframe tbody tr th {\n",
       "        vertical-align: top;\n",
       "    }\n",
       "\n",
       "    .dataframe thead tr th {\n",
       "        text-align: left;\n",
       "    }\n",
       "</style>\n",
       "<table border=\"1\" class=\"dataframe\">\n",
       "  <thead>\n",
       "    <tr>\n",
       "      <th></th>\n",
       "      <th colspan=\"2\" halign=\"left\">C1</th>\n",
       "      <th colspan=\"2\" halign=\"left\">C2</th>\n",
       "      <th colspan=\"2\" halign=\"left\">C3</th>\n",
       "    </tr>\n",
       "    <tr>\n",
       "      <th></th>\n",
       "      <th>self</th>\n",
       "      <th>other</th>\n",
       "      <th>self</th>\n",
       "      <th>other</th>\n",
       "      <th>self</th>\n",
       "      <th>other</th>\n",
       "    </tr>\n",
       "  </thead>\n",
       "  <tbody>\n",
       "    <tr>\n",
       "      <th>0</th>\n",
       "      <td>H</td>\n",
       "      <td>a</td>\n",
       "      <td>NaN</td>\n",
       "      <td>NaN</td>\n",
       "      <td>NaN</td>\n",
       "      <td>NaN</td>\n",
       "    </tr>\n",
       "    <tr>\n",
       "      <th>1</th>\n",
       "      <td>NaN</td>\n",
       "      <td>NaN</td>\n",
       "      <td>NaN</td>\n",
       "      <td>NaN</td>\n",
       "      <td>NaN</td>\n",
       "      <td>NaN</td>\n",
       "    </tr>\n",
       "    <tr>\n",
       "      <th>2</th>\n",
       "      <td>NaN</td>\n",
       "      <td>NaN</td>\n",
       "      <td>NaN</td>\n",
       "      <td>NaN</td>\n",
       "      <td>NaN</td>\n",
       "      <td>NaN</td>\n",
       "    </tr>\n",
       "    <tr>\n",
       "      <th>3</th>\n",
       "      <td>NaN</td>\n",
       "      <td>NaN</td>\n",
       "      <td>NaN</td>\n",
       "      <td>NaN</td>\n",
       "      <td>NaN</td>\n",
       "      <td>NaN</td>\n",
       "    </tr>\n",
       "    <tr>\n",
       "      <th>4</th>\n",
       "      <td>NaN</td>\n",
       "      <td>NaN</td>\n",
       "      <td>NaN</td>\n",
       "      <td>NaN</td>\n",
       "      <td>5.0</td>\n",
       "      <td>100.0</td>\n",
       "    </tr>\n",
       "  </tbody>\n",
       "</table>\n",
       "</div>"
      ],
      "text/plain": [
       "    C1         C2         C3       \n",
       "  self other self other self  other\n",
       "0    H     a  NaN   NaN  NaN    NaN\n",
       "1  NaN   NaN  NaN   NaN  NaN    NaN\n",
       "2  NaN   NaN  NaN   NaN  NaN    NaN\n",
       "3  NaN   NaN  NaN   NaN  NaN    NaN\n",
       "4  NaN   NaN  NaN   NaN  5.0  100.0"
      ]
     },
     "metadata": {},
     "output_type": "display_data"
    }
   ],
   "source": [
    "df = pd.DataFrame({\n",
    "        \"C1\": [\"a\", \"a\", \"b\", \"b\", \"a\"],\n",
    "        \"C2\": [1.0, 2.0, 3.0, np.nan, 5.0],\n",
    "        \"C3\": [1.0, 2.0, 3.0, 4.0, 5.0],\n",
    "    },\n",
    "    columns=[\"C1\", \"C2\", \"C3\"],\n",
    ")\n",
    "df2 = df.copy()\n",
    "df.loc[0, \"C1\"] = \"H\"\n",
    "df2.loc[4, \"C3\"] = 100.0\n",
    "display(df, df2)\n",
    "r = df.compare(df2, keep_shape=True)\n",
    "display(r)"
   ]
  },
  {
   "cell_type": "markdown",
   "id": "35c0e866-33a1-411a-825d-fdbde147e988",
   "metadata": {
    "editable": true,
    "slideshow": {
     "slide_type": ""
    },
    "tags": []
   },
   "source": [
    "# Описательная статистика"
   ]
  },
  {
   "cell_type": "code",
   "execution_count": 34,
   "id": "41bf53ed-f63d-4778-a464-cdbe8ba887b0",
   "metadata": {
    "editable": true,
    "slideshow": {
     "slide_type": ""
    },
    "tags": []
   },
   "outputs": [
    {
     "name": "stdout",
     "output_type": "stream",
     "text": [
      "<class 'numpy.float64'>\n",
      "min       -35.413139\n",
      "max       -35.413139\n",
      "sum       697.743091\n",
      "mean        0.069774\n",
      "q05       -16.557344\n",
      "q50         0.064301\n",
      "q95        16.535177\n",
      "median      0.064301\n",
      "std        10.051473\n",
      "dtype: float64\n"
     ]
    },
    {
     "data": {
      "image/png": "[encoded data removed]",
      "text/plain": [
       "<Figure size 432x288 with 1 Axes>"
      ]
     },
     "metadata": {
      "needs_background": "light"
     },
     "output_type": "display_data"
    }
   ],
   "source": [
    "df = pd.Series(np.random.normal(0, 10.0, 10000))\n",
    "\n",
    "print(type(df.min()))\n",
    "\n",
    "stats = pd.Series()\n",
    "stats[\"min\"]    = df.min()\n",
    "stats[\"max\"]    = df.min()\n",
    "stats[\"sum\"]    = df.sum()\n",
    "stats[\"mean\"]   = df.mean()\n",
    "stats[\"q05\"]    = df.quantile(0.05)\n",
    "stats[\"q50\"]    = df.quantile(0.50)\n",
    "stats[\"q95\"]    = df.quantile(0.95)\n",
    "stats[\"median\"] = df.median()\n",
    "stats[\"std\"]    = df.std()\n",
    "\n",
    "print(stats)\n",
    "df.hist();"
   ]
  },
  {
   "cell_type": "code",
   "execution_count": 35,
   "id": "6de61278-614e-472e-9f04-881a16c64c50",
   "metadata": {
    "editable": true,
    "jupyter": {
     "source_hidden": true
    },
    "slideshow": {
     "slide_type": ""
    },
    "tags": []
   },
   "outputs": [
    {
     "name": "stdout",
     "output_type": "stream",
     "text": [
      "                  A           B\n",
      "min      -37.331896  -37.647576\n",
      "max       34.943804   37.229228\n",
      "sum     1015.960317 -545.627173\n",
      "mean       0.101596   -0.054563\n",
      "q05      -16.326935  -16.851148\n",
      "q50        0.120135    0.035678\n",
      "q95       16.714052   16.328000\n",
      "median     0.120135    0.035678\n",
      "std       10.012871   10.101986\n"
     ]
    }
   ],
   "source": [
    "df = pd.DataFrame({\n",
    "    \"A\": np.random.normal(0, 10.0, 10000),\n",
    "    \"B\": np.random.normal(0, 10.0, 10000)\n",
    "    })\n",
    "\n",
    "stats = pd.DataFrame()\n",
    "stats[\"min\"]    = df.min()\n",
    "stats[\"max\"]    = df.max()\n",
    "stats[\"sum\"]    = df.sum()\n",
    "stats[\"mean\"]   = df.mean()\n",
    "stats[\"q05\"]    = df.quantile(0.05)\n",
    "stats[\"q50\"]    = df.quantile(0.50)\n",
    "stats[\"q95\"]    = df.quantile(0.95)\n",
    "stats[\"median\"] = df.median()\n",
    "stats[\"std\"]    = df.std()\n",
    "stats = stats.T\n",
    "\n",
    "print(stats)\n",
    "# df.hist();"
   ]
  },
  {
   "cell_type": "code",
   "execution_count": 36,
   "id": "1ddd13ee-11ca-47c2-b2c7-0091a42d065d",
   "metadata": {
    "editable": true,
    "jupyter": {
     "source_hidden": true
    },
    "slideshow": {
     "slide_type": ""
    },
    "tags": []
   },
   "outputs": [
    {
     "data": {
      "text/html": [
       "<div>\n",
       "<style scoped>\n",
       "    .dataframe tbody tr th:only-of-type {\n",
       "        vertical-align: middle;\n",
       "    }\n",
       "\n",
       "    .dataframe tbody tr th {\n",
       "        vertical-align: top;\n",
       "    }\n",
       "\n",
       "    .dataframe thead th {\n",
       "        text-align: right;\n",
       "    }\n",
       "</style>\n",
       "<table border=\"1\" class=\"dataframe\">\n",
       "  <thead>\n",
       "    <tr style=\"text-align: right;\">\n",
       "      <th></th>\n",
       "      <th>A</th>\n",
       "      <th>B</th>\n",
       "    </tr>\n",
       "  </thead>\n",
       "  <tbody>\n",
       "    <tr>\n",
       "      <th>count</th>\n",
       "      <td>10000.000000</td>\n",
       "      <td>10000.000000</td>\n",
       "    </tr>\n",
       "    <tr>\n",
       "      <th>mean</th>\n",
       "      <td>0.101596</td>\n",
       "      <td>-0.054563</td>\n",
       "    </tr>\n",
       "    <tr>\n",
       "      <th>std</th>\n",
       "      <td>10.012871</td>\n",
       "      <td>10.101986</td>\n",
       "    </tr>\n",
       "    <tr>\n",
       "      <th>min</th>\n",
       "      <td>-37.331896</td>\n",
       "      <td>-37.647576</td>\n",
       "    </tr>\n",
       "    <tr>\n",
       "      <th>25%</th>\n",
       "      <td>-6.640964</td>\n",
       "      <td>-6.839784</td>\n",
       "    </tr>\n",
       "    <tr>\n",
       "      <th>50%</th>\n",
       "      <td>0.120135</td>\n",
       "      <td>0.035678</td>\n",
       "    </tr>\n",
       "    <tr>\n",
       "      <th>75%</th>\n",
       "      <td>6.603700</td>\n",
       "      <td>6.805573</td>\n",
       "    </tr>\n",
       "    <tr>\n",
       "      <th>max</th>\n",
       "      <td>34.943804</td>\n",
       "      <td>37.229228</td>\n",
       "    </tr>\n",
       "  </tbody>\n",
       "</table>\n",
       "</div>"
      ],
      "text/plain": [
       "                  A             B\n",
       "count  10000.000000  10000.000000\n",
       "mean       0.101596     -0.054563\n",
       "std       10.012871     10.101986\n",
       "min      -37.331896    -37.647576\n",
       "25%       -6.640964     -6.839784\n",
       "50%        0.120135      0.035678\n",
       "75%        6.603700      6.805573\n",
       "max       34.943804     37.229228"
      ]
     },
     "execution_count": 36,
     "metadata": {},
     "output_type": "execute_result"
    }
   ],
   "source": [
    "df.describe()"
   ]
  },
  {
   "cell_type": "markdown",
   "id": "ccce0fce-ae2f-497f-87e6-7eb49bb6263f",
   "metadata": {},
   "source": [
    "# Сводные таблицы"
   ]
  },
  {
   "cell_type": "markdown",
   "id": "4760b1c5-ac66-4466-8c40-a1f2b7b5502b",
   "metadata": {},
   "source": [
    "## Простой пример"
   ]
  },
  {
   "cell_type": "code",
   "execution_count": 37,
   "id": "33513359-84ad-4c90-9218-2e319ff99d92",
   "metadata": {},
   "outputs": [
    {
     "data": {
      "text/html": [
       "<div>\n",
       "<style scoped>\n",
       "    .dataframe tbody tr th:only-of-type {\n",
       "        vertical-align: middle;\n",
       "    }\n",
       "\n",
       "    .dataframe tbody tr th {\n",
       "        vertical-align: top;\n",
       "    }\n",
       "\n",
       "    .dataframe thead th {\n",
       "        text-align: right;\n",
       "    }\n",
       "</style>\n",
       "<table border=\"1\" class=\"dataframe\">\n",
       "  <thead>\n",
       "    <tr style=\"text-align: right;\">\n",
       "      <th></th>\n",
       "      <th>value</th>\n",
       "      <th>variable</th>\n",
       "      <th>date</th>\n",
       "    </tr>\n",
       "  </thead>\n",
       "  <tbody>\n",
       "    <tr>\n",
       "      <th>0</th>\n",
       "      <td>0</td>\n",
       "      <td>A</td>\n",
       "      <td>2020-01-03</td>\n",
       "    </tr>\n",
       "    <tr>\n",
       "      <th>1</th>\n",
       "      <td>1</td>\n",
       "      <td>A</td>\n",
       "      <td>2020-01-04</td>\n",
       "    </tr>\n",
       "    <tr>\n",
       "      <th>2</th>\n",
       "      <td>2</td>\n",
       "      <td>A</td>\n",
       "      <td>2020-01-05</td>\n",
       "    </tr>\n",
       "    <tr>\n",
       "      <th>3</th>\n",
       "      <td>3</td>\n",
       "      <td>B</td>\n",
       "      <td>2020-01-03</td>\n",
       "    </tr>\n",
       "    <tr>\n",
       "      <th>4</th>\n",
       "      <td>4</td>\n",
       "      <td>B</td>\n",
       "      <td>2020-01-04</td>\n",
       "    </tr>\n",
       "    <tr>\n",
       "      <th>5</th>\n",
       "      <td>5</td>\n",
       "      <td>B</td>\n",
       "      <td>2020-01-05</td>\n",
       "    </tr>\n",
       "    <tr>\n",
       "      <th>6</th>\n",
       "      <td>6</td>\n",
       "      <td>C</td>\n",
       "      <td>2020-01-03</td>\n",
       "    </tr>\n",
       "    <tr>\n",
       "      <th>7</th>\n",
       "      <td>7</td>\n",
       "      <td>C</td>\n",
       "      <td>2020-01-04</td>\n",
       "    </tr>\n",
       "    <tr>\n",
       "      <th>8</th>\n",
       "      <td>8</td>\n",
       "      <td>C</td>\n",
       "      <td>2020-01-05</td>\n",
       "    </tr>\n",
       "    <tr>\n",
       "      <th>9</th>\n",
       "      <td>9</td>\n",
       "      <td>D</td>\n",
       "      <td>2020-01-03</td>\n",
       "    </tr>\n",
       "    <tr>\n",
       "      <th>10</th>\n",
       "      <td>10</td>\n",
       "      <td>D</td>\n",
       "      <td>2020-01-04</td>\n",
       "    </tr>\n",
       "    <tr>\n",
       "      <th>11</th>\n",
       "      <td>11</td>\n",
       "      <td>D</td>\n",
       "      <td>2020-01-05</td>\n",
       "    </tr>\n",
       "  </tbody>\n",
       "</table>\n",
       "</div>"
      ],
      "text/plain": [
       "    value variable       date\n",
       "0       0        A 2020-01-03\n",
       "1       1        A 2020-01-04\n",
       "2       2        A 2020-01-05\n",
       "3       3        B 2020-01-03\n",
       "4       4        B 2020-01-04\n",
       "5       5        B 2020-01-05\n",
       "6       6        C 2020-01-03\n",
       "7       7        C 2020-01-04\n",
       "8       8        C 2020-01-05\n",
       "9       9        D 2020-01-03\n",
       "10     10        D 2020-01-04\n",
       "11     11        D 2020-01-05"
      ]
     },
     "execution_count": 37,
     "metadata": {},
     "output_type": "execute_result"
    }
   ],
   "source": [
    "data = {\n",
    "   \"value\": range(12),\n",
    "   \"variable\": [\"A\"] * 3 + [\"B\"] * 3 + [\"C\"] * 3 + [\"D\"] * 3,\n",
    "   \"date\": pd.to_datetime([\"2020-01-03\", \"2020-01-04\", \"2020-01-05\"] * 4)\n",
    "}\n",
    "\n",
    "df = pd.DataFrame(data)\n",
    "df"
   ]
  },
  {
   "cell_type": "code",
   "execution_count": 38,
   "id": "bb771818-f9db-4f1c-8673-6d912e40cb01",
   "metadata": {
    "editable": true,
    "slideshow": {
     "slide_type": ""
    },
    "tags": []
   },
   "outputs": [
    {
     "data": {
      "text/html": [
       "<div>\n",
       "<style scoped>\n",
       "    .dataframe tbody tr th:only-of-type {\n",
       "        vertical-align: middle;\n",
       "    }\n",
       "\n",
       "    .dataframe tbody tr th {\n",
       "        vertical-align: top;\n",
       "    }\n",
       "\n",
       "    .dataframe thead th {\n",
       "        text-align: right;\n",
       "    }\n",
       "</style>\n",
       "<table border=\"1\" class=\"dataframe\">\n",
       "  <thead>\n",
       "    <tr style=\"text-align: right;\">\n",
       "      <th>variable</th>\n",
       "      <th>A</th>\n",
       "      <th>B</th>\n",
       "      <th>C</th>\n",
       "      <th>D</th>\n",
       "    </tr>\n",
       "    <tr>\n",
       "      <th>date</th>\n",
       "      <th></th>\n",
       "      <th></th>\n",
       "      <th></th>\n",
       "      <th></th>\n",
       "    </tr>\n",
       "  </thead>\n",
       "  <tbody>\n",
       "    <tr>\n",
       "      <th>2020-01-03</th>\n",
       "      <td>0</td>\n",
       "      <td>3</td>\n",
       "      <td>6</td>\n",
       "      <td>9</td>\n",
       "    </tr>\n",
       "    <tr>\n",
       "      <th>2020-01-04</th>\n",
       "      <td>1</td>\n",
       "      <td>4</td>\n",
       "      <td>7</td>\n",
       "      <td>10</td>\n",
       "    </tr>\n",
       "    <tr>\n",
       "      <th>2020-01-05</th>\n",
       "      <td>2</td>\n",
       "      <td>5</td>\n",
       "      <td>8</td>\n",
       "      <td>11</td>\n",
       "    </tr>\n",
       "  </tbody>\n",
       "</table>\n",
       "</div>"
      ],
      "text/plain": [
       "variable    A  B  C   D\n",
       "date                   \n",
       "2020-01-03  0  3  6   9\n",
       "2020-01-04  1  4  7  10\n",
       "2020-01-05  2  5  8  11"
      ]
     },
     "execution_count": 38,
     "metadata": {},
     "output_type": "execute_result"
    }
   ],
   "source": [
    "df.pivot(index=\"date\", columns=\"variable\", values=\"value\")"
   ]
  },
  {
   "cell_type": "markdown",
   "id": "e3a6fbe3-9aea-41f5-9ac4-2183ff76c471",
   "metadata": {},
   "source": [
    "# Временные Ряды\n",
    "\n",
    "Тип для работы с временем:\n",
    "* pd.Timestamp\n",
    "\n",
    "Формат ISO-8601:\n",
    "* 2023-11-13\n",
    "* 2023-11-13T06:27:57+00:00\n",
    "* 2023-11-13T06:27:57.123456\n",
    "\n",
    "Способы задания:\n",
    "* pd.Timestamp(year = 2023, month = 10, day = 8, hour = 23, minute = 20, second = 1, microsecond = 123456, tz = 3)\n",
    "* pd.to_datetime(\"2023-10-10\")\n",
    "* pd.to_datetime(datetime.datetime(2023, 10, 13))\n",
    "* pd_to_datetime(np.datetime64)\n",
    "\n",
    "Задания диапазона:\n",
    "* pd.date_range(\"2018-01-01\", periods=10, freq=\"D\")"
   ]
  },
  {
   "cell_type": "code",
   "execution_count": 39,
   "id": "d9aa7be8-275b-49c5-9764-dcaf967a806c",
   "metadata": {},
   "outputs": [
    {
     "data": {
      "text/plain": [
       "DatetimeIndex(['2018-01-01 00:00:00', '2018-01-01 01:00:00',\n",
       "               '2018-01-01 02:00:00'],\n",
       "              dtype='datetime64[ns]', freq='H')"
      ]
     },
     "execution_count": 39,
     "metadata": {},
     "output_type": "execute_result"
    }
   ],
   "source": [
    "pd.date_range(\"2018-01-01\", periods=3, freq=\"H\")"
   ]
  },
  {
   "cell_type": "markdown",
   "id": "8e5ff009-15e5-4bf1-93c3-d214f88b9dbd",
   "metadata": {},
   "source": [
    "# Векторизация\n",
    "\n",
    "Вид распараллеливания программы, при котором однопоточные приложения, выполняющие одну операцию в каждый момент времени, модифицируются для выполнения нескольких однотипных операций одновременно.\n",
    "\n",
    "Типы:\n",
    "* SISD (single instruction, single data)\n",
    "* SIMD (single instruction, multiple data)\n",
    "* MISD\n",
    "* MIMD\n",
    "\n",
    "https://ru.wikipedia.org/wiki/SIMD"
   ]
  },
  {
   "cell_type": "markdown",
   "id": "9b7f6ecc-8f6a-486d-85a6-e9b4dedb9626",
   "metadata": {},
   "source": [
    "# Ускорение расчетов\n",
    "\n",
    "* Использование Cython\n",
    "* "
   ]
  },
  {
   "cell_type": "markdown",
   "id": "db003f80-0de5-4a59-ac72-daf61082a86e",
   "metadata": {},
   "source": [
    "## Использование Cython"
   ]
  },
  {
   "cell_type": "code",
   "execution_count": 40,
   "id": "42f698b0-2a36-4eee-b994-94c88924fddd",
   "metadata": {},
   "outputs": [],
   "source": [
    "%load_ext Cython"
   ]
  },
  {
   "cell_type": "code",
   "execution_count": 41,
   "id": "01030e64-0f77-4bba-908a-ab5b7c71d5f5",
   "metadata": {},
   "outputs": [
    {
     "data": {
      "text/html": [
       "<div>\n",
       "<style scoped>\n",
       "    .dataframe tbody tr th:only-of-type {\n",
       "        vertical-align: middle;\n",
       "    }\n",
       "\n",
       "    .dataframe tbody tr th {\n",
       "        vertical-align: top;\n",
       "    }\n",
       "\n",
       "    .dataframe thead th {\n",
       "        text-align: right;\n",
       "    }\n",
       "</style>\n",
       "<table border=\"1\" class=\"dataframe\">\n",
       "  <thead>\n",
       "    <tr style=\"text-align: right;\">\n",
       "      <th></th>\n",
       "      <th>a</th>\n",
       "      <th>b</th>\n",
       "      <th>N</th>\n",
       "      <th>x</th>\n",
       "    </tr>\n",
       "  </thead>\n",
       "  <tbody>\n",
       "    <tr>\n",
       "      <th>0</th>\n",
       "      <td>-0.202817</td>\n",
       "      <td>1.356783</td>\n",
       "      <td>734</td>\n",
       "      <td>x</td>\n",
       "    </tr>\n",
       "    <tr>\n",
       "      <th>1</th>\n",
       "      <td>-1.310161</td>\n",
       "      <td>-2.733540</td>\n",
       "      <td>603</td>\n",
       "      <td>x</td>\n",
       "    </tr>\n",
       "    <tr>\n",
       "      <th>2</th>\n",
       "      <td>-0.517037</td>\n",
       "      <td>-0.674483</td>\n",
       "      <td>810</td>\n",
       "      <td>x</td>\n",
       "    </tr>\n",
       "    <tr>\n",
       "      <th>3</th>\n",
       "      <td>-1.037555</td>\n",
       "      <td>1.289645</td>\n",
       "      <td>217</td>\n",
       "      <td>x</td>\n",
       "    </tr>\n",
       "    <tr>\n",
       "      <th>4</th>\n",
       "      <td>-1.326197</td>\n",
       "      <td>-0.377445</td>\n",
       "      <td>796</td>\n",
       "      <td>x</td>\n",
       "    </tr>\n",
       "    <tr>\n",
       "      <th>...</th>\n",
       "      <td>...</td>\n",
       "      <td>...</td>\n",
       "      <td>...</td>\n",
       "      <td>...</td>\n",
       "    </tr>\n",
       "    <tr>\n",
       "      <th>995</th>\n",
       "      <td>0.061554</td>\n",
       "      <td>0.294387</td>\n",
       "      <td>590</td>\n",
       "      <td>x</td>\n",
       "    </tr>\n",
       "    <tr>\n",
       "      <th>996</th>\n",
       "      <td>-0.686865</td>\n",
       "      <td>1.605193</td>\n",
       "      <td>545</td>\n",
       "      <td>x</td>\n",
       "    </tr>\n",
       "    <tr>\n",
       "      <th>997</th>\n",
       "      <td>-0.718194</td>\n",
       "      <td>1.751184</td>\n",
       "      <td>353</td>\n",
       "      <td>x</td>\n",
       "    </tr>\n",
       "    <tr>\n",
       "      <th>998</th>\n",
       "      <td>1.272736</td>\n",
       "      <td>-0.631775</td>\n",
       "      <td>295</td>\n",
       "      <td>x</td>\n",
       "    </tr>\n",
       "    <tr>\n",
       "      <th>999</th>\n",
       "      <td>-1.154625</td>\n",
       "      <td>-1.122883</td>\n",
       "      <td>475</td>\n",
       "      <td>x</td>\n",
       "    </tr>\n",
       "  </tbody>\n",
       "</table>\n",
       "<p>1000 rows × 4 columns</p>\n",
       "</div>"
      ],
      "text/plain": [
       "            a         b    N  x\n",
       "0   -0.202817  1.356783  734  x\n",
       "1   -1.310161 -2.733540  603  x\n",
       "2   -0.517037 -0.674483  810  x\n",
       "3   -1.037555  1.289645  217  x\n",
       "4   -1.326197 -0.377445  796  x\n",
       "..        ...       ...  ... ..\n",
       "995  0.061554  0.294387  590  x\n",
       "996 -0.686865  1.605193  545  x\n",
       "997 -0.718194  1.751184  353  x\n",
       "998  1.272736 -0.631775  295  x\n",
       "999 -1.154625 -1.122883  475  x\n",
       "\n",
       "[1000 rows x 4 columns]"
      ]
     },
     "execution_count": 41,
     "metadata": {},
     "output_type": "execute_result"
    }
   ],
   "source": [
    "df = pd.DataFrame({\n",
    "        \"a\": np.random.randn(1000),\n",
    "        \"b\": np.random.randn(1000),\n",
    "        \"N\": np.random.randint(100, 1000, (1000)),\n",
    "        \"x\": \"x\",\n",
    "    })\n",
    "df"
   ]
  },
  {
   "cell_type": "markdown",
   "id": "1ae9acb7-2402-480b-a1f1-fb149f083122",
   "metadata": {
    "editable": true,
    "slideshow": {
     "slide_type": ""
    },
    "tags": []
   },
   "source": [
    "# Особенности Pandas\n",
    "\n",
    "* Все операции происходят в памяти, в отличие от баз данных, но есть способы работы с большими данными\n",
    "* Фичи для работы с разряженными массивами\n",
    "* Использование cython или numpy ускоряет расчеты"
   ]
  }
 ],
 "metadata": {
  "kernelspec": {
   "display_name": "Python 3 (ipykernel)",
   "language": "python",
   "name": "python3"
  },
  "language_info": {
   "codemirror_mode": {
    "name": "ipython",
    "version": 3
   },
   "file_extension": ".py",
   "mimetype": "text/x-python",
   "name": "python",
   "nbconvert_exporter": "python",
   "pygments_lexer": "ipython3",
   "version": "3.10.12"
  }
 },
 "nbformat": 4,
 "nbformat_minor": 5
}
