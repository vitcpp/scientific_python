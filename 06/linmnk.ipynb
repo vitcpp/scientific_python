{
 "cells": [
  {
   "cell_type": "markdown",
   "id": "0e9bb6a4-930b-4590-b675-317578ccd3a7",
   "metadata": {
    "editable": true,
    "slideshow": {
     "slide_type": "slide"
    },
    "tags": []
   },
   "source": [
    "# Метод Наименьших Квадратов\n",
    "\n",
    "Метод наименьших квадратов (МНК) — математический метод, применяемый для решения различных задач, основанный на минимизации суммы квадратов отклонений некоторых функций от экспериментальных входных данных. Он может использоваться для «решения» переопределенных систем уравнений (когда количество уравнений превышает количество неизвестных), для поиска решения в случае обычных (не переопределенных) нелинейных систем уравнений, для аппроксимации точечных значений некоторой функции. МНК является одним из базовых методов регрессионного анализа для оценки неизвестных параметров регрессионных моделей по выборочным данным.\n",
    "\n",
    "$$\n",
    "F(\\beta) = \\sum_{n = 1}^{N} (y_i - f(x_i, \\beta))^2\n",
    "$$"
   ]
  },
  {
   "cell_type": "markdown",
   "id": "889b2d2c-872a-4fb7-8f89-b4f90e307c6d",
   "metadata": {
    "editable": true,
    "slideshow": {
     "slide_type": "slide"
    },
    "tags": []
   },
   "source": [
    "## Линейный МНК\n",
    "\n",
    "Рассмотрим задачу аппроксимации наблюдений линейной функцией вида $y = a x + b$. Найти оптимальные коэффициенты $a$, $b$, которые минимизируют сумму квадратов отклонений.\n",
    "\n",
    "$$\n",
    "F(a, b) = \\sum_{n = 1}^{N} (y_i - a x_i - b)^2\n",
    "$$\n",
    "\n",
    "RSS - Residual Sum of Squares\n",
    "\n",
    "Перепишем в матричной форме в виде:\n",
    "\n",
    "$$\n",
    "Y = AP\n",
    "$$\n",
    "\n",
    "В развернутом виде:\n",
    "\n",
    "$$\n",
    "\\begin{bmatrix}\n",
    "y_1 \\\\\n",
    "y_2 \\\\\n",
    "... \\\\\n",
    "y_N\n",
    "\\end{bmatrix} = \n",
    "\\begin{bmatrix}\n",
    "x_1 & 1 \\\\\n",
    "x_2 & 1 \\\\\n",
    "...     \\\\\n",
    "x_N & 1\n",
    "\\end{bmatrix}\n",
    "\\begin{bmatrix}\n",
    "a \\\\\n",
    "b \\\\\n",
    "\\end{bmatrix}\n",
    "$$\n",
    "<!-- \n",
    "Для нахождения минимума функционала продифференцируем по коэффициентам:\n",
    "\n",
    "$$\n",
    "\\frac{\\partial F}{\\partial a} = 2 \\sum_{n = 1}^{N} (y_i - a x_i - b)) (-x_i) = 0\n",
    "$$\n",
    "\n",
    "$$\n",
    "\\frac{\\partial F}{\\partial b} = 2 \\sum_{n = 1}^{N} (y_i - a x_i - b)) (-1) = 0\n",
    "$$ -->\n"
   ]
  },
  {
   "cell_type": "code",
   "execution_count": 1,
   "id": "27a063c9-46ab-492d-8023-8505492391cd",
   "metadata": {
    "editable": true,
    "slideshow": {
     "slide_type": "slide"
    },
    "tags": []
   },
   "outputs": [],
   "source": [
    "import numpy as np\n",
    "import matplotlib.pyplot as plt"
   ]
  },
  {
   "cell_type": "markdown",
   "id": "1f41e0b6-d63c-44fd-b7ce-ac2f573124c0",
   "metadata": {
    "editable": true,
    "slideshow": {
     "slide_type": "slide"
    },
    "tags": []
   },
   "source": [
    "## Пример"
   ]
  },
  {
   "cell_type": "code",
   "execution_count": 4,
   "id": "f5329d4c-250b-4de0-85ef-a38cd5c59678",
   "metadata": {
    "editable": true,
    "slideshow": {
     "slide_type": "slide"
    },
    "tags": []
   },
   "outputs": [],
   "source": [
    "N = 100     # число экспериментов\n",
    "sigma = 3   # стандартное отклонение наблюдаемых значений\n",
    "k = 0.5     # теоретическое значение параметра k\n",
    "b = 2       # теоретическое значение параметра b"
   ]
  },
  {
   "cell_type": "code",
   "execution_count": 9,
   "id": "42c66268-ed95-4b24-8b30-25c2cbe9d9da",
   "metadata": {
    "editable": true,
    "slideshow": {
     "slide_type": ""
    },
    "tags": []
   },
   "outputs": [],
   "source": [
    "x = np.linspace(0, 100, N)\n",
    "f = k*x + b\n",
    "y = f + np.random.normal(0, sigma, N)"
   ]
  },
  {
   "cell_type": "code",
   "execution_count": 10,
   "id": "dd9c2a05-033f-45d4-8fce-c1bd7f5e840c",
   "metadata": {
    "editable": true,
    "slideshow": {
     "slide_type": "slide"
    },
    "tags": []
   },
   "outputs": [
    {
     "data": {
      "image/png": "[encoded data removed]",
      "text/plain": [
       "<Figure size 432x288 with 1 Axes>"
      ]
     },
     "metadata": {
      "needs_background": "light"
     },
     "output_type": "display_data"
    }
   ],
   "source": [
    "plt.scatter(x, y)\n",
    "plt.grid(True)\n",
    "plt.show()"
   ]
  },
  {
   "cell_type": "code",
   "execution_count": 11,
   "id": "9e66186e-96f8-422d-8f9f-5394a38b5edd",
   "metadata": {
    "editable": true,
    "slideshow": {
     "slide_type": "slide"
    },
    "tags": []
   },
   "outputs": [],
   "source": [
    "A = np.array([x, np.ones(N)])\n",
    "w = np.linalg.lstsq(A.T, y, rcond=None)[0]"
   ]
  },
  {
   "cell_type": "code",
   "execution_count": 14,
   "id": "9953f47d-00d2-44c3-8e1c-c78f40688ef1",
   "metadata": {
    "editable": true,
    "slideshow": {
     "slide_type": "slide"
    },
    "tags": []
   },
   "outputs": [
    {
     "data": {
      "image/png": "[encoded data removed]",
      "text/plain": [
       "<Figure size 432x288 with 1 Axes>"
      ]
     },
     "metadata": {
      "needs_background": "light"
     },
     "output_type": "display_data"
    }
   ],
   "source": [
    "fcalc = w[0]*x + w[1]\n",
    "plt.plot(x, fcalc, \"r-\")\n",
    "plt.scatter(x, y)\n",
    "plt.grid(True)\n",
    "plt.show()"
   ]
  }
 ],
 "metadata": {
  "kernelspec": {
   "display_name": "Python 3 (ipykernel)",
   "language": "python",
   "name": "python3"
  },
  "language_info": {
   "codemirror_mode": {
    "name": "ipython",
    "version": 3
   },
   "file_extension": ".py",
   "mimetype": "text/x-python",
   "name": "python",
   "nbconvert_exporter": "python",
   "pygments_lexer": "ipython3",
   "version": "3.10.12"
  }
 },
 "nbformat": 4,
 "nbformat_minor": 5
}
