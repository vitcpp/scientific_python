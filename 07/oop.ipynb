{
 "cells": [
  {
   "cell_type": "markdown",
   "id": "a1ccfb40-8e1b-4a78-b927-1ac04ecb68dc",
   "metadata": {
    "editable": true,
    "slideshow": {
     "slide_type": ""
    },
    "tags": []
   },
   "source": [
    "# Лекция 7. ООП"
   ]
  },
  {
   "cell_type": "markdown",
   "id": "73e9b65a-d37c-451f-a5c6-56ac2b85776f",
   "metadata": {
    "editable": true,
    "slideshow": {
     "slide_type": "slide"
    },
    "tags": []
   },
   "source": [
    "Объектно-ориентированние программирование - это методология программирования, основанная на представлении программы как совокупности взаимодействующих объектов. Объекты могут образовывать иерархии наследования (наследование), либо включать другие объекты (композиция).\n",
    "\n",
    "Python поддерживает объектно-ориентированное программирование:\n",
    "* Предоставляет языковые конструкции для создания и использования объектов\n",
    "* Позволяет использовать объекты как обычные переменные\n",
    "\n"
   ]
  },
  {
   "cell_type": "markdown",
   "id": "d44debe1-e645-4ac4-8ed0-c5ca92718b7a",
   "metadata": {
    "editable": true,
    "slideshow": {
     "slide_type": "slide"
    },
    "tags": []
   },
   "source": [
    "## Объект\n",
    "\n",
    "* Сущность, обладающая состоянием и поведением (имеющая поля и методы)\n",
    "* Экземпляр класса\n",
    "\n",
    "Вопрос: Каким способом можно создать новый объект с заданными полями и поведением?"
   ]
  },
  {
   "cell_type": "markdown",
   "id": "b407bb18-b7cc-415f-b85f-078e80253c4d",
   "metadata": {
    "editable": true,
    "slideshow": {
     "slide_type": "slide"
    },
    "tags": []
   },
   "source": [
    "## Класс объекта\n",
    "\n",
    "* Шаблон, по которому создаются объекты\n",
    "* Класс - это \"чертеж\" объекта\n",
    "* Класс описывает поля и методы, которые будут у объекта\n",
    "* Определенный пользователем тип (C++)\n",
    "\n",
    "В Python можно определять классы, по которым можно создавать объекты (экземпляры класса): `class`\n",
    "\n",
    "Объекты класса описываются указанием следующих структурных элементов:\n",
    "* Поля (состояние)\n",
    "* Методы (поведение)"
   ]
  },
  {
   "cell_type": "markdown",
   "id": "b110667d-d3c1-4de5-9ee1-1fc949b40d96",
   "metadata": {
    "editable": true,
    "slideshow": {
     "slide_type": "slide"
    },
    "tags": []
   },
   "source": [
    "## Простой пример\n",
    "Создание класса с одним полем"
   ]
  },
  {
   "cell_type": "code",
   "execution_count": 1,
   "id": "957bf4ef-9953-4c82-9847-effbf8d5e34b",
   "metadata": {
    "editable": true,
    "slideshow": {
     "slide_type": "fragment"
    },
    "tags": []
   },
   "outputs": [],
   "source": [
    "class A:\n",
    "    def __init__(self):\n",
    "        self.value = 0"
   ]
  },
  {
   "cell_type": "markdown",
   "id": "7dafb69b-a000-434f-a7ca-08efbf89a97d",
   "metadata": {
    "editable": true,
    "slideshow": {
     "slide_type": "fragment"
    },
    "tags": []
   },
   "source": [
    "Создание (конструирование) объекта (экземпляра) класса:\n",
    "* Используется метод-конструктор объекта: `ClassName()`\n",
    "* Если конструктор не задан, он создается по-умолчанию"
   ]
  },
  {
   "cell_type": "code",
   "execution_count": 2,
   "id": "644de3c9-fce4-469f-ab3d-ba3f7c3b9bb1",
   "metadata": {
    "editable": true,
    "slideshow": {
     "slide_type": "fragment"
    },
    "tags": []
   },
   "outputs": [
    {
     "name": "stdout",
     "output_type": "stream",
     "text": [
      "<class '__main__.A'>\n",
      "0\n"
     ]
    }
   ],
   "source": [
    "x = A()\n",
    "print(type(x))\n",
    "print(x.value)"
   ]
  },
  {
   "cell_type": "markdown",
   "id": "49965314-8435-4fd4-adf6-9a52be6d0a99",
   "metadata": {
    "editable": true,
    "slideshow": {
     "slide_type": "slide"
    },
    "tags": []
   },
   "source": [
    "## Конструктор\n",
    "\n",
    "Используется для задания начального состояния объекта, выполнения инициализирующих действий."
   ]
  },
  {
   "cell_type": "code",
   "execution_count": 3,
   "id": "60c70a3d-cb42-4127-a3a2-057507df6415",
   "metadata": {
    "editable": true,
    "slideshow": {
     "slide_type": "fragment"
    },
    "tags": []
   },
   "outputs": [],
   "source": [
    "class A:\n",
    "    def __init__(self):\n",
    "        self.value = 10"
   ]
  },
  {
   "cell_type": "code",
   "execution_count": 4,
   "id": "02e9c4e6-d392-4004-8c94-c0947a6e408e",
   "metadata": {
    "editable": true,
    "slideshow": {
     "slide_type": "fragment"
    },
    "tags": []
   },
   "outputs": [
    {
     "name": "stdout",
     "output_type": "stream",
     "text": [
      "10\n"
     ]
    }
   ],
   "source": [
    "x = A()\n",
    "print(x.value)"
   ]
  },
  {
   "cell_type": "code",
   "execution_count": 1,
   "id": "03ce094e-35f5-4fa1-b345-9ad1c04424a2",
   "metadata": {
    "editable": true,
    "slideshow": {
     "slide_type": "fragment"
    },
    "tags": []
   },
   "outputs": [],
   "source": [
    "class A:\n",
    "    def __init__(self, value):\n",
    "        self.value = value"
   ]
  },
  {
   "cell_type": "code",
   "execution_count": 6,
   "id": "f70cb0eb-9105-4f3d-9059-dc96b9db00e1",
   "metadata": {
    "editable": true,
    "slideshow": {
     "slide_type": "fragment"
    },
    "tags": []
   },
   "outputs": [
    {
     "name": "stdout",
     "output_type": "stream",
     "text": [
      "123\n"
     ]
    }
   ],
   "source": [
    "x = A(123)\n",
    "print(x.value)"
   ]
  },
  {
   "cell_type": "markdown",
   "id": "25812cc0-bc84-4fe5-a483-bf10995affa7",
   "metadata": {
    "editable": true,
    "slideshow": {
     "slide_type": "slide"
    },
    "tags": []
   },
   "source": [
    "## Пример: Комплексное число"
   ]
  },
  {
   "cell_type": "code",
   "execution_count": 7,
   "id": "757750e4-d2a2-4c1c-b931-52f1889ca785",
   "metadata": {
    "editable": true,
    "slideshow": {
     "slide_type": "fragment"
    },
    "tags": []
   },
   "outputs": [
    {
     "name": "stdout",
     "output_type": "stream",
     "text": [
      "11.5 1.2\n"
     ]
    }
   ],
   "source": [
    "class Complex:\n",
    "\n",
    "    def __init__(self, re, im):\n",
    "        self.re = re\n",
    "        self.im = im\n",
    "\n",
    "    def __add__(self, o):\n",
    "        if isinstance(o, int):\n",
    "            self.re += o\n",
    "            return self\n",
    "        self.re += o.re\n",
    "        self.im += o.im\n",
    "        return self\n",
    "\n",
    "x1 = Complex(1.5, 1.2)\n",
    "x2 = Complex(-1, 0)\n",
    "x = x1 + 10\n",
    "print(x.re, x.im)"
   ]
  },
  {
   "cell_type": "markdown",
   "id": "0a960e08-f7c2-4a1f-b355-efc4ed21fab1",
   "metadata": {
    "editable": true,
    "slideshow": {
     "slide_type": "slide"
    },
    "tags": []
   },
   "source": [
    "## Поведение объектов\n",
    "\n",
    "Набор функций объекта определяют его поведение. Должны быть определены интерфейсные методы объекта, чтобы объект можно было использовать в коде (вызывать его методы).\n",
    "\n",
    "* Создать объект\n",
    "* Представить объект в виде строки\n",
    "* Получить хэш объекта\n",
    "* Сравнение двух объектов (больше, меньше, равно, ...)\n",
    "* Арифметические операции над объектами\n",
    "* Преобразование объекта в другой тип\n",
    "* ..."
   ]
  },
  {
   "cell_type": "markdown",
   "id": "f9f694ce-17ac-40df-99f1-f2dcd982cd5e",
   "metadata": {
    "editable": true,
    "slideshow": {
     "slide_type": "slide"
    },
    "tags": []
   },
   "source": [
    "### Пример: Представление объекта в виде строки"
   ]
  },
  {
   "cell_type": "code",
   "execution_count": 8,
   "id": "3bb64eb0-9697-42ed-add2-5769837d826c",
   "metadata": {
    "editable": true,
    "slideshow": {
     "slide_type": "fragment"
    },
    "tags": []
   },
   "outputs": [
    {
     "name": "stdout",
     "output_type": "stream",
     "text": [
      "1.1 + 2.2i\n"
     ]
    }
   ],
   "source": [
    "class Complex:\n",
    "\n",
    "    def __init__(self, re, im):\n",
    "        self.re = re\n",
    "        self.im = im\n",
    "\n",
    "    def __str__(self):\n",
    "        return \"{} + {}i\".format(self.re, self.im)\n",
    "\n",
    "x = Complex(1.1, 2.2)\n",
    "print(x)"
   ]
  },
  {
   "cell_type": "markdown",
   "id": "96e571b6-e452-4411-8617-a985b064b6de",
   "metadata": {
    "editable": true,
    "slideshow": {
     "slide_type": "slide"
    },
    "tags": []
   },
   "source": [
    "## Интерфейсные методы объектов"
   ]
  },
  {
   "cell_type": "markdown",
   "id": "39363e45-87be-45b6-a2d0-cd296cbf7595",
   "metadata": {
    "editable": true,
    "slideshow": {
     "slide_type": ""
    },
    "tags": []
   },
   "source": [
    "Их еще называют магическими (magic) или dunder methods. Объект, в зависимости от его концепции, реализует те или иные интерфейсные методы.\n",
    "\n",
    "Общие методы:\n",
    "* \\_\\_init__\n",
    "* \\_\\_repr__\n",
    "* \\_\\_str__\n",
    "* \\_\\_hash__\n",
    "* \\_\\_call__\n",
    "\n",
    "https://piotr.gg/python/python3-dunder-methods-summary.html"
   ]
  },
  {
   "cell_type": "markdown",
   "id": "79b918f7-5d93-4fd4-b568-e1123c92d321",
   "metadata": {
    "editable": true,
    "slideshow": {
     "slide_type": "slide"
    },
    "tags": []
   },
   "source": [
    "## Принципы ООП\n",
    "\n",
    "* Абстракция (class)\n",
    "* Инкапсуляция\n",
    "* Наследование\n",
    "* Полиморфизм (интерфейсные методы)\n"
   ]
  },
  {
   "cell_type": "markdown",
   "id": "0e56aad5-ffaa-4526-9637-75ca43e5c769",
   "metadata": {
    "editable": true,
    "slideshow": {
     "slide_type": "slide"
    },
    "tags": []
   },
   "source": [
    "## Приватные поля и методы"
   ]
  },
  {
   "cell_type": "code",
   "execution_count": 9,
   "id": "207e8e7d-03cf-4ea1-9930-c4c05b88fd9a",
   "metadata": {
    "editable": true,
    "slideshow": {
     "slide_type": "fragment"
    },
    "tags": []
   },
   "outputs": [],
   "source": [
    "class A:\n",
    "\n",
    "    def __init__(self):\n",
    "        self.__value = 10\n",
    "\n",
    "    def f(self):\n",
    "        print(self.__value)"
   ]
  },
  {
   "cell_type": "code",
   "execution_count": 10,
   "id": "4c53ff6a-e24d-4882-bb52-a3935ab83ec4",
   "metadata": {
    "editable": true,
    "slideshow": {
     "slide_type": "fragment"
    },
    "tags": []
   },
   "outputs": [
    {
     "name": "stdout",
     "output_type": "stream",
     "text": [
      "10\n"
     ]
    },
    {
     "ename": "AttributeError",
     "evalue": "'A' object has no attribute '__value'",
     "output_type": "error",
     "traceback": [
      "\u001b[0;31m---------------------------------------------------------------------------\u001b[0m",
      "\u001b[0;31mAttributeError\u001b[0m                            Traceback (most recent call last)",
      "\u001b[0;32m/tmp/ipykernel_85601/501704421.py\u001b[0m in \u001b[0;36m<module>\u001b[0;34m\u001b[0m\n\u001b[1;32m      1\u001b[0m \u001b[0ma\u001b[0m \u001b[0;34m=\u001b[0m \u001b[0mA\u001b[0m\u001b[0;34m(\u001b[0m\u001b[0;34m)\u001b[0m\u001b[0;34m\u001b[0m\u001b[0;34m\u001b[0m\u001b[0m\n\u001b[0;32m----> 2\u001b[0;31m \u001b[0mprint\u001b[0m\u001b[0;34m(\u001b[0m\u001b[0ma\u001b[0m\u001b[0;34m.\u001b[0m\u001b[0mf\u001b[0m\u001b[0;34m(\u001b[0m\u001b[0;34m)\u001b[0m\u001b[0;34m,\u001b[0m \u001b[0ma\u001b[0m\u001b[0;34m.\u001b[0m\u001b[0m__value\u001b[0m\u001b[0;34m)\u001b[0m\u001b[0;34m\u001b[0m\u001b[0;34m\u001b[0m\u001b[0m\n\u001b[0m",
      "\u001b[0;31mAttributeError\u001b[0m: 'A' object has no attribute '__value'"
     ]
    }
   ],
   "source": [
    "a = A()\n",
    "print(a.f(), a.__value)"
   ]
  },
  {
   "cell_type": "code",
   "execution_count": null,
   "id": "dc053339-b732-40fb-aa61-52202086f980",
   "metadata": {
    "editable": true,
    "slideshow": {
     "slide_type": "fragment"
    },
    "tags": []
   },
   "outputs": [],
   "source": [
    "a = A()\n",
    "a.f()"
   ]
  },
  {
   "cell_type": "markdown",
   "id": "46d6679f-4395-46a2-8473-6493ed992fc7",
   "metadata": {
    "editable": true,
    "slideshow": {
     "slide_type": "slide"
    },
    "tags": []
   },
   "source": [
    "Приватные поля и методы могут только использоваться внутри класса (инкапсуляция)"
   ]
  },
  {
   "cell_type": "code",
   "execution_count": null,
   "id": "e66e2ddd-732f-4dd9-a805-d2f867f4e851",
   "metadata": {
    "editable": true,
    "slideshow": {
     "slide_type": "fragment"
    },
    "tags": []
   },
   "outputs": [],
   "source": [
    "class A:\n",
    "\n",
    "    def __init__(self):\n",
    "        self.__a = 10\n",
    "    \n",
    "    def __f(self):\n",
    "        pass\n",
    "    \n",
    "    def f(self):\n",
    "        self.__f()\n",
    "\n",
    "a = A()\n",
    "a.f()"
   ]
  },
  {
   "cell_type": "markdown",
   "id": "474c44bd-4542-4dd0-8b85-eba06f6cdbc5",
   "metadata": {},
   "source": [
    "## Поля класса"
   ]
  },
  {
   "cell_type": "code",
   "execution_count": null,
   "id": "b625a8e3-10fa-496b-9a27-7bdd1baa45dd",
   "metadata": {},
   "outputs": [],
   "source": [
    "class A:\n",
    "    MAX_COORD = 10\n",
    "\n",
    "x1 = A()\n",
    "x2 = A()\n",
    "#x1.MAX_COORD = 100\n",
    "print(x1.MAX_COORD, x2.MAX_COORD)\n",
    "\n",
    "print(id(x1.MAX_COORD), id(x2.MAX_COORD))"
   ]
  },
  {
   "cell_type": "markdown",
   "id": "79e25414-f24f-4291-8502-f3f29f0afead",
   "metadata": {},
   "source": [
    "## Методы типа @classmethod"
   ]
  },
  {
   "cell_type": "code",
   "execution_count": null,
   "id": "44557a9b-0892-400c-89de-4e612dd33a59",
   "metadata": {},
   "outputs": [],
   "source": [
    "class A:\n",
    "    a = 10\n",
    "\n",
    "    @classmethod\n",
    "    def set_a(cls, value):\n",
    "        cls.a = value\n",
    "\n",
    "x1 = A()\n",
    "x2 = A()\n",
    "x2.a = 20\n",
    "print(x1.a, x2.a)\n",
    "\n",
    "x2 = A()\n",
    "x2.set_a(30)\n",
    "print(x1.a, x2.a)"
   ]
  },
  {
   "cell_type": "markdown",
   "id": "233e7cd8-dcf1-4db4-b2df-12aa65fd0fe4",
   "metadata": {
    "editable": true,
    "slideshow": {
     "slide_type": "slide"
    },
    "tags": []
   },
   "source": [
    "## Наследование\n",
    "\n",
    "* Наследование функций и методов.\n",
    "* Класс-родитель - класс, от которого производится наследование.\n",
    "* Класс-потомок - класс, который наследует функции и методы класса-родителя"
   ]
  },
  {
   "cell_type": "markdown",
   "id": "f3b5a54a-5009-4614-9983-25db47b16921",
   "metadata": {},
   "source": [
    "### Наследование методов"
   ]
  },
  {
   "cell_type": "code",
   "execution_count": null,
   "id": "a8ba0e56-1380-493e-b027-8ae3726da54c",
   "metadata": {},
   "outputs": [],
   "source": [
    "class A:\n",
    "    def a(self):\n",
    "        return 'A'\n",
    "\n",
    "class B(A):\n",
    "    def b(self):\n",
    "        return 'B'\n",
    "\n",
    "x = B()\n",
    "print(x.a(), x.b())"
   ]
  },
  {
   "cell_type": "markdown",
   "id": "2915077d-ac13-4226-98da-cd8b47849a82",
   "metadata": {
    "editable": true,
    "slideshow": {
     "slide_type": "slide"
    },
    "tags": []
   },
   "source": [
    "### Простое наследование"
   ]
  },
  {
   "cell_type": "code",
   "execution_count": null,
   "id": "7da9a682-b52a-4b8d-b74a-5d6e883546b1",
   "metadata": {
    "editable": true,
    "slideshow": {
     "slide_type": "fragment"
    },
    "tags": []
   },
   "outputs": [],
   "source": [
    "class A:\n",
    "    def __init__(self):\n",
    "        self.a = 10\n",
    "\n",
    "class B(A):\n",
    "    def __init__(self):\n",
    "        super().__init__()\n",
    "        self.b = 20\n",
    "\n",
    "x = B()\n",
    "print(x.a, x.b)"
   ]
  },
  {
   "cell_type": "markdown",
   "id": "62dd0a7c-1254-45ea-955d-d9a251c3377d",
   "metadata": {
    "editable": true,
    "slideshow": {
     "slide_type": ""
    },
    "tags": []
   },
   "source": [
    "### Множественное наследование в Python"
   ]
  },
  {
   "cell_type": "code",
   "execution_count": null,
   "id": "e6908300-356a-43fe-affa-74eb0345746f",
   "metadata": {
    "editable": true,
    "slideshow": {
     "slide_type": ""
    },
    "tags": []
   },
   "outputs": [],
   "source": [
    "class A:\n",
    "    def a(self):\n",
    "        return 'A'\n",
    "\n",
    "class B:\n",
    "    def b(self):\n",
    "        return 'B'\n",
    "\n",
    "class C(A, B):\n",
    "    def c(self):\n",
    "        return 'C'\n",
    "\n",
    "x = C()\n",
    "print(x.a(), x.b(), x.c())"
   ]
  },
  {
   "cell_type": "markdown",
   "id": "506a3e52-c969-4edf-b06a-a479a93b8de8",
   "metadata": {
    "editable": true,
    "slideshow": {
     "slide_type": "slide"
    },
    "tags": []
   },
   "source": [
    "### Вызов конструктора базового класса"
   ]
  },
  {
   "cell_type": "code",
   "execution_count": null,
   "id": "09f217bb-2a22-41bf-a90b-f9301be9f68e",
   "metadata": {
    "editable": true,
    "slideshow": {
     "slide_type": "fragment"
    },
    "tags": []
   },
   "outputs": [],
   "source": [
    "class A:\n",
    "    def __init__(self):\n",
    "        self.a = 'A';\n",
    "\n",
    "class B(A):\n",
    "    def __init__(self):\n",
    "        super().__init__()\n",
    "        self.b = 'B'\n",
    "\n",
    "b = B()\n",
    "print(b.a, b.b)"
   ]
  },
  {
   "cell_type": "code",
   "execution_count": null,
   "id": "f0004e52-bb3b-4031-922e-1d713f71d614",
   "metadata": {
    "editable": true,
    "slideshow": {
     "slide_type": "subslide"
    },
    "tags": []
   },
   "outputs": [],
   "source": [
    "class A:\n",
    "    def __init__(self):\n",
    "        self.a = 'A';\n",
    "\n",
    "class B:\n",
    "    def __init__(self):\n",
    "        self.b = 'B'\n",
    "\n",
    "class C(A, B):\n",
    "    def __init__(self):\n",
    "        A.__init__(self)\n",
    "        B.__init__(self)\n",
    "        self.c = 'C'\n",
    "\n",
    "b = C()\n",
    "print(b.a, b.b, b.c)"
   ]
  },
  {
   "cell_type": "markdown",
   "id": "2ba1b6bd-7aa9-4c9a-ab2f-a28852dd79e7",
   "metadata": {
    "editable": true,
    "slideshow": {
     "slide_type": "slide"
    },
    "tags": []
   },
   "source": [
    "### Переопределение поля в наследнике"
   ]
  },
  {
   "cell_type": "code",
   "execution_count": 6,
   "id": "a1085dc0-f7ff-4f46-8d8e-11840b5d2743",
   "metadata": {
    "editable": true,
    "slideshow": {
     "slide_type": ""
    },
    "tags": []
   },
   "outputs": [
    {
     "name": "stdout",
     "output_type": "stream",
     "text": [
      "B\n",
      "B\n"
     ]
    }
   ],
   "source": [
    "a = 'HELLO'\n",
    "\n",
    "class A:\n",
    "    def __init__(self):\n",
    "        self.a = 'A'\n",
    "\n",
    "class B(A):\n",
    "    def __init__(self):\n",
    "        super().__init__()\n",
    "        self.a = 'B'\n",
    "\n",
    "    def f(self):\n",
    "        return self.a\n",
    "\n",
    "b = B()\n",
    "print(b.a)\n",
    "print(b.f())"
   ]
  },
  {
   "cell_type": "markdown",
   "id": "2ac39714-c3bd-448f-8af1-c1038fb9da0e",
   "metadata": {
    "editable": true,
    "slideshow": {
     "slide_type": "slide"
    },
    "tags": []
   },
   "source": [
    "### Приватные поля и методы класса не видны в наследнике"
   ]
  },
  {
   "cell_type": "code",
   "execution_count": 12,
   "id": "4e197764-3816-4076-b117-a479e7fabb46",
   "metadata": {
    "editable": true,
    "slideshow": {
     "slide_type": "fragment"
    },
    "tags": []
   },
   "outputs": [
    {
     "name": "stdout",
     "output_type": "stream",
     "text": [
      "10\n"
     ]
    }
   ],
   "source": [
    "class A:\n",
    "    \n",
    "    def __init__(self):\n",
    "        self._a = 10\n",
    "\n",
    "    def fa(self):\n",
    "        pass\n",
    "\n",
    "class B(A):\n",
    "    \n",
    "    def __init__(self):\n",
    "        super().__init__()\n",
    "\n",
    "    def f(self):\n",
    "        # print(self.__a)\n",
    "        self.fa()\n",
    "        \n",
    "a = B()\n",
    "a.f()\n",
    "print(a._a)"
   ]
  },
  {
   "cell_type": "markdown",
   "id": "3aa42e14-f10a-4c4a-abd2-968c94622b61",
   "metadata": {
    "editable": true,
    "slideshow": {
     "slide_type": "slide"
    },
    "tags": []
   },
   "source": [
    "## Полиморфизм\n",
    "\n",
    "* В буквальном значении полиморфизм означает множество форм.\n",
    "* Способность функции обрабатывать данные разных типов.\n",
    "* В разных языках программирования применяются разные виды полиморфизма.\n"
   ]
  },
  {
   "cell_type": "markdown",
   "id": "bb7beb66-2a41-464b-87ad-d4d99ee47a57",
   "metadata": {
    "editable": true,
    "slideshow": {
     "slide_type": "slide"
    },
    "tags": []
   },
   "source": [
    "### Полиморфизм функций\n",
    "\n",
    "В Python есть некоторые функции, которые могут принимать аргументы разных типов."
   ]
  },
  {
   "cell_type": "code",
   "execution_count": null,
   "id": "9d801faa-d6be-4da4-875f-28f3f18a8649",
   "metadata": {
    "editable": true,
    "slideshow": {
     "slide_type": "fragment"
    },
    "tags": []
   },
   "outputs": [],
   "source": [
    "print(len(\"Строка\"))\n",
    "print(len([\"Python\", \"Java\", \"C\"]))\n",
    "print(len({\"Name\": \"Миша\", \"Address\": \"Россия\"}))"
   ]
  },
  {
   "cell_type": "markdown",
   "id": "01639047-f759-44d5-8224-0871c38002ba",
   "metadata": {
    "editable": true,
    "slideshow": {
     "slide_type": "slide"
    },
    "tags": []
   },
   "source": [
    "### Полиморфизм объектов\n",
    "Когда объект одного класса представляется как объект другого класса."
   ]
  },
  {
   "cell_type": "code",
   "execution_count": null,
   "id": "2901d435-c0cf-43d1-902b-751f85cdcc6e",
   "metadata": {
    "editable": true,
    "slideshow": {
     "slide_type": "fragment"
    },
    "tags": []
   },
   "outputs": [],
   "source": [
    "class Cat:\n",
    "    def info(self):\n",
    "        return \"Кошка\"\n",
    "\n",
    "class Dog:\n",
    "    def info(self):\n",
    "        return \"Собака\"\n",
    "\n",
    "animals = []\n",
    "animals.append(Cat())\n",
    "animals.append(Dog())\n",
    "\n",
    "for x in animals:\n",
    "    print(x.info())"
   ]
  },
  {
   "cell_type": "markdown",
   "id": "a8e0d9b9-eb09-4998-8e33-67c351858651",
   "metadata": {
    "editable": true,
    "slideshow": {
     "slide_type": "slide"
    },
    "tags": []
   },
   "source": [
    "### Полиморфизм и наследование\n",
    "\n",
    "Какой метод будет вызван?"
   ]
  },
  {
   "cell_type": "code",
   "execution_count": 19,
   "id": "0e990881-c5e7-4669-990c-ca3d6cf4138c",
   "metadata": {
    "editable": true,
    "slideshow": {
     "slide_type": "fragment"
    },
    "tags": []
   },
   "outputs": [],
   "source": [
    "class A:\n",
    "    def f(self):\n",
    "        print(\"A\")\n",
    "\n",
    "class B(A):\n",
    "    pass\n",
    "    #def f(self):\n",
    "    #    print(\"B\")\n",
    "\n",
    "a = B()\n",
    "# a.f() - какая функция будет вызвана"
   ]
  },
  {
   "cell_type": "code",
   "execution_count": 20,
   "id": "f7241185-cf41-4f16-86f3-8e1935e86c95",
   "metadata": {
    "editable": true,
    "slideshow": {
     "slide_type": "fragment"
    },
    "tags": []
   },
   "outputs": [
    {
     "name": "stdout",
     "output_type": "stream",
     "text": [
      "A\n"
     ]
    }
   ],
   "source": [
    "a.f()"
   ]
  },
  {
   "cell_type": "markdown",
   "id": "1546cf56-4b19-496f-b903-6015b5d41990",
   "metadata": {
    "editable": true,
    "slideshow": {
     "slide_type": "slide"
    },
    "tags": []
   },
   "source": [
    "## Композиция объектов"
   ]
  },
  {
   "cell_type": "code",
   "execution_count": null,
   "id": "c602cf2a-9109-4ec0-8dbc-5aea7c9bb811",
   "metadata": {
    "editable": true,
    "slideshow": {
     "slide_type": "subslide"
    },
    "tags": []
   },
   "outputs": [],
   "source": [
    "class A:\n",
    "\n",
    "    def __init__(self):\n",
    "        self.a = 10\n",
    "\n",
    "    def fa(self):\n",
    "        return \"Hello\"\n",
    "\n",
    "class B:\n",
    "\n",
    "    def __init__(self):\n",
    "        self.b = A()\n",
    "    \n",
    "    def fb(self):\n",
    "        return self.b\n",
    "\n",
    "b = B()\n",
    "print(b.b.a)\n",
    "print(b.fb().fa())"
   ]
  },
  {
   "cell_type": "code",
   "execution_count": null,
   "id": "6587c38f-30a7-4feb-8938-6bea791b830a",
   "metadata": {
    "editable": true,
    "slideshow": {
     "slide_type": ""
    },
    "tags": []
   },
   "outputs": [],
   "source": [
    "## Примеры"
   ]
  },
  {
   "cell_type": "markdown",
   "id": "ef6e64ee-6a87-4516-a9c2-ef884d685095",
   "metadata": {
    "editable": true,
    "slideshow": {
     "slide_type": "slide"
    },
    "tags": []
   },
   "source": [
    "### Пример: NumPy"
   ]
  },
  {
   "cell_type": "code",
   "execution_count": 21,
   "id": "e32e7be9-1c1d-4e69-b31f-02ee47051ca1",
   "metadata": {
    "editable": true,
    "slideshow": {
     "slide_type": "fragment"
    },
    "tags": []
   },
   "outputs": [
    {
     "name": "stdout",
     "output_type": "stream",
     "text": [
      "(10,)\n",
      "45\n",
      "[False False False False False False  True  True  True  True]\n",
      "[6 7 8 9]\n"
     ]
    }
   ],
   "source": [
    "import numpy as np\n",
    "a = np.array(range(10))    # a - объект\n",
    "print(a.shape)                   # a.shape - поле (состояние)\n",
    "print(a.sum())                   # a.sum() - метод (поведение)\n",
    "\n",
    "x = a > 5                        # a.__gt__\n",
    "print(x)\n",
    "\n",
    "x = a[a > 5]                     # a.__getitem__\n",
    "print(x)"
   ]
  },
  {
   "cell_type": "markdown",
   "id": "9d25e5d1-48e7-4f04-85cc-8811b2da4211",
   "metadata": {
    "editable": true,
    "slideshow": {
     "slide_type": "slide"
    },
    "tags": []
   },
   "source": [
    "### Пример: Интерфейс в стиле NumPy"
   ]
  },
  {
   "cell_type": "code",
   "execution_count": 29,
   "id": "541d2cf7-8c9b-4d86-8df1-31024799632e",
   "metadata": {
    "editable": true,
    "slideshow": {
     "slide_type": "fragment"
    },
    "tags": []
   },
   "outputs": [
    {
     "name": "stdout",
     "output_type": "stream",
     "text": [
      "__getitem__:  Hello\n",
      "1\n"
     ]
    }
   ],
   "source": [
    "class A:\n",
    "\n",
    "    def __eq__(self, value):\n",
    "        return value\n",
    "    \n",
    "    def __getitem__(self, index):\n",
    "        print(\"__getitem__: \", index)\n",
    "        return \"1\"\n",
    "\n",
    "a = A()\n",
    "# print(a[456])\n",
    "# print(a[1:2])\n",
    "# print(a > 10)\n",
    "print(a[a == \"Hello\"])"
   ]
  },
  {
   "cell_type": "markdown",
   "id": "045d1522-f54d-440b-a981-71c8ac3cca7f",
   "metadata": {
    "editable": true,
    "slideshow": {
     "slide_type": "slide"
    },
    "tags": []
   },
   "source": [
    "### Пример: Менеджер контекста"
   ]
  },
  {
   "cell_type": "code",
   "execution_count": 1,
   "id": "87e76399-0bdf-4e96-a04c-dd89f58d492d",
   "metadata": {
    "editable": true,
    "slideshow": {
     "slide_type": "fragment"
    },
    "tags": []
   },
   "outputs": [
    {
     "name": "stdout",
     "output_type": "stream",
     "text": [
      "ВХОД\n",
      "Готов бросить исключение...\n",
      "ВЫХОД\n",
      "Исключение:  Hello\n"
     ]
    }
   ],
   "source": [
    "class MyContextManager:\n",
    "    def __enter__(self):\n",
    "        print(\"ВХОД\")\n",
    "    def __exit__(self, exc_type, exc_val, exc_tb):\n",
    "        print(\"ВЫХОД\")\n",
    "\n",
    "try:\n",
    "    with MyContextManager() as x:\n",
    "        print(\"Готов бросить исключение...\")\n",
    "        raise Exception(\"Hello\")\n",
    "        print(\"Бросил!\")\n",
    "except Exception as e:\n",
    "    print(\"Исключение: \", e)\n"
   ]
  },
  {
   "cell_type": "markdown",
   "id": "680635ee-1987-42c6-b0e2-e86b78e0dae0",
   "metadata": {
    "editable": true,
    "slideshow": {
     "slide_type": "slide"
    },
    "tags": []
   },
   "source": [
    "## Вопросы"
   ]
  },
  {
   "cell_type": "code",
   "execution_count": null,
   "id": "469ef68b-3ea8-49f0-b0b5-3e338dd095d7",
   "metadata": {
    "editable": true,
    "slideshow": {
     "slide_type": "subslide"
    },
    "tags": []
   },
   "outputs": [],
   "source": [
    "del b\n",
    "\n",
    "class B:\n",
    "    b = 20\n",
    "    def f(self):\n",
    "        return b\n",
    "\n",
    "b = B()\n",
    "# print(b.f()) - ?"
   ]
  },
  {
   "cell_type": "markdown",
   "id": "0e952c2c-c4f7-443b-9cb0-004be203a6fa",
   "metadata": {
    "editable": true,
    "slideshow": {
     "slide_type": "slide"
    },
    "tags": []
   },
   "source": [
    "## Заключение\n",
    "* Объект - состояние и поведение\n",
    "* ООП: классы, объекты, абстракция, инкапсуляция, наследование, полиморфизм\n",
    "* ООП позволяет создавать новые типы\n",
    "* Объекты и классы позволяют реализовать сложные объектные интерфейсы (набор объектов)\n",
    "* Один объект может в себе содержать ссылки на другие объекты\n",
    "* Классы можно определить на других языках и подключить как модуль"
   ]
  }
 ],
 "metadata": {
  "kernelspec": {
   "display_name": "Python 3 (ipykernel)",
   "language": "python",
   "name": "python3"
  },
  "language_info": {
   "codemirror_mode": {
    "name": "ipython",
    "version": 3
   },
   "file_extension": ".py",
   "mimetype": "text/x-python",
   "name": "python",
   "nbconvert_exporter": "python",
   "pygments_lexer": "ipython3",
   "version": "3.10.12"
  },
  "toc": {
   "base_numbering": 0
  }
 },
 "nbformat": 4,
 "nbformat_minor": 5
}
