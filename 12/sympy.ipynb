{
 "cells": [
  {
   "cell_type": "markdown",
   "id": "11821dc1-797b-4796-83e7-0ddb80c6ed77",
   "metadata": {},
   "source": [
    "# Пакет SymPy\n",
    "\n",
    "SymPy is a Python library for symbolic mathematics. It aims to become a full-featured computer algebra system (CAS) while keeping the code as simple as possible in order to be comprehensible and easily extensible. SymPy is written entirely in Python.\n",
    "\n",
    "__Особенности:__\n",
    "* Написан полностью на Python\n",
    "* Свободная лицензия BSD\n",
    "* Использование синтаксиса Python для описания выражений\n",
    "* Не требует других библиотек, кроме mpmath\n",
    "* Может быть встроена в другие приложения"
   ]
  },
  {
   "cell_type": "code",
   "execution_count": 1,
   "id": "e452dfcd-e2a7-4e99-9f52-88664dda02c9",
   "metadata": {},
   "outputs": [],
   "source": [
    "import sympy\n",
    "from sympy import *"
   ]
  },
  {
   "cell_type": "markdown",
   "id": "5da7b69b-e7cc-42e0-83d0-7f320624eb2e",
   "metadata": {},
   "source": [
    "# Символьные переменные"
   ]
  },
  {
   "cell_type": "markdown",
   "id": "3a5a24fa-0aff-4965-8961-9225ee6f22ab",
   "metadata": {},
   "source": [
    "## Создание символьной переменной"
   ]
  },
  {
   "cell_type": "code",
   "execution_count": 23,
   "id": "44f409ee-1c9b-4d31-889b-63caedc2b912",
   "metadata": {},
   "outputs": [
    {
     "data": {
      "text/plain": [
       "sympy.core.symbol.Symbol"
      ]
     },
     "metadata": {},
     "output_type": "display_data"
    },
    {
     "data": {
      "text/latex": [
       "$\\displaystyle x$"
      ],
      "text/plain": [
       "x"
      ]
     },
     "execution_count": 23,
     "metadata": {},
     "output_type": "execute_result"
    }
   ],
   "source": [
    "x = symbols(\"x\")\n",
    "display(type(x))\n",
    "x"
   ]
  },
  {
   "cell_type": "markdown",
   "id": "d3dd3968-d0a9-43fc-a556-8a55a378eac7",
   "metadata": {},
   "source": [
    "## Создание нескольких символьных переменных"
   ]
  },
  {
   "cell_type": "code",
   "execution_count": 24,
   "id": "d345285e-de07-438d-a460-e01b3a147400",
   "metadata": {},
   "outputs": [
    {
     "data": {
      "text/latex": [
       "$\\displaystyle x$"
      ],
      "text/plain": [
       "x"
      ]
     },
     "metadata": {},
     "output_type": "display_data"
    },
    {
     "data": {
      "text/latex": [
       "$\\displaystyle y$"
      ],
      "text/plain": [
       "y"
      ]
     },
     "metadata": {},
     "output_type": "display_data"
    },
    {
     "data": {
      "text/latex": [
       "$\\displaystyle z$"
      ],
      "text/plain": [
       "z"
      ]
     },
     "metadata": {},
     "output_type": "display_data"
    }
   ],
   "source": [
    "x, y, z = symbols(\"x y z\")\n",
    "display(x, y, z)"
   ]
  },
  {
   "cell_type": "code",
   "execution_count": 25,
   "id": "9b625ce1-7d84-4028-93b7-509d868e7d4b",
   "metadata": {},
   "outputs": [
    {
     "data": {
      "text/latex": [
       "$\\displaystyle c$"
      ],
      "text/plain": [
       "c"
      ]
     },
     "metadata": {},
     "output_type": "display_data"
    },
    {
     "data": {
      "text/latex": [
       "$\\displaystyle b$"
      ],
      "text/plain": [
       "b"
      ]
     },
     "metadata": {},
     "output_type": "display_data"
    },
    {
     "data": {
      "text/latex": [
       "$\\displaystyle a$"
      ],
      "text/plain": [
       "a"
      ]
     },
     "metadata": {},
     "output_type": "display_data"
    }
   ],
   "source": [
    "a, b, c = symbols([\"c\", \"b\", \"a\"])\n",
    "display(a, b, c)"
   ]
  },
  {
   "cell_type": "markdown",
   "id": "d1124438-131c-4e9b-ac52-51f08be28499",
   "metadata": {},
   "source": [
    "# Выражения"
   ]
  },
  {
   "cell_type": "markdown",
   "id": "4632f661-102c-45c2-a2b3-8304bb4e7057",
   "metadata": {},
   "source": [
    "## Простое выражение"
   ]
  },
  {
   "cell_type": "code",
   "execution_count": 26,
   "id": "b621f166-0bf0-4493-853c-e12029b2a4f9",
   "metadata": {},
   "outputs": [
    {
     "data": {
      "text/latex": [
       "$\\displaystyle x^{2} + z + \\sin{\\left(y \\right)}$"
      ],
      "text/plain": [
       "x**2 + z + sin(y)"
      ]
     },
     "metadata": {},
     "output_type": "display_data"
    },
    {
     "data": {
      "text/latex": [
       "$\\displaystyle x^{2} + \\sin{\\left(y \\right)}$"
      ],
      "text/plain": [
       "x**2 + sin(y)"
      ]
     },
     "metadata": {},
     "output_type": "display_data"
    }
   ],
   "source": [
    "x, y, z = symbols(\"x y z\")\n",
    "e = x**2 + sympy.sin(y) + z\n",
    "display(e)\n",
    "e = e - z\n",
    "display(e)"
   ]
  },
  {
   "cell_type": "markdown",
   "id": "1643bd99-27ba-44f9-94ae-e5df716019d2",
   "metadata": {},
   "source": [
    "## Символьные переменные и Python переменные\n",
    "\n",
    "Когда выполняется вызов sympy.symbols, создается в памяти новый символьный объект типа sympy.core.symbol.Symbol, ссылка на который при возврате из функции сохраняется в переменной x. Имена символьных объектов могут не совпадать с именами переменных. Но лучше называть их одинаково во избежание затруднений при чтении кода. Операции с символьными объектами создают объекты других типов sympy в зависимости от характера выражения."
   ]
  },
  {
   "cell_type": "code",
   "execution_count": 28,
   "id": "cdc2b2c3-b294-4f6f-8847-9581a31ec5d3",
   "metadata": {},
   "outputs": [
    {
     "data": {
      "text/latex": [
       "$\\displaystyle x$"
      ],
      "text/plain": [
       "x"
      ]
     },
     "metadata": {},
     "output_type": "display_data"
    },
    {
     "data": {
      "text/plain": [
       "140168339200000"
      ]
     },
     "metadata": {},
     "output_type": "display_data"
    },
    {
     "data": {
      "text/plain": [
       "sympy.core.symbol.Symbol"
      ]
     },
     "metadata": {},
     "output_type": "display_data"
    },
    {
     "data": {
      "text/latex": [
       "$\\displaystyle x + 1$"
      ],
      "text/plain": [
       "x + 1"
      ]
     },
     "metadata": {},
     "output_type": "display_data"
    },
    {
     "data": {
      "text/plain": [
       "2"
      ]
     },
     "metadata": {},
     "output_type": "display_data"
    },
    {
     "data": {
      "text/plain": [
       "int"
      ]
     },
     "metadata": {},
     "output_type": "display_data"
    },
    {
     "data": {
      "text/plain": [
       "140168339200000"
      ]
     },
     "metadata": {},
     "output_type": "display_data"
    },
    {
     "data": {
      "text/latex": [
       "$\\displaystyle 1$"
      ],
      "text/plain": [
       "1"
      ]
     },
     "metadata": {},
     "output_type": "display_data"
    },
    {
     "data": {
      "text/plain": [
       "sympy.core.numbers.One"
      ]
     },
     "metadata": {},
     "output_type": "display_data"
    },
    {
     "data": {
      "text/latex": [
       "$\\displaystyle 1$"
      ],
      "text/plain": [
       "1"
      ]
     },
     "metadata": {},
     "output_type": "display_data"
    },
    {
     "data": {
      "text/plain": [
       "sympy.core.numbers.Integer"
      ]
     },
     "metadata": {},
     "output_type": "display_data"
    }
   ],
   "source": [
    "x = symbols(\"x\")\n",
    "e = x + 1\n",
    "display(x, id(x), type(x), e)\n",
    "x = 2\n",
    "display(x, type(x))\n",
    "x = symbols(\"x\")\n",
    "display(id(x))\n",
    "e = e - x\n",
    "display(e, type(e))\n",
    "display(Integer(1), type(Integer(2)))"
   ]
  },
  {
   "cell_type": "markdown",
   "id": "37d1436a-74cf-453f-961a-73f2c268d246",
   "metadata": {},
   "source": [
    "## Использование верхнего и нижнего регистра в печатных названиях символьных переменных"
   ]
  },
  {
   "cell_type": "code",
   "execution_count": 7,
   "id": "774a7c0c-317f-4cab-b54f-c8a98e0e4c64",
   "metadata": {},
   "outputs": [
    {
     "data": {
      "text/latex": [
       "$\\displaystyle a^{i}_{m} + j^{k}_{m}$"
      ],
      "text/plain": [
       "a_m^i + j_m^k"
      ]
     },
     "metadata": {},
     "output_type": "display_data"
    }
   ],
   "source": [
    "ami, jmk = symbols(\"a_m^i, j_m^k\")\n",
    "display(ami + jmk)"
   ]
  },
  {
   "cell_type": "markdown",
   "id": "059e1b8b-a4e1-4e3a-9b94-44fec4b6aabe",
   "metadata": {},
   "source": [
    "## Замена символьных переменных в выражениях числовыми значениями"
   ]
  },
  {
   "cell_type": "code",
   "execution_count": 32,
   "id": "e2abdba1-bffd-442e-9ef9-3bfc7b56d0aa",
   "metadata": {},
   "outputs": [
    {
     "data": {
      "text/latex": [
       "$\\displaystyle y + 1.2$"
      ],
      "text/plain": [
       "y + 1.2"
      ]
     },
     "metadata": {},
     "output_type": "display_data"
    },
    {
     "data": {
      "text/latex": [
       "$\\displaystyle 0.3$"
      ],
      "text/plain": [
       "0.300000000000000"
      ]
     },
     "metadata": {},
     "output_type": "display_data"
    },
    {
     "data": {
      "text/latex": [
       "$\\displaystyle x + y$"
      ],
      "text/plain": [
       "x + y"
      ]
     },
     "metadata": {},
     "output_type": "display_data"
    },
    {
     "data": {
      "text/plain": [
       "sympy.core.numbers.Float"
      ]
     },
     "metadata": {},
     "output_type": "display_data"
    }
   ],
   "source": [
    "x, y = symbols(\"x, y\")\n",
    "e = x + y\n",
    "e1 = e.subs(x, 1.2)\n",
    "e2 = e.subs({x : 0.1, y: 0.2})\n",
    "display(e1, e2, e, type(e2))"
   ]
  },
  {
   "cell_type": "markdown",
   "id": "7837420e-fcce-4c0e-a5fb-f946d69f90fe",
   "metadata": {},
   "source": [
    "## Упрощение выражений"
   ]
  },
  {
   "cell_type": "code",
   "execution_count": 34,
   "id": "e1d2ec4f-ffaa-4341-844c-476b8194ff08",
   "metadata": {},
   "outputs": [
    {
     "data": {
      "text/latex": [
       "$\\displaystyle \\left(x + y\\right)^{2}$"
      ],
      "text/plain": [
       "(x + y)**2"
      ]
     },
     "metadata": {},
     "output_type": "display_data"
    },
    {
     "data": {
      "text/latex": [
       "$\\displaystyle x^{2} + 2 x + y^{2}$"
      ],
      "text/plain": [
       "x**2 + 2*x + y**2"
      ]
     },
     "metadata": {},
     "output_type": "display_data"
    },
    {
     "data": {
      "text/latex": [
       "$\\displaystyle - x^{2} - 2 x - y^{2} + \\left(x + y\\right)^{2}$"
      ],
      "text/plain": [
       "-x**2 - 2*x - y**2 + (x + y)**2"
      ]
     },
     "metadata": {},
     "output_type": "display_data"
    },
    {
     "data": {
      "text/plain": [
       "sympy.core.add.Add"
      ]
     },
     "metadata": {},
     "output_type": "display_data"
    },
    {
     "data": {
      "text/latex": [
       "$\\displaystyle 2 x \\left(y - 1\\right)$"
      ],
      "text/plain": [
       "2*x*(y - 1)"
      ]
     },
     "metadata": {},
     "output_type": "display_data"
    },
    {
     "data": {
      "text/plain": [
       "sympy.core.mul.Mul"
      ]
     },
     "metadata": {},
     "output_type": "display_data"
    }
   ],
   "source": [
    "x, y = symbols(\"x y\")\n",
    "e1 = (x + y)**2\n",
    "e2 = x**2 + 2*x + y**2\n",
    "display(e1, e2)\n",
    "e3 = e1 - e2\n",
    "display(e3, type(e3))\n",
    "e4 = simplify(e1 - e2)\n",
    "display(e4, type(e4))"
   ]
  },
  {
   "cell_type": "markdown",
   "id": "e9ae122a-a80a-44b7-80bd-b0d85b64e384",
   "metadata": {},
   "source": [
    "## Сравнение\n",
    "\n",
    "* Оператор == используется для структурного сравнения выражений (True, если структуры одинаковы)"
   ]
  },
  {
   "cell_type": "code",
   "execution_count": 35,
   "id": "dea24b02-1e36-4b5b-b89c-f79c51a6c16c",
   "metadata": {},
   "outputs": [
    {
     "data": {
      "text/plain": [
       "False"
      ]
     },
     "execution_count": 35,
     "metadata": {},
     "output_type": "execute_result"
    }
   ],
   "source": [
    "x, y = symbols(\"x y\")\n",
    "e1 = (x + y)**2\n",
    "e2 = x**2 + 2*x*y + y**2\n",
    "e1 == e2"
   ]
  },
  {
   "cell_type": "markdown",
   "id": "8bc0131f-deef-4e93-a4d1-f302c678c46f",
   "metadata": {},
   "source": [
    "Для сравнения выражений с разной структурой можно использовать функцию simplify"
   ]
  },
  {
   "cell_type": "code",
   "execution_count": 11,
   "id": "4456ab5d-5fea-472c-a78f-6622860e952f",
   "metadata": {},
   "outputs": [
    {
     "data": {
      "text/plain": [
       "True"
      ]
     },
     "execution_count": 11,
     "metadata": {},
     "output_type": "execute_result"
    }
   ],
   "source": [
    "simplify(e1 - e2) == 0"
   ]
  },
  {
   "cell_type": "markdown",
   "id": "6e09c9b8-9f0e-4d10-ad0e-cb8dad9582a4",
   "metadata": {},
   "source": [
    "## Рациональные дроби\n",
    "\n",
    "Есть проблема - питоновские выражения вначале вычисляются, а потом используются в символьных выражениях. В примере ниже показано, что сложение символьного объекта и числа 1/3, которое неточно представляется в F64, состоит их двух шагов:\n",
    "* вычисление числа (выполнению деления) в F64\n",
    "* прибавление вычисленной константы к символьному объекту"
   ]
  },
  {
   "cell_type": "code",
   "execution_count": 36,
   "id": "c4628867-fd68-4d0f-8750-f19d41dcbee6",
   "metadata": {},
   "outputs": [
    {
     "data": {
      "text/latex": [
       "$\\displaystyle x + 0.333333333333333$"
      ],
      "text/plain": [
       "x + 0.333333333333333"
      ]
     },
     "metadata": {},
     "output_type": "display_data"
    },
    {
     "data": {
      "text/plain": [
       "sympy.core.add.Add"
      ]
     },
     "metadata": {},
     "output_type": "display_data"
    },
    {
     "data": {
      "text/plain": [
       "float"
      ]
     },
     "metadata": {},
     "output_type": "display_data"
    },
    {
     "data": {
      "text/latex": [
       "$\\displaystyle 0.333333333333333$"
      ],
      "text/plain": [
       "0.333333333333333"
      ]
     },
     "metadata": {},
     "output_type": "display_data"
    },
    {
     "data": {
      "text/plain": [
       "sympy.core.numbers.Float"
      ]
     },
     "metadata": {},
     "output_type": "display_data"
    }
   ],
   "source": [
    "x = symbols(\"x\")\n",
    "e = x + 1/3\n",
    "display(e, type(e), type(1/3))\n",
    "e2 = e - x\n",
    "display(e2, type(e2))"
   ]
  },
  {
   "cell_type": "code",
   "execution_count": 37,
   "id": "8595902f-f543-4a97-acdf-707b45cbecf2",
   "metadata": {},
   "outputs": [
    {
     "data": {
      "text/latex": [
       "$\\displaystyle \\frac{1}{2}$"
      ],
      "text/plain": [
       "1/2"
      ]
     },
     "metadata": {},
     "output_type": "display_data"
    },
    {
     "data": {
      "text/plain": [
       "sympy.core.numbers.Half"
      ]
     },
     "metadata": {},
     "output_type": "display_data"
    },
    {
     "data": {
      "text/latex": [
       "$\\displaystyle \\frac{1}{6}$"
      ],
      "text/plain": [
       "1/6"
      ]
     },
     "metadata": {},
     "output_type": "display_data"
    },
    {
     "data": {
      "text/plain": [
       "sympy.core.numbers.Rational"
      ]
     },
     "metadata": {},
     "output_type": "display_data"
    },
    {
     "data": {
      "text/latex": [
       "$\\displaystyle \\frac{1}{2}$"
      ],
      "text/plain": [
       "1/2"
      ]
     },
     "metadata": {},
     "output_type": "display_data"
    },
    {
     "data": {
      "text/plain": [
       "sympy.core.numbers.Half"
      ]
     },
     "metadata": {},
     "output_type": "display_data"
    },
    {
     "data": {
      "text/latex": [
       "$\\displaystyle \\frac{1}{6}$"
      ],
      "text/plain": [
       "1/6"
      ]
     },
     "metadata": {},
     "output_type": "display_data"
    },
    {
     "data": {
      "text/plain": [
       "sympy.core.numbers.Rational"
      ]
     },
     "metadata": {},
     "output_type": "display_data"
    }
   ],
   "source": [
    "v = sympy.Rational(1, 2)\n",
    "display(v, type(v))\n",
    "v = sympy.Rational(1, 6)\n",
    "display(v, type(v))\n",
    "v = sympy.Integer(1) / sympy.Integer(2)\n",
    "display(v, type(v))\n",
    "v = sympy.Integer(1) / sympy.Integer(6)\n",
    "display(v, type(v))"
   ]
  },
  {
   "cell_type": "markdown",
   "id": "17bb1c78-9070-4d38-990c-9418079cc9db",
   "metadata": {},
   "source": [
    "# Печать"
   ]
  },
  {
   "cell_type": "markdown",
   "id": "c572e6eb-0dab-4cd2-8b77-b5585bb5e5df",
   "metadata": {},
   "source": [
    "## MathML"
   ]
  },
  {
   "cell_type": "code",
   "execution_count": 39,
   "id": "48003cd4-3f59-4c7c-964b-ecb05f596372",
   "metadata": {},
   "outputs": [
    {
     "name": "stdout",
     "output_type": "stream",
     "text": [
      "<mrow>\n",
      "\t<mo>&#x222B;</mo>\n",
      "\t<msqrt>\n",
      "\t\t<mfrac>\n",
      "\t\t\t<mn>1</mn>\n",
      "\t\t\t<mi>x</mi>\n",
      "\t\t</mfrac>\n",
      "\t</msqrt>\n",
      "\t<mo>&dd;</mo>\n",
      "\t<mi>x</mi>\n",
      "</mrow>\n",
      "\n"
     ]
    }
   ],
   "source": [
    "from sympy.printing.mathml import print_mathml\n",
    "x = symbols(\"x\")\n",
    "print_mathml(Integral(sqrt(1/x), x), printer=\"presentation\")"
   ]
  },
  {
   "cell_type": "code",
   "execution_count": 15,
   "id": "57502313-85b8-4195-8501-c1f2d953baa1",
   "metadata": {},
   "outputs": [
    {
     "data": {
      "text/html": [
       "<html>\n",
       "<body>\n",
       "<div>Пример: Использование MathML</div>\n",
       "<math xmlns=\"http://www.w3.org/1998/Math/MathML\">\n",
       "<mrow>\n",
       "\t<mo>&#x222B;</mo>\n",
       "\t<msqrt>\n",
       "\t\t<mfrac>\n",
       "\t\t\t<mn>1</mn>\n",
       "\t\t\t<mi>x</mi>\n",
       "\t\t</mfrac>\n",
       "\t</msqrt>\n",
       "\t<mo>&dd;</mo>\n",
       "\t<mi>x</mi>\n",
       "</mrow>\n",
       " </math>\n",
       "</body>\n",
       "</html>\n"
      ],
      "text/plain": [
       "<IPython.core.display.HTML object>"
      ]
     },
     "metadata": {},
     "output_type": "display_data"
    }
   ],
   "source": [
    "%%html\n",
    "<html>\n",
    "<body>\n",
    "<div>Пример: Использование MathML</div>\n",
    "<math xmlns=\"http://www.w3.org/1998/Math/MathML\">\n",
    "<mrow>\n",
    "\t<mo>&#x222B;</mo>\n",
    "\t<msqrt>\n",
    "\t\t<mfrac>\n",
    "\t\t\t<mn>1</mn>\n",
    "\t\t\t<mi>x</mi>\n",
    "\t\t</mfrac>\n",
    "\t</msqrt>\n",
    "\t<mo>&dd;</mo>\n",
    "\t<mi>x</mi>\n",
    "</mrow>\n",
    " </math>\n",
    "</body>\n",
    "</html>"
   ]
  },
  {
   "cell_type": "markdown",
   "id": "718a7a73-8a4d-48f3-ac72-d9a9e10ede5f",
   "metadata": {},
   "source": [
    "# Пример"
   ]
  },
  {
   "cell_type": "markdown",
   "id": "254de665-8938-467d-aa30-79f9bc437d31",
   "metadata": {},
   "source": [
    "# Решение квадратных уравнений"
   ]
  },
  {
   "cell_type": "code",
   "execution_count": 44,
   "id": "de3a4809-2db2-4ced-bf12-21dee308d90e",
   "metadata": {},
   "outputs": [
    {
     "data": {
      "text/latex": [
       "$\\displaystyle \\left\\{- \\frac{b}{2 a} - \\frac{\\sqrt{- 4 a c + b^{2}}}{2 a}, - \\frac{b}{2 a} + \\frac{\\sqrt{- 4 a c + b^{2}}}{2 a}\\right\\}$"
      ],
      "text/plain": [
       "{-b/(2*a) - sqrt(-4*a*c + b**2)/(2*a), -b/(2*a) + sqrt(-4*a*c + b**2)/(2*a)}"
      ]
     },
     "execution_count": 44,
     "metadata": {},
     "output_type": "execute_result"
    }
   ],
   "source": [
    "x, y, *k = symbols(\"x y a b c d\")\n",
    "y = k[0] * x**2 + k[1] * x + k[2]\n",
    "solveset(y, x)"
   ]
  },
  {
   "cell_type": "code",
   "execution_count": 46,
   "id": "88d0d4ad-22c9-4d82-af13-1d05d19b675d",
   "metadata": {},
   "outputs": [
    {
     "data": {
      "text/latex": [
       "$\\displaystyle \\left\\{-1 - i, -1 + i\\right\\}$"
      ],
      "text/plain": [
       "{-1 - I, -1 + I}"
      ]
     },
     "execution_count": 46,
     "metadata": {},
     "output_type": "execute_result"
    }
   ],
   "source": [
    "yy = y.subs({\"a\": 1, \"b\": 2, \"c\": 2})\n",
    "solveset(yy, x)"
   ]
  },
  {
   "cell_type": "markdown",
   "id": "6438effe-883f-4cfd-a411-3e65e9505376",
   "metadata": {},
   "source": [
    "## Расчет аналитической формулы траектории движения"
   ]
  },
  {
   "cell_type": "code",
   "execution_count": 47,
   "id": "1e616c5f-cdcc-468f-81df-92461bf8fb60",
   "metadata": {},
   "outputs": [],
   "source": [
    "import sympy\n",
    "\n",
    "v, vm, v0, v1, h, d, am, taj, ta2, tdj, td2, jm, t = sympy.symbols('v vm v0 v1 h d a_m taj ta2 tdj td2 j_m t')\n",
    "\n",
    "# Время достижения максимального ускорения\n",
    "taj = am / jm\n",
    "\n",
    "# Время достижения максимальной скорости\n",
    "ta2 = (vm - v0) / am - taj\n",
    "\n",
    "# Расчет участка разгона\n",
    "aa1i = jm * t\n",
    "va1  = v0 + sympy.integrate(aa1i, (t, 0, taj))\n",
    "va1i = v0 + sympy.integrate(aa1i, t)\n",
    "ha1  = sympy.integrate(va1i, (t, 0, taj))\n",
    "\n",
    "# Расчет участка постоянного ускорения\n",
    "va2  = va1 + am * ta2\n",
    "va2i = va1 + am * t\n",
    "ha2  = sympy.integrate(va2i, (t, 0, ta2))\n",
    "\n",
    "# Расчет участка замедления\n",
    "aa3i = am - jm * t\n",
    "aa3  = 0\n",
    "va3i = va2 + sympy.integrate(aa3i, t)\n",
    "va3  = va2 + sympy.integrate(aa3i, (t, 0, taj))\n",
    "ha3  = sympy.integrate(va3i, (t, 0, taj))\n",
    "\n",
    "ha = ha1 + ha2 + ha3"
   ]
  },
  {
   "cell_type": "code",
   "execution_count": 19,
   "id": "06ed1f04-c6ed-4897-944d-a4fbe5f18899",
   "metadata": {},
   "outputs": [
    {
     "data": {
      "text/latex": [
       "$\\displaystyle \\frac{a_{m}^{3}}{6 j_{m}^{2}} + \\frac{a_{m} v_{0}}{j_{m}}$"
      ],
      "text/plain": [
       "a_m**3/(6*j_m**2) + a_m*v0/j_m"
      ]
     },
     "metadata": {},
     "output_type": "display_data"
    }
   ],
   "source": [
    "display(ha1)"
   ]
  },
  {
   "cell_type": "code",
   "execution_count": 20,
   "id": "4103fe04-6417-414a-962c-21fd4035b0a0",
   "metadata": {},
   "outputs": [
    {
     "data": {
      "text/latex": [
       "$\\displaystyle \\frac{a_{m} \\left(- \\frac{a_{m}}{j_{m}} + \\frac{- v_{0} + vm}{a_{m}}\\right)^{2}}{2} + \\frac{\\left(a_{m}^{2} + 2 j_{m} v_{0}\\right) \\left(- \\frac{a_{m}}{j_{m}} + \\frac{- v_{0} + vm}{a_{m}}\\right)}{2 j_{m}}$"
      ],
      "text/plain": [
       "a_m*(-a_m/j_m + (-v0 + vm)/a_m)**2/2 + (a_m**2 + 2*j_m*v0)*(-a_m/j_m + (-v0 + vm)/a_m)/(2*j_m)"
      ]
     },
     "metadata": {},
     "output_type": "display_data"
    }
   ],
   "source": [
    "display(ha2)"
   ]
  },
  {
   "cell_type": "code",
   "execution_count": 21,
   "id": "f550bc7e-450d-4193-a5dd-c1bb38685a75",
   "metadata": {},
   "outputs": [
    {
     "data": {
      "text/latex": [
       "$\\displaystyle \\frac{a_{m}^{3}}{3 j_{m}^{2}} + \\frac{a_{m} \\left(- a_{m}^{2} + 2 j_{m} vm\\right)}{2 j_{m}^{2}}$"
      ],
      "text/plain": [
       "a_m**3/(3*j_m**2) + a_m*(-a_m**2 + 2*j_m*vm)/(2*j_m**2)"
      ]
     },
     "metadata": {},
     "output_type": "display_data"
    }
   ],
   "source": [
    "display(ha3)"
   ]
  },
  {
   "cell_type": "code",
   "execution_count": 22,
   "id": "9bf526fb-fa20-4f9e-bdae-9588b41fb249",
   "metadata": {},
   "outputs": [
    {
     "data": {
      "text/latex": [
       "$\\displaystyle \\frac{a_{m}^{2} v_{0} + a_{m}^{2} vm - j_{m} v_{0}^{2} + j_{m} vm^{2}}{2 a_{m} j_{m}}$"
      ],
      "text/plain": [
       "(a_m**2*v0 + a_m**2*vm - j_m*v0**2 + j_m*vm**2)/(2*a_m*j_m)"
      ]
     },
     "metadata": {},
     "output_type": "display_data"
    }
   ],
   "source": [
    "display(sympy.simplify(ha))"
   ]
  }
 ],
 "metadata": {
  "kernelspec": {
   "display_name": "Python 3 (ipykernel)",
   "language": "python",
   "name": "python3"
  },
  "language_info": {
   "codemirror_mode": {
    "name": "ipython",
    "version": 3
   },
   "file_extension": ".py",
   "mimetype": "text/x-python",
   "name": "python",
   "nbconvert_exporter": "python",
   "pygments_lexer": "ipython3",
   "version": "3.10.12"
  }
 },
 "nbformat": 4,
 "nbformat_minor": 5
}
